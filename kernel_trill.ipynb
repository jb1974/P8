{
 "cells": [
  {
   "cell_type": "markdown",
   "id": "de6657b0",
   "metadata": {
    "papermill": {
     "duration": 0.052922,
     "end_time": "2022-05-23T08:08:05.726439",
     "exception": false,
     "start_time": "2022-05-23T08:08:05.673517",
     "status": "completed"
    },
    "tags": []
   },
   "source": [
    "# Import"
   ]
  },
  {
   "cell_type": "code",
   "execution_count": 1,
   "id": "cb0a9d35",
   "metadata": {
    "execution": {
     "iopub.execute_input": "2022-05-23T08:08:05.836277Z",
     "iopub.status.busy": "2022-05-23T08:08:05.835427Z",
     "iopub.status.idle": "2022-05-23T08:08:14.876447Z",
     "shell.execute_reply": "2022-05-23T08:08:14.875407Z"
    },
    "papermill": {
     "duration": 9.099296,
     "end_time": "2022-05-23T08:08:14.879257",
     "exception": false,
     "start_time": "2022-05-23T08:08:05.779961",
     "status": "completed"
    },
    "tags": []
   },
   "outputs": [],
   "source": [
    "# Misc\n",
    "import os\n",
    "import json\n",
    "import joblib\n",
    "import warnings\n",
    "\n",
    "# Data management\n",
    "import numpy as np\n",
    "import pandas as pd\n",
    "\n",
    "# Sound treatments\n",
    "import librosa\n",
    "import soundfile as sf\n",
    "from scipy import signal\n",
    "\n",
    "# TRILL\n",
    "import tensorflow.compat.v2 as tf\n",
    "tf.enable_v2_behavior()\n",
    "assert tf.executing_eagerly()\n",
    "import tensorflow_hub as hub\n",
    "\n",
    "## Metrics\n",
    "import tensorflow_addons as tfa\n",
    "from tensorflow_addons.layers.netvlad import NetVLAD\n",
    "\n",
    "# Plot\n",
    "import matplotlib.pyplot as plt"
   ]
  },
  {
   "cell_type": "markdown",
   "id": "1e47e062",
   "metadata": {
    "papermill": {
     "duration": 0.053599,
     "end_time": "2022-05-23T08:08:14.985240",
     "exception": false,
     "start_time": "2022-05-23T08:08:14.931641",
     "status": "completed"
    },
    "tags": []
   },
   "source": [
    "# Environment"
   ]
  },
  {
   "cell_type": "code",
   "execution_count": 2,
   "id": "a6c8449d",
   "metadata": {
    "execution": {
     "iopub.execute_input": "2022-05-23T08:08:15.095377Z",
     "iopub.status.busy": "2022-05-23T08:08:15.095069Z",
     "iopub.status.idle": "2022-05-23T08:08:15.101679Z",
     "shell.execute_reply": "2022-05-23T08:08:15.100703Z"
    },
    "papermill": {
     "duration": 0.06649,
     "end_time": "2022-05-23T08:08:15.105435",
     "exception": false,
     "start_time": "2022-05-23T08:08:15.038945",
     "status": "completed"
    },
    "tags": []
   },
   "outputs": [
    {
     "name": "stdout",
     "output_type": "stream",
     "text": [
      "TensorFlow Version: 2.6.0\n"
     ]
    }
   ],
   "source": [
    "# Inactivate warnings\n",
    "warnings.filterwarnings('ignore')\n",
    "\n",
    "# Allow to display all dataframes columns\n",
    "pd.set_option(\"display.max_columns\", None)\n",
    "\n",
    "# Display Tensorlfow version\n",
    "print('TensorFlow Version: {}'.format(tf.__version__))"
   ]
  },
  {
   "cell_type": "code",
   "execution_count": 3,
   "id": "a287b4cf",
   "metadata": {
    "execution": {
     "iopub.execute_input": "2022-05-23T08:08:15.215744Z",
     "iopub.status.busy": "2022-05-23T08:08:15.215410Z",
     "iopub.status.idle": "2022-05-23T08:08:15.220587Z",
     "shell.execute_reply": "2022-05-23T08:08:15.219528Z"
    },
    "papermill": {
     "duration": 0.061936,
     "end_time": "2022-05-23T08:08:15.222953",
     "exception": false,
     "start_time": "2022-05-23T08:08:15.161017",
     "status": "completed"
    },
    "tags": []
   },
   "outputs": [],
   "source": [
    "#DATA_PATH = '/kaggle/input/birdclef-2022/'\n",
    "#WORKING_PATH = '/kaggle/working/'\n",
    "#TRILL_PATH = '/kaggle/input/ziptrill/'\n",
    "#MODEL_PATH = '/kaggle/input/trillmodels/'\n",
    "\n",
    "DATA_PATH = './data/'\n",
    "WORKING_PATH = './working/kernel/'\n",
    "TRILL_PATH = './working/kernel/trill/'\n",
    "MODEL_PATH = './working/kernel/'\n",
    "\n",
    "strategy = 3"
   ]
  },
  {
   "cell_type": "markdown",
   "id": "b7c957fa",
   "metadata": {
    "papermill": {
     "duration": 0.053198,
     "end_time": "2022-05-23T08:08:15.329717",
     "exception": false,
     "start_time": "2022-05-23T08:08:15.276519",
     "status": "completed"
    },
    "tags": []
   },
   "source": [
    "# Data load"
   ]
  },
  {
   "cell_type": "code",
   "execution_count": 4,
   "id": "0c3896cc",
   "metadata": {
    "execution": {
     "iopub.execute_input": "2022-05-23T08:08:15.439985Z",
     "iopub.status.busy": "2022-05-23T08:08:15.439651Z",
     "iopub.status.idle": "2022-05-23T08:08:15.573371Z",
     "shell.execute_reply": "2022-05-23T08:08:15.572414Z"
    },
    "papermill": {
     "duration": 0.191936,
     "end_time": "2022-05-23T08:08:15.575525",
     "exception": false,
     "start_time": "2022-05-23T08:08:15.383589",
     "status": "completed"
    },
    "tags": []
   },
   "outputs": [
    {
     "data": {
      "text/plain": [
       "['akiapo',\n",
       " 'aniani',\n",
       " 'apapan',\n",
       " 'barpet',\n",
       " 'crehon',\n",
       " 'elepai',\n",
       " 'ercfra',\n",
       " 'hawama',\n",
       " 'hawcre',\n",
       " 'hawgoo',\n",
       " 'hawhaw',\n",
       " 'hawpet1',\n",
       " 'houfin',\n",
       " 'iiwi',\n",
       " 'jabwar',\n",
       " 'maupar',\n",
       " 'omao',\n",
       " 'puaioh',\n",
       " 'skylar',\n",
       " 'warwhe1',\n",
       " 'yefcan']"
      ]
     },
     "execution_count": 4,
     "metadata": {},
     "output_type": "execute_result"
    }
   ],
   "source": [
    "# Load meta data\n",
    "train_meta = pd.read_csv(DATA_PATH + 'train_metadata.csv', sep=',', decimal='.', encoding='utf8', low_memory=False)\n",
    "\n",
    "# Load scored birds\n",
    "with open(DATA_PATH + 'scored_birds.json') as sbfile:\n",
    "    scored_birds = json.load(sbfile)\n",
    "    \n",
    "# Focus on 21 scored classes\n",
    "labels = list(train_meta[train_meta['primary_label'].isin(scored_birds)]['primary_label'].unique())\n",
    "labels"
   ]
  },
  {
   "cell_type": "markdown",
   "id": "4ababe2f",
   "metadata": {
    "papermill": {
     "duration": 0.063374,
     "end_time": "2022-05-23T08:09:26.304104",
     "exception": false,
     "start_time": "2022-05-23T08:09:26.240730",
     "status": "completed"
    },
    "tags": []
   },
   "source": [
    "# Modelization"
   ]
  },
  {
   "cell_type": "markdown",
   "id": "6bebd488",
   "metadata": {
    "papermill": {
     "duration": 0.064814,
     "end_time": "2022-05-23T08:09:26.432590",
     "exception": false,
     "start_time": "2022-05-23T08:09:26.367776",
     "status": "completed"
    },
    "tags": []
   },
   "source": [
    "## Preprocessing"
   ]
  },
  {
   "cell_type": "code",
   "execution_count": 5,
   "id": "86687c65",
   "metadata": {
    "execution": {
     "iopub.execute_input": "2022-05-23T08:09:26.562062Z",
     "iopub.status.busy": "2022-05-23T08:09:26.561771Z",
     "iopub.status.idle": "2022-05-23T08:09:26.567907Z",
     "shell.execute_reply": "2022-05-23T08:09:26.566920Z"
    },
    "papermill": {
     "duration": 0.074296,
     "end_time": "2022-05-23T08:09:26.570017",
     "exception": false,
     "start_time": "2022-05-23T08:09:26.495721",
     "status": "completed"
    },
    "tags": []
   },
   "outputs": [],
   "source": [
    "def extractFeatures_trill(y, sr):\n",
    "    # Sound noise reduction\n",
    "    b, a = signal.butter(10, 1000/(sr/2), btype='highpass')\n",
    "    y = signal.lfilter(b, a, y)\n",
    "    # Resample\n",
    "    y = librosa.resample(y, sr, 16000)\n",
    "\n",
    "    return y"
   ]
  },
  {
   "cell_type": "markdown",
   "id": "cd3988f5",
   "metadata": {
    "papermill": {
     "duration": 0.0628,
     "end_time": "2022-05-23T08:09:26.697541",
     "exception": false,
     "start_time": "2022-05-23T08:09:26.634741",
     "status": "completed"
    },
    "tags": []
   },
   "source": [
    "## Model"
   ]
  },
  {
   "cell_type": "code",
   "execution_count": 6,
   "id": "0d3c24ee",
   "metadata": {
    "execution": {
     "iopub.execute_input": "2022-05-23T08:09:26.825522Z",
     "iopub.status.busy": "2022-05-23T08:09:26.825232Z",
     "iopub.status.idle": "2022-05-23T08:09:26.833345Z",
     "shell.execute_reply": "2022-05-23T08:09:26.832374Z"
    },
    "papermill": {
     "duration": 0.0753,
     "end_time": "2022-05-23T08:09:26.835668",
     "exception": false,
     "start_time": "2022-05-23T08:09:26.760368",
     "status": "completed"
    },
    "tags": []
   },
   "outputs": [],
   "source": [
    "def create_trill():\n",
    "    \n",
    "    model = tf.keras.models.Sequential()\n",
    "    model.add(tf.keras.Input((80000,)))\n",
    "\n",
    "    trill_layer = hub.KerasLayer(\n",
    "        handle=TRILL_PATH,\n",
    "        trainable=False,\n",
    "        arguments={'sample_rate': int(16000)},\n",
    "        output_key='embedding',\n",
    "        output_shape=[None, 2048]\n",
    "    )\n",
    "\n",
    "    model.add(trill_layer)\n",
    "    model.add(NetVLAD(num_clusters=8))\n",
    "    model.add(tf.keras.layers.BatchNormalization())\n",
    "    model.add(tf.keras.layers.Dense(256, activation='relu'))\n",
    "    model.add(tf.keras.layers.Dense(21, activation='sigmoid', kernel_regularizer=tf.keras.regularizers.l2(l=1e-5)))\n",
    "\n",
    "    return model"
   ]
  },
  {
   "cell_type": "markdown",
   "id": "0e520d1d",
   "metadata": {
    "papermill": {
     "duration": 0.064332,
     "end_time": "2022-05-23T08:09:26.963859",
     "exception": false,
     "start_time": "2022-05-23T08:09:26.899527",
     "status": "completed"
    },
    "tags": []
   },
   "source": [
    "# Submission"
   ]
  },
  {
   "cell_type": "markdown",
   "id": "1f3f84d8",
   "metadata": {
    "papermill": {
     "duration": 0.063958,
     "end_time": "2022-05-23T08:09:27.092392",
     "exception": false,
     "start_time": "2022-05-23T08:09:27.028434",
     "status": "completed"
    },
    "tags": []
   },
   "source": [
    "## Load model"
   ]
  },
  {
   "cell_type": "code",
   "execution_count": 7,
   "id": "fa74ea2b",
   "metadata": {
    "execution": {
     "iopub.execute_input": "2022-05-23T08:09:27.222391Z",
     "iopub.status.busy": "2022-05-23T08:09:27.221499Z",
     "iopub.status.idle": "2022-05-23T08:09:37.956596Z",
     "shell.execute_reply": "2022-05-23T08:09:37.954340Z"
    },
    "papermill": {
     "duration": 10.802324,
     "end_time": "2022-05-23T08:09:37.958973",
     "exception": false,
     "start_time": "2022-05-23T08:09:27.156649",
     "status": "completed"
    },
    "tags": []
   },
   "outputs": [
    {
     "name": "stdout",
     "output_type": "stream",
     "text": [
      "Model: \"sequential\"\n",
      "_________________________________________________________________\n",
      "Layer (type)                 Output Shape              Param #   \n",
      "=================================================================\n",
      "keras_layer (KerasLayer)     (None, None, 2048)        51964864  \n",
      "_________________________________________________________________\n",
      "net_vlad (NetVLAD)           (None, 16384)             32776     \n",
      "_________________________________________________________________\n",
      "batch_normalization (BatchNo (None, 16384)             65536     \n",
      "_________________________________________________________________\n",
      "dense (Dense)                (None, 256)               4194560   \n",
      "_________________________________________________________________\n",
      "dense_1 (Dense)              (None, 21)                5397      \n",
      "=================================================================\n",
      "Total params: 56,263,133\n",
      "Trainable params: 4,265,501\n",
      "Non-trainable params: 51,997,632\n",
      "_________________________________________________________________\n"
     ]
    }
   ],
   "source": [
    "# Model\n",
    "Trill = create_trill()\n",
    "Trill.load_weights(MODEL_PATH + 'finetune_da_Trill.h5')\n",
    "Trill.compile(optimizer=tf.keras.optimizers.Adam(),\n",
    "              loss='binary_crossentropy',\n",
    "              metrics=[tfa.metrics.F1Score(name='f1macro', num_classes=len(labels), average='macro')])\n",
    "Trill.summary()"
   ]
  },
  {
   "cell_type": "markdown",
   "id": "b16068bd",
   "metadata": {
    "papermill": {
     "duration": 0.066084,
     "end_time": "2022-05-23T08:09:38.091403",
     "exception": false,
     "start_time": "2022-05-23T08:09:38.025319",
     "status": "completed"
    },
    "tags": []
   },
   "source": [
    "## Process"
   ]
  },
  {
   "cell_type": "code",
   "execution_count": 8,
   "id": "0ba538f5",
   "metadata": {
    "execution": {
     "iopub.execute_input": "2022-05-23T08:09:38.224451Z",
     "iopub.status.busy": "2022-05-23T08:09:38.224149Z",
     "iopub.status.idle": "2022-05-23T08:09:38.233945Z",
     "shell.execute_reply": "2022-05-23T08:09:38.232681Z"
    },
    "papermill": {
     "duration": 0.080062,
     "end_time": "2022-05-23T08:09:38.237213",
     "exception": false,
     "start_time": "2022-05-23T08:09:38.157151",
     "status": "completed"
    },
    "tags": []
   },
   "outputs": [
    {
     "name": "stdout",
     "output_type": "stream",
     "text": [
      "Number of test soundscapes: 1\n"
     ]
    }
   ],
   "source": [
    "test_path = DATA_PATH + '/test_soundscapes/'\n",
    "files = [f.split('.')[0] for f in sorted(os.listdir(test_path))]\n",
    "print('Number of test soundscapes:', len(files))"
   ]
  },
  {
   "cell_type": "code",
   "execution_count": 9,
   "id": "3da39cf0",
   "metadata": {},
   "outputs": [],
   "source": [
    "Class_weights = {0: 3.1081275724908664, 1: 3.7656475754076606, 2: 1.0441328733521613, 3: 3.0691726047550407,\n",
    "                 4: 5.264737430672896, 5: 2.8777563180552033, 6: 5.46209686483139, 7: 1.69247564674142,\n",
    "                 8: 2.124710995914189, 9: 4.432477447650233, 10: 4.419574042814324, 11: 4.854309533222602, 12: 1,\n",
    "                 13: 1.2511821233781157, 14: 1.5747391996382374, 15: 4.445549529217585, 16: 1.91982088490933,\n",
    "                 17: 6.173593184059532, 18: 1, 19: 1.3683585469443174, 20: 2.205399907164332}"
   ]
  },
  {
   "cell_type": "code",
   "execution_count": 10,
   "id": "3b9952f8",
   "metadata": {},
   "outputs": [
    {
     "name": "stdout",
     "output_type": "stream",
     "text": [
      "limits [0.1, 0.001, 1e-06, 1e-10, 1e-12]\n"
     ]
    }
   ],
   "source": [
    "if strategy == 1:\n",
    "    limits = [1e-1, 1e-3, 1e-4, 1e-6, 1e-8]\n",
    "elif strategy == 2:\n",
    "    limits = [1e-1, 1e-3, 1e-6, 1e-7, 1e-9]\n",
    "else:\n",
    "    limits = [1e-1, 1e-3, 1e-6, 1e-10, 1e-12]\n",
    "    \n",
    "print('limits', limits)"
   ]
  },
  {
   "cell_type": "code",
   "execution_count": 11,
   "id": "039dc9e6",
   "metadata": {},
   "outputs": [],
   "source": [
    "def testscore(prediction):   \n",
    "    result = []\n",
    "\n",
    "    for i in range(0, len(prediction)):\n",
    "        if Class_weights[i] < 2:\n",
    "            if prediction[i] >= limits[0]:\n",
    "                result.append(prediction[i])\n",
    "        elif Class_weights[i] < 3:\n",
    "            if prediction[i] >= limits[1]:\n",
    "                result.append(prediction[i])\n",
    "        elif Class_weights[i] < 4:\n",
    "            if prediction[i] >= limits[2]:\n",
    "                result.append(prediction[i])\n",
    "        elif Class_weights[i] < 5:\n",
    "            if prediction[i] >= limits[3]:\n",
    "                result.append(prediction[i])\n",
    "        elif Class_weights[i] > 5:\n",
    "            if prediction[i] >= limits[4]:\n",
    "                result.append(prediction[i])\n",
    "                \n",
    "    return result"
   ]
  },
  {
   "cell_type": "code",
   "execution_count": 12,
   "id": "10a3f185",
   "metadata": {
    "execution": {
     "iopub.execute_input": "2022-05-23T08:09:38.371804Z",
     "iopub.status.busy": "2022-05-23T08:09:38.371299Z",
     "iopub.status.idle": "2022-05-23T08:09:50.862839Z",
     "shell.execute_reply": "2022-05-23T08:09:50.861515Z"
    },
    "papermill": {
     "duration": 12.560458,
     "end_time": "2022-05-23T08:09:50.865041",
     "exception": false,
     "start_time": "2022-05-23T08:09:38.304583",
     "status": "completed"
    },
    "tags": []
   },
   "outputs": [
    {
     "name": "stdout",
     "output_type": "stream",
     "text": [
      "[19, 14, 18, 3, 4, 17]\n",
      "[19, 18, 14, 3, 4]\n",
      "[19, 14, 18, 4, 3, 7, 17]\n",
      "[19, 14, 18, 3, 4, 2, 13]\n",
      "[19, 14, 18, 3, 7, 4, 10]\n",
      "[19, 14, 18, 7, 3]\n",
      "[19, 14, 18, 2, 4, 3]\n",
      "[19, 14, 18, 3, 7, 4, 17]\n",
      "[19, 14, 18, 3, 10, 4]\n",
      "[19, 18, 14, 3, 4, 7]\n",
      "[19, 14, 18, 3, 9, 2]\n",
      "[19, 14, 18, 4, 7, 6, 13, 3]\n"
     ]
    },
    {
     "data": {
      "text/html": [
       "<div>\n",
       "<style scoped>\n",
       "    .dataframe tbody tr th:only-of-type {\n",
       "        vertical-align: middle;\n",
       "    }\n",
       "\n",
       "    .dataframe tbody tr th {\n",
       "        vertical-align: top;\n",
       "    }\n",
       "\n",
       "    .dataframe thead th {\n",
       "        text-align: right;\n",
       "    }\n",
       "</style>\n",
       "<table border=\"1\" class=\"dataframe\">\n",
       "  <thead>\n",
       "    <tr style=\"text-align: right;\">\n",
       "      <th></th>\n",
       "      <th>row_id</th>\n",
       "      <th>target</th>\n",
       "    </tr>\n",
       "  </thead>\n",
       "  <tbody>\n",
       "    <tr>\n",
       "      <th>0</th>\n",
       "      <td>soundscape_453028782_akiapo_5</td>\n",
       "      <td>False</td>\n",
       "    </tr>\n",
       "    <tr>\n",
       "      <th>1</th>\n",
       "      <td>soundscape_453028782_aniani_5</td>\n",
       "      <td>False</td>\n",
       "    </tr>\n",
       "    <tr>\n",
       "      <th>2</th>\n",
       "      <td>soundscape_453028782_apapan_5</td>\n",
       "      <td>False</td>\n",
       "    </tr>\n",
       "    <tr>\n",
       "      <th>3</th>\n",
       "      <td>soundscape_453028782_barpet_5</td>\n",
       "      <td>True</td>\n",
       "    </tr>\n",
       "    <tr>\n",
       "      <th>4</th>\n",
       "      <td>soundscape_453028782_crehon_5</td>\n",
       "      <td>True</td>\n",
       "    </tr>\n",
       "    <tr>\n",
       "      <th>5</th>\n",
       "      <td>soundscape_453028782_elepai_5</td>\n",
       "      <td>False</td>\n",
       "    </tr>\n",
       "    <tr>\n",
       "      <th>6</th>\n",
       "      <td>soundscape_453028782_ercfra_5</td>\n",
       "      <td>False</td>\n",
       "    </tr>\n",
       "    <tr>\n",
       "      <th>7</th>\n",
       "      <td>soundscape_453028782_hawama_5</td>\n",
       "      <td>False</td>\n",
       "    </tr>\n",
       "    <tr>\n",
       "      <th>8</th>\n",
       "      <td>soundscape_453028782_hawcre_5</td>\n",
       "      <td>False</td>\n",
       "    </tr>\n",
       "    <tr>\n",
       "      <th>9</th>\n",
       "      <td>soundscape_453028782_hawgoo_5</td>\n",
       "      <td>False</td>\n",
       "    </tr>\n",
       "    <tr>\n",
       "      <th>10</th>\n",
       "      <td>soundscape_453028782_hawhaw_5</td>\n",
       "      <td>False</td>\n",
       "    </tr>\n",
       "    <tr>\n",
       "      <th>11</th>\n",
       "      <td>soundscape_453028782_hawpet1_5</td>\n",
       "      <td>False</td>\n",
       "    </tr>\n",
       "    <tr>\n",
       "      <th>12</th>\n",
       "      <td>soundscape_453028782_houfin_5</td>\n",
       "      <td>False</td>\n",
       "    </tr>\n",
       "    <tr>\n",
       "      <th>13</th>\n",
       "      <td>soundscape_453028782_iiwi_5</td>\n",
       "      <td>False</td>\n",
       "    </tr>\n",
       "    <tr>\n",
       "      <th>14</th>\n",
       "      <td>soundscape_453028782_jabwar_5</td>\n",
       "      <td>True</td>\n",
       "    </tr>\n",
       "    <tr>\n",
       "      <th>15</th>\n",
       "      <td>soundscape_453028782_maupar_5</td>\n",
       "      <td>False</td>\n",
       "    </tr>\n",
       "    <tr>\n",
       "      <th>16</th>\n",
       "      <td>soundscape_453028782_omao_5</td>\n",
       "      <td>False</td>\n",
       "    </tr>\n",
       "    <tr>\n",
       "      <th>17</th>\n",
       "      <td>soundscape_453028782_puaioh_5</td>\n",
       "      <td>True</td>\n",
       "    </tr>\n",
       "    <tr>\n",
       "      <th>18</th>\n",
       "      <td>soundscape_453028782_skylar_5</td>\n",
       "      <td>True</td>\n",
       "    </tr>\n",
       "    <tr>\n",
       "      <th>19</th>\n",
       "      <td>soundscape_453028782_warwhe1_5</td>\n",
       "      <td>True</td>\n",
       "    </tr>\n",
       "    <tr>\n",
       "      <th>20</th>\n",
       "      <td>soundscape_453028782_yefcan_5</td>\n",
       "      <td>False</td>\n",
       "    </tr>\n",
       "  </tbody>\n",
       "</table>\n",
       "</div>"
      ],
      "text/plain": [
       "                            row_id  target\n",
       "0    soundscape_453028782_akiapo_5   False\n",
       "1    soundscape_453028782_aniani_5   False\n",
       "2    soundscape_453028782_apapan_5   False\n",
       "3    soundscape_453028782_barpet_5    True\n",
       "4    soundscape_453028782_crehon_5    True\n",
       "5    soundscape_453028782_elepai_5   False\n",
       "6    soundscape_453028782_ercfra_5   False\n",
       "7    soundscape_453028782_hawama_5   False\n",
       "8    soundscape_453028782_hawcre_5   False\n",
       "9    soundscape_453028782_hawgoo_5   False\n",
       "10   soundscape_453028782_hawhaw_5   False\n",
       "11  soundscape_453028782_hawpet1_5   False\n",
       "12   soundscape_453028782_houfin_5   False\n",
       "13     soundscape_453028782_iiwi_5   False\n",
       "14   soundscape_453028782_jabwar_5    True\n",
       "15   soundscape_453028782_maupar_5   False\n",
       "16     soundscape_453028782_omao_5   False\n",
       "17   soundscape_453028782_puaioh_5    True\n",
       "18   soundscape_453028782_skylar_5    True\n",
       "19  soundscape_453028782_warwhe1_5    True\n",
       "20   soundscape_453028782_yefcan_5   False"
      ]
     },
     "execution_count": 12,
     "metadata": {},
     "output_type": "execute_result"
    }
   ],
   "source": [
    "data = []\n",
    "\n",
    "for f in files:\n",
    "    file_path = test_path + f + '.ogg'\n",
    "\n",
    "    # Load audio file\n",
    "    audio, sr = librosa.load(file_path)\n",
    "\n",
    "    # Get number of samples for 5 seconds\n",
    "    buffer = 5 * sr\n",
    "    block_min = 5 * sr\n",
    "\n",
    "    samples_total = len(audio)\n",
    "    samples_wrote = 0\n",
    "    counter = 1\n",
    "\n",
    "    while samples_wrote < samples_total:\n",
    "        # check if the buffer is not exceeding total samples\n",
    "        if buffer > (samples_total - samples_wrote):\n",
    "            buffer = samples_total - samples_wrote\n",
    "\n",
    "        block = audio[samples_wrote: (samples_wrote + buffer)]\n",
    "\n",
    "        # check if last block is as long as previous ones\n",
    "        if block.shape[0] < (block_min):\n",
    "            listofzeros = np.array([0] * (block_min - block.shape[0]))\n",
    "            block = np.hstack([block, listofzeros])\n",
    "\n",
    "        # Features extraction\n",
    "        block = extractFeatures_trill(block, sr)\n",
    "\n",
    "        X = np.empty((1, 80000))\n",
    "        X[0] = np.array(block)\n",
    "\n",
    "        # Prediction\n",
    "        pred = Trill.predict_on_batch(X)\n",
    "        #print('pred', pred)\n",
    "\n",
    "        #countOK = list(filter(lambda score: score >= 1e-6, pred[0]))\n",
    "        countOK = testscore(pred[0])\n",
    "        #print('countOK', countOK)\n",
    "\n",
    "        label_indexes = []\n",
    "        for i in range(0, len(countOK)):\n",
    "            label_indexes.append(np.argsort(np.max(pred, axis=0))[-(i+1)])\n",
    "\n",
    "        print(label_indexes)\n",
    "\n",
    "        for b in scored_birds:\n",
    "            segment_end = counter * 5\n",
    "            row_id = f + '_' + b + '_' + str(segment_end)\n",
    "            target = False\n",
    "            for label_index in label_indexes:\n",
    "                if labels[label_index] == b:\n",
    "                    target = True\n",
    "            data.append([row_id, target])\n",
    "        counter += 1\n",
    "        samples_wrote += buffer\n",
    "\n",
    "submission_df = pd.DataFrame(data, columns=['row_id', 'target'])\n",
    "submission_df.head(21)"
   ]
  },
  {
   "cell_type": "code",
   "execution_count": 13,
   "id": "be9c7be0",
   "metadata": {
    "execution": {
     "iopub.execute_input": "2022-05-23T08:09:51.004006Z",
     "iopub.status.busy": "2022-05-23T08:09:51.003696Z",
     "iopub.status.idle": "2022-05-23T08:09:51.011494Z",
     "shell.execute_reply": "2022-05-23T08:09:51.010482Z"
    },
    "papermill": {
     "duration": 0.079288,
     "end_time": "2022-05-23T08:09:51.013854",
     "exception": false,
     "start_time": "2022-05-23T08:09:50.934566",
     "status": "completed"
    },
    "tags": []
   },
   "outputs": [],
   "source": [
    "submission_df.to_csv(WORKING_PATH + 'submission.csv', index=False)"
   ]
  },
  {
   "cell_type": "code",
   "execution_count": null,
   "id": "0f5dc81b",
   "metadata": {
    "papermill": {
     "duration": 0.068499,
     "end_time": "2022-05-23T08:09:51.150579",
     "exception": false,
     "start_time": "2022-05-23T08:09:51.082080",
     "status": "completed"
    },
    "tags": []
   },
   "outputs": [],
   "source": []
  }
 ],
 "metadata": {
  "kernelspec": {
   "display_name": "Python 3 (ipykernel)",
   "language": "python",
   "name": "python3"
  },
  "language_info": {
   "codemirror_mode": {
    "name": "ipython",
    "version": 3
   },
   "file_extension": ".py",
   "mimetype": "text/x-python",
   "name": "python",
   "nbconvert_exporter": "python",
   "pygments_lexer": "ipython3",
   "version": "3.9.7"
  },
  "papermill": {
   "default_parameters": {},
   "duration": 118.716998,
   "end_time": "2022-05-23T08:09:54.562381",
   "environment_variables": {},
   "exception": null,
   "input_path": "__notebook__.ipynb",
   "output_path": "__notebook__.ipynb",
   "parameters": {},
   "start_time": "2022-05-23T08:07:55.845383",
   "version": "2.3.4"
  },
  "toc": {
   "base_numbering": 1,
   "nav_menu": {},
   "number_sections": true,
   "sideBar": true,
   "skip_h1_title": false,
   "title_cell": "Table of Contents",
   "title_sidebar": "Contents",
   "toc_cell": false,
   "toc_position": {},
   "toc_section_display": true,
   "toc_window_display": true
  },
  "widgets": {
   "application/vnd.jupyter.widget-state+json": {
    "state": {
     "68f14638159545adaa4933b825c74186": {
      "model_module": "@jupyter-widgets/base",
      "model_module_version": "1.2.0",
      "model_name": "LayoutModel",
      "state": {
       "_model_module": "@jupyter-widgets/base",
       "_model_module_version": "1.2.0",
       "_model_name": "LayoutModel",
       "_view_count": null,
       "_view_module": "@jupyter-widgets/base",
       "_view_module_version": "1.2.0",
       "_view_name": "LayoutView",
       "align_content": null,
       "align_items": null,
       "align_self": null,
       "border": null,
       "bottom": null,
       "display": null,
       "flex": null,
       "flex_flow": null,
       "grid_area": null,
       "grid_auto_columns": null,
       "grid_auto_flow": null,
       "grid_auto_rows": null,
       "grid_column": null,
       "grid_gap": null,
       "grid_row": null,
       "grid_template_areas": null,
       "grid_template_columns": null,
       "grid_template_rows": null,
       "height": null,
       "justify_content": null,
       "justify_items": null,
       "left": null,
       "margin": null,
       "max_height": null,
       "max_width": null,
       "min_height": null,
       "min_width": null,
       "object_fit": null,
       "object_position": null,
       "order": null,
       "overflow": null,
       "overflow_x": null,
       "overflow_y": null,
       "padding": null,
       "right": null,
       "top": null,
       "visibility": null,
       "width": null
      }
     },
     "6e9dac6a8e6c454fb7abf64f130c6a65": {
      "model_module": "@jupyter-widgets/controls",
      "model_module_version": "1.5.0",
      "model_name": "ProgressStyleModel",
      "state": {
       "_model_module": "@jupyter-widgets/controls",
       "_model_module_version": "1.5.0",
       "_model_name": "ProgressStyleModel",
       "_view_count": null,
       "_view_module": "@jupyter-widgets/base",
       "_view_module_version": "1.2.0",
       "_view_name": "StyleView",
       "bar_color": null,
       "description_width": ""
      }
     },
     "a6e6bb142d7348f1bd758729b0bac886": {
      "model_module": "@jupyter-widgets/controls",
      "model_module_version": "1.5.0",
      "model_name": "IntProgressModel",
      "state": {
       "_dom_classes": [],
       "_model_module": "@jupyter-widgets/controls",
       "_model_module_version": "1.5.0",
       "_model_name": "IntProgressModel",
       "_view_count": null,
       "_view_module": "@jupyter-widgets/controls",
       "_view_module_version": "1.5.0",
       "_view_name": "ProgressView",
       "bar_style": "",
       "description": "",
       "description_tooltip": null,
       "layout": "IPY_MODEL_68f14638159545adaa4933b825c74186",
       "max": 21,
       "min": 0,
       "orientation": "horizontal",
       "style": "IPY_MODEL_6e9dac6a8e6c454fb7abf64f130c6a65",
       "value": 21
      }
     }
    },
    "version_major": 2,
    "version_minor": 0
   }
  }
 },
 "nbformat": 4,
 "nbformat_minor": 5
}
