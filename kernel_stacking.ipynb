{
 "cells": [
  {
   "cell_type": "markdown",
   "id": "b422a574",
   "metadata": {
    "papermill": {
     "duration": 0.032182,
     "end_time": "2022-06-09T19:16:19.717707",
     "exception": false,
     "start_time": "2022-06-09T19:16:19.685525",
     "status": "completed"
    },
    "tags": []
   },
   "source": [
    "# Import"
   ]
  },
  {
   "cell_type": "code",
   "execution_count": 1,
   "id": "71d01487",
   "metadata": {
    "execution": {
     "iopub.execute_input": "2022-06-09T19:16:19.783111Z",
     "iopub.status.busy": "2022-06-09T19:16:19.782694Z",
     "iopub.status.idle": "2022-06-09T19:16:27.005883Z",
     "shell.execute_reply": "2022-06-09T19:16:27.005015Z"
    },
    "papermill": {
     "duration": 7.257708,
     "end_time": "2022-06-09T19:16:27.008190",
     "exception": false,
     "start_time": "2022-06-09T19:16:19.750482",
     "status": "completed"
    },
    "scrolled": true,
    "tags": []
   },
   "outputs": [],
   "source": [
    "# Misc\n",
    "import os\n",
    "import gc\n",
    "import joblib\n",
    "from joblib import Parallel, delayed\n",
    "import timeit\n",
    "import warnings\n",
    "\n",
    "# Data management\n",
    "import pandas as pd\n",
    "import numpy as np\n",
    "\n",
    "# Sound treatments\n",
    "import librosa\n",
    "from scipy import signal\n",
    "import resampy\n",
    "\n",
    "# TRILL\n",
    "import tensorflow as tf\n",
    "import tensorflow_hub as hub\n",
    "import keras.backend as K \n",
    "\n",
    "## Metrics\n",
    "import tensorflow_addons as tfa\n",
    "from tensorflow_addons.layers.netvlad import NetVLAD"
   ]
  },
  {
   "cell_type": "markdown",
   "id": "a0206443",
   "metadata": {
    "papermill": {
     "duration": 0.030621,
     "end_time": "2022-06-09T19:16:27.070275",
     "exception": false,
     "start_time": "2022-06-09T19:16:27.039654",
     "status": "completed"
    },
    "tags": []
   },
   "source": [
    "# Environment"
   ]
  },
  {
   "cell_type": "code",
   "execution_count": 2,
   "id": "33025e82",
   "metadata": {
    "execution": {
     "iopub.execute_input": "2022-06-09T19:16:27.134155Z",
     "iopub.status.busy": "2022-06-09T19:16:27.133469Z",
     "iopub.status.idle": "2022-06-09T19:16:27.137307Z",
     "shell.execute_reply": "2022-06-09T19:16:27.136510Z"
    },
    "papermill": {
     "duration": 0.037136,
     "end_time": "2022-06-09T19:16:27.139153",
     "exception": false,
     "start_time": "2022-06-09T19:16:27.102017",
     "status": "completed"
    },
    "tags": []
   },
   "outputs": [],
   "source": [
    "# Inactivate warnings\n",
    "warnings.filterwarnings('ignore')"
   ]
  },
  {
   "cell_type": "code",
   "execution_count": 3,
   "id": "53951207",
   "metadata": {
    "execution": {
     "iopub.execute_input": "2022-06-09T19:16:27.200984Z",
     "iopub.status.busy": "2022-06-09T19:16:27.200727Z",
     "iopub.status.idle": "2022-06-09T19:16:27.204615Z",
     "shell.execute_reply": "2022-06-09T19:16:27.203862Z"
    },
    "papermill": {
     "duration": 0.03695,
     "end_time": "2022-06-09T19:16:27.206487",
     "exception": false,
     "start_time": "2022-06-09T19:16:27.169537",
     "status": "completed"
    },
    "tags": []
   },
   "outputs": [],
   "source": [
    "#DATA_PATH = '/kaggle/input/birdclef-2022/'\n",
    "#WORKING_PATH = '/kaggle/working/'\n",
    "#TRILL_PATH = '/kaggle/input/ziptrill/'\n",
    "#VGGISH_PATH = '/kaggle/input/vggishfull/'\n",
    "#MODEL_PATH = '/kaggle/input/models/'\n",
    "\n",
    "DATA_PATH = './data/'\n",
    "WORKING_PATH = './working/stacking/'\n",
    "TRILL_PATH = './working/stacking/trill/'\n",
    "VGGISH_PATH = './working/stacking/'\n",
    "MODEL_PATH = './working/stacking/'"
   ]
  },
  {
   "cell_type": "markdown",
   "id": "e3cd2088",
   "metadata": {
    "papermill": {
     "duration": 0.030252,
     "end_time": "2022-06-09T19:16:27.267737",
     "exception": false,
     "start_time": "2022-06-09T19:16:27.237485",
     "status": "completed"
    },
    "tags": []
   },
   "source": [
    "# Data load"
   ]
  },
  {
   "cell_type": "code",
   "execution_count": 4,
   "id": "9e03ecce",
   "metadata": {
    "execution": {
     "iopub.execute_input": "2022-06-09T19:16:27.330578Z",
     "iopub.status.busy": "2022-06-09T19:16:27.330372Z",
     "iopub.status.idle": "2022-06-09T19:16:27.334521Z",
     "shell.execute_reply": "2022-06-09T19:16:27.333853Z"
    },
    "papermill": {
     "duration": 0.037616,
     "end_time": "2022-06-09T19:16:27.336101",
     "exception": false,
     "start_time": "2022-06-09T19:16:27.298485",
     "status": "completed"
    },
    "tags": []
   },
   "outputs": [],
   "source": [
    "scored_birds = ['akiapo', 'aniani', 'apapan', 'barpet', 'crehon',\n",
    "                'elepai', 'ercfra', 'hawama', 'hawcre', 'hawgoo',\n",
    "                'hawhaw', 'hawpet1', 'houfin', 'iiwi', 'jabwar',\n",
    "                'maupar', 'omao', 'puaioh', 'skylar', 'warwhe1',\n",
    "                'yefcan']"
   ]
  },
  {
   "cell_type": "markdown",
   "id": "0f045773",
   "metadata": {
    "papermill": {
     "duration": 0.030099,
     "end_time": "2022-06-09T19:16:27.396598",
     "exception": false,
     "start_time": "2022-06-09T19:16:27.366499",
     "status": "completed"
    },
    "tags": []
   },
   "source": [
    "# Model"
   ]
  },
  {
   "cell_type": "code",
   "execution_count": 5,
   "id": "af840456",
   "metadata": {
    "execution": {
     "iopub.execute_input": "2022-06-09T19:16:27.459952Z",
     "iopub.status.busy": "2022-06-09T19:16:27.459708Z",
     "iopub.status.idle": "2022-06-09T19:16:27.469621Z",
     "shell.execute_reply": "2022-06-09T19:16:27.468996Z"
    },
    "papermill": {
     "duration": 0.043889,
     "end_time": "2022-06-09T19:16:27.471259",
     "exception": false,
     "start_time": "2022-06-09T19:16:27.427370",
     "status": "completed"
    },
    "tags": []
   },
   "outputs": [],
   "source": [
    "def create_cnn(model_name):\n",
    "    if model_name == 'trill':\n",
    "        model = tf.keras.models.Sequential()\n",
    "        model.add(tf.keras.Input((80000,)))\n",
    "\n",
    "        trill_layer = hub.KerasLayer(\n",
    "            handle=TRILL_PATH,\n",
    "            trainable=False,\n",
    "            arguments={'sample_rate': int(16000)},\n",
    "            output_key='embedding',\n",
    "            output_shape=[None, 2048]\n",
    "        )\n",
    "\n",
    "        model.add(trill_layer)\n",
    "        model.add(NetVLAD(num_clusters=8))\n",
    "        model.add(tf.keras.layers.BatchNormalization())\n",
    "        model.add(tf.keras.layers.Dense(256, activation='relu'))\n",
    "        model.add(tf.keras.layers.Dense(21, activation='sigmoid', kernel_regularizer=tf.keras.regularizers.l2(l=1e-5)))\n",
    "\n",
    "    elif model_name == 'efficientnetb0':\n",
    "        base_model = tf.keras.applications.efficientnet.EfficientNetB0(include_top=False, input_shape=(224, 224, 3), weights=None, pooling='avg')\n",
    "        dense = tf.keras.layers.Dense(142, activation='relu')(base_model.output)\n",
    "        outputs = tf.keras.layers.Dense(21, activation='sigmoid')(dense)\n",
    "        base_model.trainable = False\n",
    "        model = tf.keras.models.Model(inputs=base_model.input, outputs=outputs)\n",
    "        \n",
    "    elif model_name == 'vggish':\n",
    "        '''base_model, _, _ = vgk.get_embedding_model(hop_duration=0.25)   \n",
    "        dense = Dense(128, activation='relu')(base_model.output)\n",
    "        outputs = Dense(21, activation='sigmoid')(dense)      \n",
    "        base_model.trainable = False\n",
    "        model = Model(inputs=base_model.input, outputs=outputs)'''\n",
    "        \n",
    "        model = tf.keras.models.load_model(VGGISH_PATH + 'VGGish_full.h5')\n",
    "        \n",
    "    return model"
   ]
  },
  {
   "cell_type": "markdown",
   "id": "09914ab7",
   "metadata": {
    "papermill": {
     "duration": 0.030174,
     "end_time": "2022-06-09T19:16:27.531640",
     "exception": false,
     "start_time": "2022-06-09T19:16:27.501466",
     "status": "completed"
    },
    "tags": []
   },
   "source": [
    "# Submission"
   ]
  },
  {
   "cell_type": "markdown",
   "id": "351d22c1",
   "metadata": {
    "papermill": {
     "duration": 0.030099,
     "end_time": "2022-06-09T19:16:27.592024",
     "exception": false,
     "start_time": "2022-06-09T19:16:27.561925",
     "status": "completed"
    },
    "tags": []
   },
   "source": [
    "## Load models"
   ]
  },
  {
   "cell_type": "code",
   "execution_count": 6,
   "id": "da3c2e3f",
   "metadata": {
    "execution": {
     "iopub.execute_input": "2022-06-09T19:16:27.653993Z",
     "iopub.status.busy": "2022-06-09T19:16:27.653760Z",
     "iopub.status.idle": "2022-06-09T19:16:36.690359Z",
     "shell.execute_reply": "2022-06-09T19:16:36.689641Z"
    },
    "papermill": {
     "duration": 9.070263,
     "end_time": "2022-06-09T19:16:36.692508",
     "exception": false,
     "start_time": "2022-06-09T19:16:27.622245",
     "status": "completed"
    },
    "tags": []
   },
   "outputs": [],
   "source": [
    "Trill = create_cnn('trill')\n",
    "Trill.load_weights(MODEL_PATH + 'trill.h5')\n",
    "Trill.compile(optimizer=tf.keras.optimizers.Adam(), loss='binary_crossentropy', metrics=[\n",
    "              tfa.metrics.F1Score(name='f1macro', num_classes=21, average='macro')], run_eagerly=True)\n",
    "Trill.trainable = False"
   ]
  },
  {
   "cell_type": "code",
   "execution_count": 7,
   "id": "d31231e8",
   "metadata": {
    "execution": {
     "iopub.execute_input": "2022-06-09T19:16:36.759056Z",
     "iopub.status.busy": "2022-06-09T19:16:36.758628Z",
     "iopub.status.idle": "2022-06-09T19:16:38.675615Z",
     "shell.execute_reply": "2022-06-09T19:16:38.674868Z"
    },
    "papermill": {
     "duration": 1.952775,
     "end_time": "2022-06-09T19:16:38.678054",
     "exception": false,
     "start_time": "2022-06-09T19:16:36.725279",
     "status": "completed"
    },
    "tags": []
   },
   "outputs": [],
   "source": [
    "EfficientNetB0 = create_cnn('efficientnetb0')\n",
    "EfficientNetB0.load_weights(MODEL_PATH + 'EfficientNetB0.h5')\n",
    "EfficientNetB0.compile(optimizer=tf.keras.optimizers.Adam(), loss='binary_crossentropy', metrics=[\n",
    "                       tfa.metrics.F1Score(name='f1macro', num_classes=21, average='macro')], run_eagerly=True)\n",
    "EfficientNetB0.trainable = False"
   ]
  },
  {
   "cell_type": "code",
   "execution_count": 8,
   "id": "57ae6783",
   "metadata": {
    "execution": {
     "iopub.execute_input": "2022-06-09T19:16:38.743842Z",
     "iopub.status.busy": "2022-06-09T19:16:38.743638Z",
     "iopub.status.idle": "2022-06-09T19:16:39.060883Z",
     "shell.execute_reply": "2022-06-09T19:16:39.060147Z"
    },
    "papermill": {
     "duration": 0.352482,
     "end_time": "2022-06-09T19:16:39.063248",
     "exception": false,
     "start_time": "2022-06-09T19:16:38.710766",
     "status": "completed"
    },
    "tags": []
   },
   "outputs": [],
   "source": [
    "VGGish = create_cnn('vggish')\n",
    "VGGish.compile(optimizer=tf.keras.optimizers.Adam(), loss='binary_crossentropy', metrics=[\n",
    "               tfa.metrics.F1Score(name='f1macro', num_classes=21, average='macro')], run_eagerly=True)\n",
    "VGGish.trainable = False"
   ]
  },
  {
   "cell_type": "code",
   "execution_count": 9,
   "id": "ffd9bc32",
   "metadata": {
    "execution": {
     "iopub.execute_input": "2022-06-09T19:16:39.130975Z",
     "iopub.status.busy": "2022-06-09T19:16:39.130740Z",
     "iopub.status.idle": "2022-06-09T19:16:40.362715Z",
     "shell.execute_reply": "2022-06-09T19:16:40.361975Z"
    },
    "papermill": {
     "duration": 1.267294,
     "end_time": "2022-06-09T19:16:40.364850",
     "exception": false,
     "start_time": "2022-06-09T19:16:39.097556",
     "status": "completed"
    },
    "tags": []
   },
   "outputs": [],
   "source": [
    "meta_model = joblib.load(MODEL_PATH + 'meta_model.jl')"
   ]
  },
  {
   "cell_type": "code",
   "execution_count": 10,
   "id": "984d7932",
   "metadata": {
    "execution": {
     "iopub.execute_input": "2022-06-09T19:16:40.430538Z",
     "iopub.status.busy": "2022-06-09T19:16:40.430324Z",
     "iopub.status.idle": "2022-06-09T19:16:40.635334Z",
     "shell.execute_reply": "2022-06-09T19:16:40.634684Z"
    },
    "papermill": {
     "duration": 0.239862,
     "end_time": "2022-06-09T19:16:40.637006",
     "exception": false,
     "start_time": "2022-06-09T19:16:40.397144",
     "status": "completed"
    },
    "tags": []
   },
   "outputs": [
    {
     "data": {
      "text/plain": [
       "3540"
      ]
     },
     "execution_count": 10,
     "metadata": {},
     "output_type": "execute_result"
    }
   ],
   "source": [
    "del hub\n",
    "del NetVLAD\n",
    "del tfa\n",
    "del joblib\n",
    "gc.collect()"
   ]
  },
  {
   "cell_type": "markdown",
   "id": "82b13b4e",
   "metadata": {
    "papermill": {
     "duration": 0.031776,
     "end_time": "2022-06-09T19:16:40.701320",
     "exception": false,
     "start_time": "2022-06-09T19:16:40.669544",
     "status": "completed"
    },
    "tags": []
   },
   "source": [
    "## Feature extraxction"
   ]
  },
  {
   "cell_type": "markdown",
   "id": "3d8097e2",
   "metadata": {
    "papermill": {
     "duration": 0.031787,
     "end_time": "2022-06-09T19:16:40.765577",
     "exception": false,
     "start_time": "2022-06-09T19:16:40.733790",
     "status": "completed"
    },
    "tags": []
   },
   "source": [
    "### Trill"
   ]
  },
  {
   "cell_type": "code",
   "execution_count": 11,
   "id": "add930cb",
   "metadata": {
    "execution": {
     "iopub.execute_input": "2022-06-09T19:16:40.831501Z",
     "iopub.status.busy": "2022-06-09T19:16:40.831283Z",
     "iopub.status.idle": "2022-06-09T19:16:40.836484Z",
     "shell.execute_reply": "2022-06-09T19:16:40.835821Z"
    },
    "papermill": {
     "duration": 0.040115,
     "end_time": "2022-06-09T19:16:40.838150",
     "exception": false,
     "start_time": "2022-06-09T19:16:40.798035",
     "status": "completed"
    },
    "tags": []
   },
   "outputs": [],
   "source": [
    "# Sound noise reduction\n",
    "def f_high_trill(y, sr):\n",
    "    b, a = signal.butter(10, 1000/(sr/2), btype='highpass')\n",
    "    yf = signal.lfilter(b, a, y)\n",
    "    return yf"
   ]
  },
  {
   "cell_type": "code",
   "execution_count": 12,
   "id": "78d53063",
   "metadata": {
    "execution": {
     "iopub.execute_input": "2022-06-09T19:16:40.903375Z",
     "iopub.status.busy": "2022-06-09T19:16:40.903167Z",
     "iopub.status.idle": "2022-06-09T19:16:40.907147Z",
     "shell.execute_reply": "2022-06-09T19:16:40.906385Z"
    },
    "papermill": {
     "duration": 0.03829,
     "end_time": "2022-06-09T19:16:40.908878",
     "exception": false,
     "start_time": "2022-06-09T19:16:40.870588",
     "status": "completed"
    },
    "tags": []
   },
   "outputs": [],
   "source": [
    "def extractFeatures_trill(y, sr):\n",
    "    # Sound noise reduction\n",
    "    y = f_high_trill(y, sr)\n",
    "    \n",
    "    # Resample\n",
    "    y = librosa.resample(y, sr, 16000)\n",
    "    \n",
    "    return y"
   ]
  },
  {
   "cell_type": "markdown",
   "id": "bf30894c",
   "metadata": {
    "papermill": {
     "duration": 0.031617,
     "end_time": "2022-06-09T19:16:40.972037",
     "exception": false,
     "start_time": "2022-06-09T19:16:40.940420",
     "status": "completed"
    },
    "tags": []
   },
   "source": [
    "### EfficientNetB0"
   ]
  },
  {
   "cell_type": "code",
   "execution_count": 13,
   "id": "7a562105",
   "metadata": {
    "execution": {
     "iopub.execute_input": "2022-06-09T19:16:41.037632Z",
     "iopub.status.busy": "2022-06-09T19:16:41.037425Z",
     "iopub.status.idle": "2022-06-09T19:16:41.041872Z",
     "shell.execute_reply": "2022-06-09T19:16:41.041208Z"
    },
    "papermill": {
     "duration": 0.039503,
     "end_time": "2022-06-09T19:16:41.043611",
     "exception": false,
     "start_time": "2022-06-09T19:16:41.004108",
     "status": "completed"
    },
    "tags": []
   },
   "outputs": [],
   "source": [
    "class conf:\n",
    "    # Preprocessing settings\n",
    "    sampling_rate = 44100\n",
    "    n_mels = 224\n",
    "    hop_length = 494\n",
    "    n_fft = n_mels * 10\n",
    "    fmin = 20\n",
    "    fmax = 16000\n",
    "    \n",
    "    # Model parameters\n",
    "    num_rows = 224\n",
    "    num_columns = 224\n",
    "    num_channels = 3"
   ]
  },
  {
   "cell_type": "code",
   "execution_count": 14,
   "id": "5d24c762",
   "metadata": {
    "execution": {
     "iopub.execute_input": "2022-06-09T19:16:41.109240Z",
     "iopub.status.busy": "2022-06-09T19:16:41.109052Z",
     "iopub.status.idle": "2022-06-09T19:16:41.114000Z",
     "shell.execute_reply": "2022-06-09T19:16:41.113186Z"
    },
    "papermill": {
     "duration": 0.039461,
     "end_time": "2022-06-09T19:16:41.116092",
     "exception": false,
     "start_time": "2022-06-09T19:16:41.076631",
     "status": "completed"
    },
    "tags": []
   },
   "outputs": [],
   "source": [
    "def audio_to_melspectrogram(audio):\n",
    "    spectrogram = librosa.feature.melspectrogram(audio,\n",
    "                                                 sr=conf.sampling_rate,\n",
    "                                                 n_mels=conf.n_mels,\n",
    "                                                 hop_length=conf.hop_length,\n",
    "                                                 n_fft=conf.n_fft,\n",
    "                                                 fmin=conf.fmin,\n",
    "                                                 fmax=conf.fmax)\n",
    "    spectrogram = librosa.power_to_db(spectrogram)\n",
    "    spectrogram = spectrogram.astype(np.float32)\n",
    "    return spectrogram"
   ]
  },
  {
   "cell_type": "code",
   "execution_count": 15,
   "id": "539d7f17",
   "metadata": {
    "execution": {
     "iopub.execute_input": "2022-06-09T19:16:41.181948Z",
     "iopub.status.busy": "2022-06-09T19:16:41.181732Z",
     "iopub.status.idle": "2022-06-09T19:16:41.188663Z",
     "shell.execute_reply": "2022-06-09T19:16:41.187919Z"
    },
    "papermill": {
     "duration": 0.04191,
     "end_time": "2022-06-09T19:16:41.190507",
     "exception": false,
     "start_time": "2022-06-09T19:16:41.148597",
     "status": "completed"
    },
    "tags": []
   },
   "outputs": [],
   "source": [
    "def mono_to_color(X, eps=1e-6, mean=None, std=None):\n",
    "    \"\"\"\n",
    "    Converts a one channel array to a 3 channel one in [0, 255]\n",
    "    Arguments:\n",
    "        X {numpy array [H x W]} -- 2D array to convert\n",
    "    Keyword Arguments:\n",
    "        eps {float} -- To avoid dividing by 0 (default: {1e-6})\n",
    "        mean {None or np array} -- Mean for normalization (default: {None})\n",
    "        std {None or np array} -- Std for normalization (default: {None})\n",
    "    Returns:\n",
    "        numpy array [3 x H x W] -- RGB numpy array\n",
    "    \"\"\"\n",
    "    X = np.stack([X, X, X], axis=-1)\n",
    "\n",
    "    # Standardize\n",
    "    mean = mean or X.mean()\n",
    "    std = std or X.std()\n",
    "    X = (X - mean) / (std + eps)\n",
    "\n",
    "    # Normalize to [0, 255]\n",
    "    _min, _max = X.min(), X.max()\n",
    "\n",
    "    if (_max - _min) > eps:\n",
    "        V = np.clip(X, _min, _max)\n",
    "        V = 255 * (V - _min) / (_max - _min)\n",
    "        V = V.astype(np.uint8)\n",
    "    else:\n",
    "        V = np.zeros_like(X, dtype=np.uint8)\n",
    "\n",
    "    return V"
   ]
  },
  {
   "cell_type": "code",
   "execution_count": 16,
   "id": "2dd9285f",
   "metadata": {
    "execution": {
     "iopub.execute_input": "2022-06-09T19:16:41.255290Z",
     "iopub.status.busy": "2022-06-09T19:16:41.255109Z",
     "iopub.status.idle": "2022-06-09T19:16:41.260131Z",
     "shell.execute_reply": "2022-06-09T19:16:41.259383Z"
    },
    "papermill": {
     "duration": 0.039683,
     "end_time": "2022-06-09T19:16:41.261988",
     "exception": false,
     "start_time": "2022-06-09T19:16:41.222305",
     "status": "completed"
    },
    "tags": []
   },
   "outputs": [],
   "source": [
    "def extractFeatures_EfficientNetB0(y, sr):\n",
    "    # Extract features\n",
    "    feat = audio_to_melspectrogram(y)\n",
    "    feat = mono_to_color(feat)\n",
    "    feat = feat.astype(np.uint8)\n",
    "    \n",
    "    # EfficientNet preprocess\n",
    "    feat = tf.keras.applications.efficientnet.preprocess_input(feat)\n",
    "    \n",
    "    X = np.empty((1, conf.num_rows, conf.num_columns, conf.num_channels))\n",
    "    x_features = feat.tolist()\n",
    "    X[0] = np.array(x_features)\n",
    "        \n",
    "    return X"
   ]
  },
  {
   "cell_type": "markdown",
   "id": "a474a318",
   "metadata": {
    "papermill": {
     "duration": 0.031911,
     "end_time": "2022-06-09T19:16:41.325477",
     "exception": false,
     "start_time": "2022-06-09T19:16:41.293566",
     "status": "completed"
    },
    "tags": []
   },
   "source": [
    "### VGGish"
   ]
  },
  {
   "cell_type": "code",
   "execution_count": 17,
   "id": "55bc97ac",
   "metadata": {
    "execution": {
     "iopub.execute_input": "2022-06-09T19:16:41.390533Z",
     "iopub.status.busy": "2022-06-09T19:16:41.390333Z",
     "iopub.status.idle": "2022-06-09T19:16:41.394404Z",
     "shell.execute_reply": "2022-06-09T19:16:41.393718Z"
    },
    "papermill": {
     "duration": 0.038825,
     "end_time": "2022-06-09T19:16:41.396128",
     "exception": false,
     "start_time": "2022-06-09T19:16:41.357303",
     "status": "completed"
    },
    "tags": []
   },
   "outputs": [],
   "source": [
    "# Sound noise reduction\n",
    "def f_high_VGGish(y,sr):\n",
    "    b,a = signal.butter(10, 2000/(sr/2), btype='highpass')\n",
    "    yf = signal.lfilter(b,a,y)\n",
    "    return yf"
   ]
  },
  {
   "cell_type": "code",
   "execution_count": 18,
   "id": "ef781dce",
   "metadata": {
    "execution": {
     "iopub.execute_input": "2022-06-09T19:16:41.461901Z",
     "iopub.status.busy": "2022-06-09T19:16:41.461661Z",
     "iopub.status.idle": "2022-06-09T19:16:41.468292Z",
     "shell.execute_reply": "2022-06-09T19:16:41.467471Z"
    },
    "papermill": {
     "duration": 0.042121,
     "end_time": "2022-06-09T19:16:41.470221",
     "exception": false,
     "start_time": "2022-06-09T19:16:41.428100",
     "status": "completed"
    },
    "tags": []
   },
   "outputs": [],
   "source": [
    "def waveform_to_examples(data, sample_rate):\n",
    "    # Convert to mono.\n",
    "    if len(data.shape) > 1:\n",
    "        data = np.mean(data, axis=1)\n",
    "    # Resample to the rate assumed by VGGish.\n",
    "    if sample_rate != 16000:\n",
    "        data = resampy.resample(data, sample_rate, 16000)\n",
    "\n",
    "    # Compute log mel spectrogram features.\n",
    "    log_mel = log_mel_spectrogram(\n",
    "        data,\n",
    "        audio_sample_rate=16000,\n",
    "        log_offset=0.01,\n",
    "        window_length_secs=0.025,\n",
    "        hop_length_secs=0.010,\n",
    "        num_mel_bins=64,\n",
    "        lower_edge_hertz=125,\n",
    "        upper_edge_hertz=7500)\n",
    "\n",
    "    # Frame features into examples.\n",
    "    features_sample_rate = 1.0 / 0.010\n",
    "    example_window_length = int(round(0.96 * features_sample_rate))\n",
    "    example_hop_length = int(round(0.96 * features_sample_rate))\n",
    "    log_mel_examples = frame(\n",
    "        log_mel,\n",
    "        window_length=example_window_length,\n",
    "        hop_length=example_hop_length)\n",
    "    return log_mel_examples"
   ]
  },
  {
   "cell_type": "code",
   "execution_count": 19,
   "id": "f512a3e2",
   "metadata": {
    "execution": {
     "iopub.execute_input": "2022-06-09T19:16:41.537910Z",
     "iopub.status.busy": "2022-06-09T19:16:41.537694Z",
     "iopub.status.idle": "2022-06-09T19:16:41.544464Z",
     "shell.execute_reply": "2022-06-09T19:16:41.543719Z"
    },
    "papermill": {
     "duration": 0.043563,
     "end_time": "2022-06-09T19:16:41.546367",
     "exception": false,
     "start_time": "2022-06-09T19:16:41.502804",
     "status": "completed"
    },
    "tags": []
   },
   "outputs": [],
   "source": [
    "def log_mel_spectrogram(data,\n",
    "                        audio_sample_rate=8000,\n",
    "                        log_offset=0.0,\n",
    "                        window_length_secs=0.025,\n",
    "                        hop_length_secs=0.010,\n",
    "                        **kwargs):\n",
    "    window_length_samples = int(round(audio_sample_rate * window_length_secs))\n",
    "    hop_length_samples = int(round(audio_sample_rate * hop_length_secs))\n",
    "    fft_length = 2 ** int(np.ceil(np.log(window_length_samples) / np.log(2.0)))\n",
    "    spectrogram = stft_magnitude(\n",
    "        data,\n",
    "        fft_length=fft_length,\n",
    "        hop_length=hop_length_samples,\n",
    "        window_length=window_length_samples)\n",
    "    mel_spectrogram = np.dot(spectrogram, spectrogram_to_mel_matrix(\n",
    "        num_spectrogram_bins=spectrogram.shape[1],\n",
    "        audio_sample_rate=audio_sample_rate, **kwargs))\n",
    "    return np.log(mel_spectrogram + log_offset)"
   ]
  },
  {
   "cell_type": "code",
   "execution_count": 20,
   "id": "0524a411",
   "metadata": {
    "execution": {
     "iopub.execute_input": "2022-06-09T19:16:41.618552Z",
     "iopub.status.busy": "2022-06-09T19:16:41.618336Z",
     "iopub.status.idle": "2022-06-09T19:16:41.624073Z",
     "shell.execute_reply": "2022-06-09T19:16:41.623160Z"
    },
    "papermill": {
     "duration": 0.046447,
     "end_time": "2022-06-09T19:16:41.626504",
     "exception": false,
     "start_time": "2022-06-09T19:16:41.580057",
     "status": "completed"
    },
    "tags": []
   },
   "outputs": [],
   "source": [
    "def frame(data, window_length, hop_length):\n",
    "    num_samples = data.shape[0]\n",
    "    num_frames = 1 + int(np.floor((num_samples - window_length) / hop_length))\n",
    "    shape = (num_frames, window_length) + data.shape[1:]\n",
    "    strides = (data.strides[0] * hop_length,) + data.strides\n",
    "    return np.lib.stride_tricks.as_strided(data, shape=shape, strides=strides)"
   ]
  },
  {
   "cell_type": "code",
   "execution_count": 21,
   "id": "622362fc",
   "metadata": {
    "execution": {
     "iopub.execute_input": "2022-06-09T19:16:41.697645Z",
     "iopub.status.busy": "2022-06-09T19:16:41.697407Z",
     "iopub.status.idle": "2022-06-09T19:16:41.702002Z",
     "shell.execute_reply": "2022-06-09T19:16:41.701352Z"
    },
    "papermill": {
     "duration": 0.040053,
     "end_time": "2022-06-09T19:16:41.703973",
     "exception": false,
     "start_time": "2022-06-09T19:16:41.663920",
     "status": "completed"
    },
    "tags": []
   },
   "outputs": [],
   "source": [
    "def stft_magnitude(signal, fft_length,\n",
    "                   hop_length=None,\n",
    "                   window_length=None):\n",
    "    frames = frame(signal, window_length, hop_length)\n",
    "    # Apply frame window to each frame. We use a periodic Hann (cosine of period\n",
    "    # window_length) instead of the symmetric Hann of np.hanning (period\n",
    "    # window_length-1).\n",
    "    window = periodic_hann(window_length)\n",
    "    windowed_frames = frames * window\n",
    "    return np.abs(np.fft.rfft(windowed_frames, int(fft_length)))"
   ]
  },
  {
   "cell_type": "code",
   "execution_count": 22,
   "id": "d0682af4",
   "metadata": {
    "execution": {
     "iopub.execute_input": "2022-06-09T19:16:41.769734Z",
     "iopub.status.busy": "2022-06-09T19:16:41.769548Z",
     "iopub.status.idle": "2022-06-09T19:16:41.773073Z",
     "shell.execute_reply": "2022-06-09T19:16:41.772430Z"
    },
    "papermill": {
     "duration": 0.038999,
     "end_time": "2022-06-09T19:16:41.774870",
     "exception": false,
     "start_time": "2022-06-09T19:16:41.735871",
     "status": "completed"
    },
    "tags": []
   },
   "outputs": [],
   "source": [
    "def periodic_hann(window_length):\n",
    "    return 0.5 - (0.5 * np.cos(2 * np.pi / window_length *\n",
    "                               np.arange(window_length)))"
   ]
  },
  {
   "cell_type": "code",
   "execution_count": 23,
   "id": "d5f5f8ac",
   "metadata": {
    "execution": {
     "iopub.execute_input": "2022-06-09T19:16:41.840904Z",
     "iopub.status.busy": "2022-06-09T19:16:41.840582Z",
     "iopub.status.idle": "2022-06-09T19:16:41.850625Z",
     "shell.execute_reply": "2022-06-09T19:16:41.849858Z"
    },
    "papermill": {
     "duration": 0.045029,
     "end_time": "2022-06-09T19:16:41.852331",
     "exception": false,
     "start_time": "2022-06-09T19:16:41.807302",
     "status": "completed"
    },
    "tags": []
   },
   "outputs": [],
   "source": [
    "def spectrogram_to_mel_matrix(num_mel_bins=20,\n",
    "                              num_spectrogram_bins=129,\n",
    "                              audio_sample_rate=8000,\n",
    "                              lower_edge_hertz=125.0,\n",
    "                              upper_edge_hertz=3800.0):\n",
    "    nyquist_hertz = audio_sample_rate / 2.\n",
    "    if lower_edge_hertz < 0.0:\n",
    "        raise ValueError(\"lower_edge_hertz %.1f must be >= 0\" %\n",
    "                         lower_edge_hertz)\n",
    "    if lower_edge_hertz >= upper_edge_hertz:\n",
    "        raise ValueError(\"lower_edge_hertz %.1f >= upper_edge_hertz %.1f\" %\n",
    "                         (lower_edge_hertz, upper_edge_hertz))\n",
    "    if upper_edge_hertz > nyquist_hertz:\n",
    "        raise ValueError(\"upper_edge_hertz %.1f is greater than Nyquist %.1f\" %\n",
    "                         (upper_edge_hertz, nyquist_hertz))\n",
    "    spectrogram_bins_hertz = np.linspace(\n",
    "        0.0, nyquist_hertz, num_spectrogram_bins)\n",
    "    spectrogram_bins_mel = hertz_to_mel(spectrogram_bins_hertz)\n",
    "    # The i'th mel band (starting from i=1) has center frequency\n",
    "    # band_edges_mel[i], lower edge band_edges_mel[i-1], and higher edge\n",
    "    # band_edges_mel[i+1].  Thus, we need num_mel_bins + 2 values in\n",
    "    # the band_edges_mel arrays.\n",
    "    band_edges_mel = np.linspace(hertz_to_mel(lower_edge_hertz),\n",
    "                                 hertz_to_mel(upper_edge_hertz), num_mel_bins + 2)\n",
    "    # Matrix to post-multiply feature arrays whose rows are num_spectrogram_bins\n",
    "    # of spectrogram values.\n",
    "    mel_weights_matrix = np.empty((num_spectrogram_bins, num_mel_bins))\n",
    "    for i in range(num_mel_bins):\n",
    "        lower_edge_mel, center_mel, upper_edge_mel = band_edges_mel[i:i + 3]\n",
    "        # Calculate lower and upper slopes for every spectrogram bin.\n",
    "        # Line segments are linear in the *mel* domain, not hertz.\n",
    "        lower_slope = ((spectrogram_bins_mel - lower_edge_mel) /\n",
    "                       (center_mel - lower_edge_mel))\n",
    "        upper_slope = ((upper_edge_mel - spectrogram_bins_mel) /\n",
    "                       (upper_edge_mel - center_mel))\n",
    "        # .. then intersect them with each other and zero.\n",
    "        mel_weights_matrix[:, i] = np.maximum(0.0, np.minimum(lower_slope,\n",
    "                                                              upper_slope))\n",
    "    # HTK excludes the spectrogram DC bin; make sure it always gets a zero\n",
    "    # coefficient.\n",
    "    mel_weights_matrix[0, :] = 0.0\n",
    "    return mel_weights_matrix"
   ]
  },
  {
   "cell_type": "code",
   "execution_count": 24,
   "id": "35f7cf19",
   "metadata": {
    "execution": {
     "iopub.execute_input": "2022-06-09T19:16:41.918353Z",
     "iopub.status.busy": "2022-06-09T19:16:41.918159Z",
     "iopub.status.idle": "2022-06-09T19:16:41.922957Z",
     "shell.execute_reply": "2022-06-09T19:16:41.922331Z"
    },
    "papermill": {
     "duration": 0.03982,
     "end_time": "2022-06-09T19:16:41.924630",
     "exception": false,
     "start_time": "2022-06-09T19:16:41.884810",
     "status": "completed"
    },
    "tags": []
   },
   "outputs": [],
   "source": [
    "def hertz_to_mel(frequencies_hertz):\n",
    "    return 1127.0 * np.log(\n",
    "        1.0 + (frequencies_hertz / 700.0))"
   ]
  },
  {
   "cell_type": "code",
   "execution_count": 25,
   "id": "46d4593b",
   "metadata": {
    "execution": {
     "iopub.execute_input": "2022-06-09T19:16:41.990117Z",
     "iopub.status.busy": "2022-06-09T19:16:41.989897Z",
     "iopub.status.idle": "2022-06-09T19:16:41.995042Z",
     "shell.execute_reply": "2022-06-09T19:16:41.994348Z"
    },
    "papermill": {
     "duration": 0.039831,
     "end_time": "2022-06-09T19:16:41.996680",
     "exception": false,
     "start_time": "2022-06-09T19:16:41.956849",
     "status": "completed"
    },
    "tags": []
   },
   "outputs": [],
   "source": [
    "def extractFeatures_VGGish(y, sr):\n",
    "    # Sound noise reduction\n",
    "    y = f_high_VGGish(y, sr)\n",
    "    \n",
    "    feat = waveform_to_examples(y, sr)\n",
    "        \n",
    "    return feat"
   ]
  },
  {
   "cell_type": "markdown",
   "id": "e906b3ac",
   "metadata": {
    "papermill": {
     "duration": 0.032006,
     "end_time": "2022-06-09T19:16:42.061349",
     "exception": false,
     "start_time": "2022-06-09T19:16:42.029343",
     "status": "completed"
    },
    "tags": []
   },
   "source": [
    "## Process"
   ]
  },
  {
   "cell_type": "code",
   "execution_count": 26,
   "id": "e462d721",
   "metadata": {
    "execution": {
     "iopub.execute_input": "2022-06-09T19:16:42.127163Z",
     "iopub.status.busy": "2022-06-09T19:16:42.126947Z",
     "iopub.status.idle": "2022-06-09T19:16:42.135062Z",
     "shell.execute_reply": "2022-06-09T19:16:42.134344Z"
    },
    "papermill": {
     "duration": 0.043302,
     "end_time": "2022-06-09T19:16:42.136699",
     "exception": false,
     "start_time": "2022-06-09T19:16:42.093397",
     "status": "completed"
    },
    "tags": []
   },
   "outputs": [],
   "source": [
    "# create a meta dataset\n",
    "def create_meta(yhat1, yhat2, yhat3):\n",
    "    # convert to dataframes\n",
    "    df_new1 = pd.DataFrame.from_dict(yhat1, orient='index', columns=['tr1', 'tr2', 'tr3', 'tr4', 'tr5',\n",
    "                                                                     'tr6', 'tr7', 'tr8', 'tr9', 'tr10',\n",
    "                                                                     'tr11', 'tr12', 'tr13', 'tr14', 'tr15',\n",
    "                                                                     'tr16', 'tr17', 'tr18', 'tr19', 'tr20',\n",
    "                                                                     'tr21'])\n",
    "    \n",
    "    df_new2 = pd.DataFrame.from_dict(yhat2, orient='index', columns=['en1', 'en2', 'en3', 'en4', 'en5',\n",
    "                                                                     'en6', 'en7', 'en8', 'en9', 'en10',\n",
    "                                                                     'en11', 'en12', 'en13', 'en14', 'en15',\n",
    "                                                                     'en16', 'en17', 'en18', 'en19', 'en20',\n",
    "                                                                     'en21'])\n",
    "    \n",
    "    df_new3 = pd.DataFrame.from_dict(yhat3, orient='index', columns=['vg1', 'vg2', 'vg3', 'vg4', 'vg5',\n",
    "                                                                     'vg6', 'vg7', 'vg8', 'vg9', 'vg10',\n",
    "                                                                     'vg11', 'vg12', 'vg13', 'vg14', 'vg15',\n",
    "                                                                     'vg16', 'vg17', 'vg18', 'vg19', 'vg20',\n",
    "                                                                     'vg21'])\n",
    "    # create a meta dataset\n",
    "    X = pd.concat([df_new1, df_new2, df_new3], axis=1, verify_integrity=True)\n",
    "    \n",
    "    return X"
   ]
  },
  {
   "cell_type": "code",
   "execution_count": 27,
   "id": "d656f5c8",
   "metadata": {
    "execution": {
     "iopub.execute_input": "2022-06-09T19:16:42.203308Z",
     "iopub.status.busy": "2022-06-09T19:16:42.203109Z",
     "iopub.status.idle": "2022-06-09T19:16:42.213091Z",
     "shell.execute_reply": "2022-06-09T19:16:42.211905Z"
    },
    "papermill": {
     "duration": 0.045132,
     "end_time": "2022-06-09T19:16:42.214767",
     "exception": false,
     "start_time": "2022-06-09T19:16:42.169635",
     "status": "completed"
    },
    "tags": []
   },
   "outputs": [
    {
     "name": "stdout",
     "output_type": "stream",
     "text": [
      "Number of test soundscapes: 1\n"
     ]
    }
   ],
   "source": [
    "test_path = DATA_PATH + '/test_soundscapes/'\n",
    "files = [f.split('.')[0] for f in sorted(os.listdir(test_path))]\n",
    "print('Number of test soundscapes:', len(files))"
   ]
  },
  {
   "cell_type": "code",
   "execution_count": 28,
   "id": "c3ddc212",
   "metadata": {
    "execution": {
     "iopub.execute_input": "2022-06-09T19:16:42.279823Z",
     "iopub.status.busy": "2022-06-09T19:16:42.279629Z",
     "iopub.status.idle": "2022-06-09T19:16:42.475689Z",
     "shell.execute_reply": "2022-06-09T19:16:42.474903Z"
    },
    "papermill": {
     "duration": 0.230508,
     "end_time": "2022-06-09T19:16:42.477602",
     "exception": false,
     "start_time": "2022-06-09T19:16:42.247094",
     "status": "completed"
    },
    "tags": []
   },
   "outputs": [
    {
     "data": {
      "text/plain": [
       "0"
      ]
     },
     "execution_count": 28,
     "metadata": {},
     "output_type": "execute_result"
    }
   ],
   "source": [
    "del os\n",
    "gc.collect()"
   ]
  },
  {
   "cell_type": "code",
   "execution_count": 29,
   "id": "89484af9",
   "metadata": {
    "execution": {
     "iopub.execute_input": "2022-06-09T19:16:42.543679Z",
     "iopub.status.busy": "2022-06-09T19:16:42.543469Z",
     "iopub.status.idle": "2022-06-09T19:16:59.174576Z",
     "shell.execute_reply": "2022-06-09T19:16:59.173645Z"
    },
    "papermill": {
     "duration": 16.667439,
     "end_time": "2022-06-09T19:16:59.177342",
     "exception": false,
     "start_time": "2022-06-09T19:16:42.509903",
     "status": "completed"
    },
    "tags": []
   },
   "outputs": [],
   "source": [
    "startglobal = timeit.default_timer()\n",
    "\n",
    "data = []\n",
    "blocks = []\n",
    "\n",
    "for f in files:\n",
    "    file_path = test_path + f + '.ogg'\n",
    "\n",
    "    # Load audio file\n",
    "    audio, sr = librosa.load(file_path)\n",
    "    del file_path\n",
    "\n",
    "    # Get number of samples for 5 seconds\n",
    "    buffer = 5 * sr\n",
    "    block_min = 5 * sr\n",
    "\n",
    "    samples_total = len(audio)\n",
    "    samples_wrote = 0\n",
    "    counter = 1\n",
    "\n",
    "    while samples_wrote < samples_total:\n",
    "        # check if the buffer is not exceeding total samples\n",
    "        if buffer > (samples_total - samples_wrote):\n",
    "            buffer = samples_total - samples_wrote\n",
    "\n",
    "        block = audio[samples_wrote: (samples_wrote + buffer)]\n",
    "\n",
    "        # check if last block is as long as previous ones\n",
    "        if block.shape[0] < (block_min):\n",
    "            listofzeros = np.array([0] * (block_min - block.shape[0]))\n",
    "            block = np.hstack([block, listofzeros])\n",
    "            \n",
    "        blocks.append((f, counter, block))\n",
    "        \n",
    "        counter += 1\n",
    "        samples_wrote += buffer"
   ]
  },
  {
   "cell_type": "code",
   "execution_count": 30,
   "id": "4a81d979",
   "metadata": {},
   "outputs": [],
   "source": [
    "def treatment(f, counter, block):\n",
    "    # ------------------------------------------\n",
    "    # Features extraction\n",
    "    # ------------------------------------------\n",
    "\n",
    "    # Trill\n",
    "    trill_yhat = {}       \n",
    "    block_trill = extractFeatures_trill(block, sr)\n",
    "    X = np.empty((1, 80000))\n",
    "    X[0] = np.array(block_trill)\n",
    "    tensor = tf.convert_to_tensor(X, dtype=tf.float32)\n",
    "\n",
    "    pred_trill = Trill(tensor)\n",
    "    del block_trill\n",
    "    del X\n",
    "\n",
    "    trill_yhat[0] = pred_trill[0]\n",
    "    del pred_trill\n",
    "\n",
    "    # EfficientNet\n",
    "    EfficientNetB0_yhat = {}\n",
    "    block_EfficientNetB0 = extractFeatures_EfficientNetB0(block, sr)\n",
    "    X = np.empty((1, conf.num_rows, conf.num_columns, conf.num_channels))\n",
    "    X[0] = np.array(block_EfficientNetB0)\n",
    "    tensor = tf.convert_to_tensor(X, dtype=tf.float32)\n",
    "\n",
    "    pred_EfficientNetB0 = EfficientNetB0(tensor)\n",
    "    del block_EfficientNetB0\n",
    "    del X\n",
    "\n",
    "    EfficientNetB0_yhat[0] = pred_EfficientNetB0[0]\n",
    "    del pred_EfficientNetB0\n",
    "\n",
    "    # VGGish\n",
    "    VGGish_yhat = {}\n",
    "    block_VGGish = extractFeatures_VGGish(block, sr)\n",
    "    X = np.empty((1, 5, 96, 64))\n",
    "    X[0] = np.array(block_VGGish)\n",
    "    X = X.reshape(1, 480, 64, 1)\n",
    "    tensor = tf.convert_to_tensor(X, dtype=tf.float32)\n",
    "\n",
    "    pred_VGGish = VGGish(tensor)\n",
    "    del block_VGGish\n",
    "    del X\n",
    "\n",
    "    VGGish_yhat[0] = pred_VGGish[0]\n",
    "    del pred_VGGish\n",
    "    del block\n",
    "\n",
    "    # Construct meta dataset\n",
    "    meta_X = create_meta(trill_yhat, EfficientNetB0_yhat, VGGish_yhat)\n",
    "    del trill_yhat, EfficientNetB0_yhat, VGGish_yhat\n",
    "\n",
    "    # Prediction meta-model\n",
    "    pred_meta = meta_model.predict_proba(meta_X)\n",
    "    #print('pred_meta', pred_meta)\n",
    "    del meta_X\n",
    "\n",
    "    # Finalization\n",
    "    index = 0\n",
    "    label_indexes = []\n",
    "    for score in pred_meta:\n",
    "        if score[0][1] >= 0.1:\n",
    "            label_indexes.append(index)\n",
    "        index += 1\n",
    "\n",
    "    #print('label_indexes', label_indexes)\n",
    "\n",
    "    for b in scored_birds:\n",
    "        segment_end = counter * 5\n",
    "        row_id = f + '_' + b + '_' + str(segment_end)\n",
    "        target = False\n",
    "        for label_index in label_indexes:\n",
    "            if scored_birds[label_index] == b:\n",
    "                target = True\n",
    "        data.append([row_id, target])\n",
    "\n",
    "    del label_indexes\n",
    "    del pred_meta"
   ]
  },
  {
   "cell_type": "code",
   "execution_count": 31,
   "id": "1248a749",
   "metadata": {
    "scrolled": false
   },
   "outputs": [],
   "source": [
    "# Serial run\n",
    "result = [treatment(block[0], block[1], block[2]) for block in blocks]\n",
    "\n",
    "# Parallel using joblib and a progress bar using tqdm\n",
    "#result = Parallel(n_jobs=1, prefer='threads')(\n",
    "#    delayed(treatment)\n",
    "#    (block[0], block[1], block[2]) \n",
    "#    for block in blocks\n",
    "#)"
   ]
  },
  {
   "cell_type": "code",
   "execution_count": 32,
   "id": "0baa4c2d",
   "metadata": {},
   "outputs": [
    {
     "name": "stdout",
     "output_type": "stream",
     "text": [
      "                            row_id  target\n",
      "0    soundscape_453028782_akiapo_5   False\n",
      "1    soundscape_453028782_aniani_5   False\n",
      "2    soundscape_453028782_apapan_5   False\n",
      "3    soundscape_453028782_barpet_5   False\n",
      "4    soundscape_453028782_crehon_5   False\n",
      "5    soundscape_453028782_elepai_5    True\n",
      "6    soundscape_453028782_ercfra_5   False\n",
      "7    soundscape_453028782_hawama_5   False\n",
      "8    soundscape_453028782_hawcre_5   False\n",
      "9    soundscape_453028782_hawgoo_5   False\n",
      "10   soundscape_453028782_hawhaw_5   False\n",
      "11  soundscape_453028782_hawpet1_5    True\n",
      "12   soundscape_453028782_houfin_5   False\n",
      "13     soundscape_453028782_iiwi_5   False\n",
      "14   soundscape_453028782_jabwar_5    True\n",
      "15   soundscape_453028782_maupar_5   False\n",
      "16     soundscape_453028782_omao_5   False\n",
      "17   soundscape_453028782_puaioh_5   False\n",
      "18   soundscape_453028782_skylar_5    True\n",
      "19  soundscape_453028782_warwhe1_5    True\n",
      "20   soundscape_453028782_yefcan_5   False\n",
      "global 9.0903041\n"
     ]
    }
   ],
   "source": [
    "submission_df = pd.DataFrame(data, columns=['row_id', 'target'])\n",
    "submission_df.sort_values(by=['row_id'])\n",
    "print(submission_df.head(21))\n",
    "\n",
    "endglobal = timeit.default_timer()\n",
    "passTimeglobal = endglobal - startglobal\n",
    "print('global', passTimeglobal)"
   ]
  },
  {
   "cell_type": "code",
   "execution_count": 33,
   "id": "f40f088b",
   "metadata": {
    "execution": {
     "iopub.execute_input": "2022-06-09T19:16:59.259533Z",
     "iopub.status.busy": "2022-06-09T19:16:59.259335Z",
     "iopub.status.idle": "2022-06-09T19:16:59.265855Z",
     "shell.execute_reply": "2022-06-09T19:16:59.265196Z"
    },
    "papermill": {
     "duration": 0.045771,
     "end_time": "2022-06-09T19:16:59.267490",
     "exception": false,
     "start_time": "2022-06-09T19:16:59.221719",
     "status": "completed"
    },
    "tags": []
   },
   "outputs": [],
   "source": [
    "submission_df.to_csv(WORKING_PATH + 'submission.csv', index=False)"
   ]
  },
  {
   "cell_type": "code",
   "execution_count": null,
   "id": "6942b445",
   "metadata": {},
   "outputs": [],
   "source": []
  }
 ],
 "metadata": {
  "kernelspec": {
   "display_name": "tfp8",
   "language": "python",
   "name": "tfp8"
  },
  "language_info": {
   "codemirror_mode": {
    "name": "ipython",
    "version": 3
   },
   "file_extension": ".py",
   "mimetype": "text/x-python",
   "name": "python",
   "nbconvert_exporter": "python",
   "pygments_lexer": "ipython3",
   "version": "3.9.7"
  },
  "papermill": {
   "default_parameters": {},
   "duration": 50.361616,
   "end_time": "2022-06-09T19:17:02.161167",
   "environment_variables": {},
   "exception": null,
   "input_path": "__notebook__.ipynb",
   "output_path": "__notebook__.ipynb",
   "parameters": {},
   "start_time": "2022-06-09T19:16:11.799551",
   "version": "2.3.4"
  },
  "toc": {
   "base_numbering": 1,
   "nav_menu": {},
   "number_sections": true,
   "sideBar": true,
   "skip_h1_title": false,
   "title_cell": "Table of Contents",
   "title_sidebar": "Contents",
   "toc_cell": false,
   "toc_position": {
    "height": "calc(100% - 180px)",
    "left": "10px",
    "top": "150px",
    "width": "307.2px"
   },
   "toc_section_display": true,
   "toc_window_display": true
  }
 },
 "nbformat": 4,
 "nbformat_minor": 5
}
