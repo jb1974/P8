{
 "cells": [
  {
   "cell_type": "markdown",
   "id": "ce5e033d",
   "metadata": {
    "papermill": {
     "duration": 0.015813,
     "end_time": "2022-05-05T21:03:36.225262",
     "exception": false,
     "start_time": "2022-05-05T21:03:36.209449",
     "status": "completed"
    },
    "tags": []
   },
   "source": [
    "# Import"
   ]
  },
  {
   "cell_type": "code",
   "execution_count": 1,
   "id": "a6774791",
   "metadata": {
    "execution": {
     "iopub.execute_input": "2022-05-05T21:03:36.256277Z",
     "iopub.status.busy": "2022-05-05T21:03:36.255934Z",
     "iopub.status.idle": "2022-05-05T21:03:44.694025Z",
     "shell.execute_reply": "2022-05-05T21:03:44.692977Z"
    },
    "papermill": {
     "duration": 8.456726,
     "end_time": "2022-05-05T21:03:44.696648",
     "exception": false,
     "start_time": "2022-05-05T21:03:36.239922",
     "status": "completed"
    },
    "scrolled": true,
    "tags": []
   },
   "outputs": [],
   "source": [
    "# Misc\n",
    "import os\n",
    "import json\n",
    "import warnings\n",
    "\n",
    "# Data management\n",
    "import numpy as np\n",
    "import pandas as pd\n",
    "\n",
    "# Sound treatments\n",
    "import librosa\n",
    "import soundfile as sf\n",
    "\n",
    "# Model\n",
    "import tensorflow as tf\n",
    "\n",
    "from keras.applications.efficientnet import EfficientNetB0\n",
    "from keras.applications.efficientnet import preprocess_input as penb0\n",
    "\n",
    "# Metrics\n",
    "import tensorflow_addons as tfa"
   ]
  },
  {
   "cell_type": "markdown",
   "id": "745278db",
   "metadata": {
    "papermill": {
     "duration": 0.015625,
     "end_time": "2022-05-05T21:03:44.728142",
     "exception": false,
     "start_time": "2022-05-05T21:03:44.712517",
     "status": "completed"
    },
    "tags": []
   },
   "source": [
    "# Environment"
   ]
  },
  {
   "cell_type": "code",
   "execution_count": 2,
   "id": "b3bd7cec",
   "metadata": {},
   "outputs": [],
   "source": [
    "# Inactivate warnings\n",
    "warnings.filterwarnings('ignore')"
   ]
  },
  {
   "cell_type": "code",
   "execution_count": 3,
   "id": "b6e2a9da",
   "metadata": {
    "execution": {
     "iopub.execute_input": "2022-05-05T21:03:44.813263Z",
     "iopub.status.busy": "2022-05-05T21:03:44.812899Z",
     "iopub.status.idle": "2022-05-05T21:03:44.817861Z",
     "shell.execute_reply": "2022-05-05T21:03:44.816870Z"
    },
    "papermill": {
     "duration": 0.024182,
     "end_time": "2022-05-05T21:03:44.819854",
     "exception": false,
     "start_time": "2022-05-05T21:03:44.795672",
     "status": "completed"
    },
    "tags": []
   },
   "outputs": [],
   "source": [
    "#DATA_PATH = '/kaggle/input/birdclef-2022/'\n",
    "#KERNEL_PATH = '/kaggle/working/'\n",
    "#MODEL_PATH = '/kaggle/input/kernel-efficientnetb0-melspec-multilabel/'\n",
    "\n",
    "DATA_PATH = './data/'\n",
    "WORKING_PATH = './working/kernel/'\n",
    "MODEL_PATH = './working/kernel/'"
   ]
  },
  {
   "cell_type": "markdown",
   "id": "fe562851",
   "metadata": {
    "papermill": {
     "duration": 0.017909,
     "end_time": "2022-05-05T21:03:44.857606",
     "exception": false,
     "start_time": "2022-05-05T21:03:44.839697",
     "status": "completed"
    },
    "tags": []
   },
   "source": [
    "# Data load"
   ]
  },
  {
   "cell_type": "code",
   "execution_count": 4,
   "id": "ee7c2df8",
   "metadata": {
    "execution": {
     "iopub.execute_input": "2022-05-05T21:03:44.891370Z",
     "iopub.status.busy": "2022-05-05T21:03:44.890997Z",
     "iopub.status.idle": "2022-05-05T21:03:45.037262Z",
     "shell.execute_reply": "2022-05-05T21:03:45.036236Z"
    },
    "papermill": {
     "duration": 0.166617,
     "end_time": "2022-05-05T21:03:45.040036",
     "exception": false,
     "start_time": "2022-05-05T21:03:44.873419",
     "status": "completed"
    },
    "scrolled": true,
    "tags": []
   },
   "outputs": [
    {
     "data": {
      "text/plain": [
       "['akiapo',\n",
       " 'aniani',\n",
       " 'apapan',\n",
       " 'barpet',\n",
       " 'crehon',\n",
       " 'elepai',\n",
       " 'ercfra',\n",
       " 'hawama',\n",
       " 'hawcre',\n",
       " 'hawgoo',\n",
       " 'hawhaw',\n",
       " 'hawpet1',\n",
       " 'houfin',\n",
       " 'iiwi',\n",
       " 'jabwar',\n",
       " 'maupar',\n",
       " 'omao',\n",
       " 'puaioh',\n",
       " 'skylar',\n",
       " 'warwhe1',\n",
       " 'yefcan']"
      ]
     },
     "execution_count": 4,
     "metadata": {},
     "output_type": "execute_result"
    }
   ],
   "source": [
    "# Load meta data\n",
    "train_meta = pd.read_csv(DATA_PATH + 'train_metadata.csv')\n",
    "\n",
    "# Load scored birds\n",
    "with open(DATA_PATH + 'scored_birds.json') as sbfile:\n",
    "    scored_birds = json.load(sbfile)\n",
    "\n",
    "# Focus on 21 scored classes\n",
    "labels = list(train_meta[train_meta['primary_label'].isin(\n",
    "    scored_birds)]['primary_label'].unique())\n",
    "labels"
   ]
  },
  {
   "cell_type": "markdown",
   "id": "9b18677c",
   "metadata": {
    "papermill": {
     "duration": 0.018084,
     "end_time": "2022-05-05T21:03:45.078856",
     "exception": false,
     "start_time": "2022-05-05T21:03:45.060772",
     "status": "completed"
    },
    "tags": []
   },
   "source": [
    "# Model"
   ]
  },
  {
   "cell_type": "code",
   "execution_count": 5,
   "id": "e960f209",
   "metadata": {
    "execution": {
     "iopub.execute_input": "2022-05-05T21:03:45.114739Z",
     "iopub.status.busy": "2022-05-05T21:03:45.114450Z",
     "iopub.status.idle": "2022-05-05T21:03:45.119944Z",
     "shell.execute_reply": "2022-05-05T21:03:45.118926Z"
    },
    "papermill": {
     "duration": 0.02554,
     "end_time": "2022-05-05T21:03:45.122039",
     "exception": false,
     "start_time": "2022-05-05T21:03:45.096499",
     "status": "completed"
    },
    "tags": []
   },
   "outputs": [],
   "source": [
    "def create_cnn():\n",
    "\n",
    "    # Instanciate model\n",
    "    base_model = EfficientNetB0(include_top=False, input_shape=(\n",
    "            conf.num_rows, conf.num_columns, conf.num_channels), weights=None, pooling='avg')\n",
    "    dense = tf.keras.layers.Dense(142, activation='relu')(base_model.output)\n",
    "    outputs = tf.keras.layers.Dense(len(labels), activation='sigmoid')(dense)\n",
    "\n",
    "    base_model.trainable = False\n",
    "\n",
    "    model = tf.keras.models.Model(inputs=base_model.input, outputs=outputs)\n",
    "\n",
    "    return model"
   ]
  },
  {
   "cell_type": "markdown",
   "id": "e4bbade3",
   "metadata": {
    "papermill": {
     "duration": 0.015727,
     "end_time": "2022-05-05T21:03:45.154045",
     "exception": false,
     "start_time": "2022-05-05T21:03:45.138318",
     "status": "completed"
    },
    "tags": []
   },
   "source": [
    "# Configuration"
   ]
  },
  {
   "cell_type": "code",
   "execution_count": 6,
   "id": "69715515",
   "metadata": {
    "execution": {
     "iopub.execute_input": "2022-05-05T21:03:45.190948Z",
     "iopub.status.busy": "2022-05-05T21:03:45.190245Z",
     "iopub.status.idle": "2022-05-05T21:03:45.198162Z",
     "shell.execute_reply": "2022-05-05T21:03:45.197271Z"
    },
    "papermill": {
     "duration": 0.031009,
     "end_time": "2022-05-05T21:03:45.201015",
     "exception": false,
     "start_time": "2022-05-05T21:03:45.170006",
     "status": "completed"
    },
    "tags": []
   },
   "outputs": [],
   "source": [
    "class conf:\n",
    "    # Preprocessing settings\n",
    "    sampling_rate = 44100\n",
    "    n_mels = 224\n",
    "    hop_length = 494\n",
    "    n_fft = n_mels * 10\n",
    "    fmin = 20\n",
    "    fmax = 16000\n",
    "\n",
    "    # Model parameters\n",
    "    num_rows = 224\n",
    "    num_columns = 224\n",
    "    num_channels = 3"
   ]
  },
  {
   "cell_type": "markdown",
   "id": "a63d1333",
   "metadata": {
    "papermill": {
     "duration": 0.026309,
     "end_time": "2022-05-05T21:03:45.251995",
     "exception": false,
     "start_time": "2022-05-05T21:03:45.225686",
     "status": "completed"
    },
    "tags": []
   },
   "source": [
    "# Preprocessing"
   ]
  },
  {
   "cell_type": "code",
   "execution_count": 7,
   "id": "4f36611f",
   "metadata": {
    "execution": {
     "iopub.execute_input": "2022-05-05T21:03:45.286298Z",
     "iopub.status.busy": "2022-05-05T21:03:45.286047Z",
     "iopub.status.idle": "2022-05-05T21:03:45.291244Z",
     "shell.execute_reply": "2022-05-05T21:03:45.290386Z"
    },
    "papermill": {
     "duration": 0.02411,
     "end_time": "2022-05-05T21:03:45.293123",
     "exception": false,
     "start_time": "2022-05-05T21:03:45.269013",
     "status": "completed"
    },
    "tags": []
   },
   "outputs": [],
   "source": [
    "def audio_to_melspectrogram(audio):\n",
    "    spectrogram = librosa.feature.melspectrogram(audio,\n",
    "                                                 sr=conf.sampling_rate,\n",
    "                                                 n_mels=conf.n_mels,\n",
    "                                                 hop_length=conf.hop_length,\n",
    "                                                 n_fft=conf.n_fft,\n",
    "                                                 fmin=conf.fmin,\n",
    "                                                 fmax=conf.fmax)\n",
    "    spectrogram = librosa.power_to_db(spectrogram)\n",
    "    spectrogram = spectrogram.astype(np.float32)\n",
    "    return spectrogram"
   ]
  },
  {
   "cell_type": "code",
   "execution_count": 8,
   "id": "f09651f5",
   "metadata": {
    "execution": {
     "iopub.execute_input": "2022-05-05T21:03:45.326165Z",
     "iopub.status.busy": "2022-05-05T21:03:45.325567Z",
     "iopub.status.idle": "2022-05-05T21:03:45.331299Z",
     "shell.execute_reply": "2022-05-05T21:03:45.330607Z"
    },
    "papermill": {
     "duration": 0.024562,
     "end_time": "2022-05-05T21:03:45.333454",
     "exception": false,
     "start_time": "2022-05-05T21:03:45.308892",
     "status": "completed"
    },
    "tags": []
   },
   "outputs": [],
   "source": [
    "def extractFeatures(y, sr):\n",
    "    # Extract features\n",
    "    feat = audio_to_melspectrogram(y)\n",
    "    \n",
    "    # Feed columns with 0 if number of columns < conf.num_columns\n",
    "    if feat.shape[1] <= conf.num_columns:\n",
    "        pad_width = conf.num_columns - feat.shape[1]\n",
    "        feat = np.pad(feat, pad_width=(\n",
    "            (0, 0), (0, pad_width)), mode='constant')\n",
    "        \n",
    "    # 3 channels\n",
    "    feat = np.stack([feat, feat, feat], axis=-1)\n",
    "    \n",
    "    # preprocess\n",
    "    feat = penb0(feat)\n",
    "    \n",
    "    X = np.empty((1, conf.num_rows, conf.num_columns, conf.num_channels))\n",
    "    x_features = feat.tolist()\n",
    "    X[0] = np.array(x_features)\n",
    "\n",
    "    return X"
   ]
  },
  {
   "cell_type": "markdown",
   "id": "d1e69368",
   "metadata": {
    "papermill": {
     "duration": 0.015704,
     "end_time": "2022-05-05T21:03:45.365017",
     "exception": false,
     "start_time": "2022-05-05T21:03:45.349313",
     "status": "completed"
    },
    "tags": []
   },
   "source": [
    "# Submission"
   ]
  },
  {
   "cell_type": "markdown",
   "id": "aab8895d",
   "metadata": {
    "papermill": {
     "duration": 0.015716,
     "end_time": "2022-05-05T21:03:45.396561",
     "exception": false,
     "start_time": "2022-05-05T21:03:45.380845",
     "status": "completed"
    },
    "tags": []
   },
   "source": [
    "## Load model"
   ]
  },
  {
   "cell_type": "code",
   "execution_count": 9,
   "id": "f4f20f03",
   "metadata": {
    "execution": {
     "iopub.execute_input": "2022-05-05T21:03:45.430050Z",
     "iopub.status.busy": "2022-05-05T21:03:45.429435Z",
     "iopub.status.idle": "2022-05-05T21:03:48.028947Z",
     "shell.execute_reply": "2022-05-05T21:03:48.028281Z"
    },
    "papermill": {
     "duration": 2.618734,
     "end_time": "2022-05-05T21:03:48.031112",
     "exception": false,
     "start_time": "2022-05-05T21:03:45.412378",
     "status": "completed"
    },
    "tags": []
   },
   "outputs": [],
   "source": [
    "pred_model = create_cnn()\n",
    "pred_model.load_weights(MODEL_PATH + 'finetune_ms_da_EfficientNetB0.h5')"
   ]
  },
  {
   "cell_type": "markdown",
   "id": "ed23ff5e",
   "metadata": {
    "papermill": {
     "duration": 0.015517,
     "end_time": "2022-05-05T21:03:48.062171",
     "exception": false,
     "start_time": "2022-05-05T21:03:48.046654",
     "status": "completed"
    },
    "tags": []
   },
   "source": [
    "## Check model"
   ]
  },
  {
   "cell_type": "markdown",
   "id": "a21b5094",
   "metadata": {
    "papermill": {
     "duration": 0.015275,
     "end_time": "2022-05-05T21:03:48.093006",
     "exception": false,
     "start_time": "2022-05-05T21:03:48.077731",
     "status": "completed"
    },
    "tags": []
   },
   "source": [
    "## Process"
   ]
  },
  {
   "cell_type": "code",
   "execution_count": 10,
   "id": "b6566d79",
   "metadata": {
    "execution": {
     "iopub.execute_input": "2022-05-05T21:03:48.126212Z",
     "iopub.status.busy": "2022-05-05T21:03:48.125640Z",
     "iopub.status.idle": "2022-05-05T21:03:48.132574Z",
     "shell.execute_reply": "2022-05-05T21:03:48.131932Z"
    },
    "papermill": {
     "duration": 0.026046,
     "end_time": "2022-05-05T21:03:48.134702",
     "exception": false,
     "start_time": "2022-05-05T21:03:48.108656",
     "status": "completed"
    },
    "tags": []
   },
   "outputs": [
    {
     "name": "stdout",
     "output_type": "stream",
     "text": [
      "Number of test soundscapes: 1\n"
     ]
    }
   ],
   "source": [
    "test_path = DATA_PATH + '/test_soundscapes/'\n",
    "files = [f.split('.')[0] for f in sorted(os.listdir(test_path))]\n",
    "print('Number of test soundscapes:', len(files))"
   ]
  },
  {
   "cell_type": "code",
   "execution_count": 11,
   "id": "8be91ebc",
   "metadata": {},
   "outputs": [],
   "source": [
    "Class_weights = {0: 3.1419637033987953, 1: 3.669718389265234, 2: 1.063421846889857, 3: 3.079225362765372,\n",
    "                 4: 5.243224292473271, 5: 2.9406391994792256, 6: 5.51148827906795, 7: 1.684520523136885,\n",
    "                 8: 2.173804303128121, 9: 4.338768018246119, 10: 4.362865569825179, 11: 4.985395183171171,\n",
    "                 12: 1, 13: 1.2640925423520082, 14: 1.5514079786860249, 15: 4.550077111913326, 16: 1.9301083788605897,\n",
    "                 17: 5.879213059193268, 18: 1, 19: 1.3671332962711884, 20: 2.218504482046028}"
   ]
  },
  {
   "cell_type": "code",
   "execution_count": 12,
   "id": "13a91719",
   "metadata": {},
   "outputs": [],
   "source": [
    "def testscore(prediction):   \n",
    "    result = []\n",
    "\n",
    "    for i in range(0, len(prediction)):\n",
    "        if Class_weights[i] < 2:\n",
    "            if prediction[i] >= 1e-2:\n",
    "                result.append(prediction[i])\n",
    "        elif Class_weights[i] < 3:\n",
    "            if prediction[i] >= 1e-4:\n",
    "                result.append(prediction[i])\n",
    "        elif Class_weights[i] < 4:\n",
    "            if prediction[i] >= 1e-8:\n",
    "                result.append(prediction[i])\n",
    "        elif Class_weights[i] < 5:\n",
    "            if prediction[i] >= 1e-12:\n",
    "                result.append(prediction[i])\n",
    "        elif Class_weights[i] > 5:\n",
    "            if prediction[i] >= 1e-16:\n",
    "                result.append(prediction[i])\n",
    "                \n",
    "    return result"
   ]
  },
  {
   "cell_type": "code",
   "execution_count": 13,
   "id": "5a43280a",
   "metadata": {
    "execution": {
     "iopub.execute_input": "2022-05-05T21:03:48.168594Z",
     "iopub.status.busy": "2022-05-05T21:03:48.168038Z",
     "iopub.status.idle": "2022-05-05T21:03:55.096568Z",
     "shell.execute_reply": "2022-05-05T21:03:55.095706Z"
    },
    "papermill": {
     "duration": 6.947532,
     "end_time": "2022-05-05T21:03:55.098714",
     "exception": false,
     "start_time": "2022-05-05T21:03:48.151182",
     "status": "completed"
    },
    "tags": []
   },
   "outputs": [
    {
     "name": "stdout",
     "output_type": "stream",
     "text": [
      "[18, 12, 14, 11, 20, 16]\n",
      "[12, 14, 18, 11]\n",
      "[18, 12, 14, 16, 1, 2, 19, 11]\n",
      "[18, 12, 14, 19, 11]\n",
      "[12, 18, 14, 11, 20, 16]\n",
      "[18, 12, 14]\n",
      "[18, 12, 14, 11]\n",
      "[12, 18, 14, 16, 2, 1]\n",
      "[12, 18, 14, 11]\n",
      "[12, 18, 14, 11, 16]\n",
      "[12, 18, 14, 19, 16]\n",
      "[18, 12, 11, 19]\n"
     ]
    },
    {
     "data": {
      "text/html": [
       "<div>\n",
       "<style scoped>\n",
       "    .dataframe tbody tr th:only-of-type {\n",
       "        vertical-align: middle;\n",
       "    }\n",
       "\n",
       "    .dataframe tbody tr th {\n",
       "        vertical-align: top;\n",
       "    }\n",
       "\n",
       "    .dataframe thead th {\n",
       "        text-align: right;\n",
       "    }\n",
       "</style>\n",
       "<table border=\"1\" class=\"dataframe\">\n",
       "  <thead>\n",
       "    <tr style=\"text-align: right;\">\n",
       "      <th></th>\n",
       "      <th>row_id</th>\n",
       "      <th>target</th>\n",
       "    </tr>\n",
       "  </thead>\n",
       "  <tbody>\n",
       "    <tr>\n",
       "      <th>0</th>\n",
       "      <td>soundscape_453028782_akiapo_5</td>\n",
       "      <td>False</td>\n",
       "    </tr>\n",
       "    <tr>\n",
       "      <th>1</th>\n",
       "      <td>soundscape_453028782_aniani_5</td>\n",
       "      <td>False</td>\n",
       "    </tr>\n",
       "    <tr>\n",
       "      <th>2</th>\n",
       "      <td>soundscape_453028782_apapan_5</td>\n",
       "      <td>False</td>\n",
       "    </tr>\n",
       "    <tr>\n",
       "      <th>3</th>\n",
       "      <td>soundscape_453028782_barpet_5</td>\n",
       "      <td>False</td>\n",
       "    </tr>\n",
       "    <tr>\n",
       "      <th>4</th>\n",
       "      <td>soundscape_453028782_crehon_5</td>\n",
       "      <td>False</td>\n",
       "    </tr>\n",
       "    <tr>\n",
       "      <th>5</th>\n",
       "      <td>soundscape_453028782_elepai_5</td>\n",
       "      <td>False</td>\n",
       "    </tr>\n",
       "    <tr>\n",
       "      <th>6</th>\n",
       "      <td>soundscape_453028782_ercfra_5</td>\n",
       "      <td>False</td>\n",
       "    </tr>\n",
       "    <tr>\n",
       "      <th>7</th>\n",
       "      <td>soundscape_453028782_hawama_5</td>\n",
       "      <td>False</td>\n",
       "    </tr>\n",
       "    <tr>\n",
       "      <th>8</th>\n",
       "      <td>soundscape_453028782_hawcre_5</td>\n",
       "      <td>False</td>\n",
       "    </tr>\n",
       "    <tr>\n",
       "      <th>9</th>\n",
       "      <td>soundscape_453028782_hawgoo_5</td>\n",
       "      <td>False</td>\n",
       "    </tr>\n",
       "    <tr>\n",
       "      <th>10</th>\n",
       "      <td>soundscape_453028782_hawhaw_5</td>\n",
       "      <td>False</td>\n",
       "    </tr>\n",
       "    <tr>\n",
       "      <th>11</th>\n",
       "      <td>soundscape_453028782_hawpet1_5</td>\n",
       "      <td>True</td>\n",
       "    </tr>\n",
       "    <tr>\n",
       "      <th>12</th>\n",
       "      <td>soundscape_453028782_houfin_5</td>\n",
       "      <td>True</td>\n",
       "    </tr>\n",
       "    <tr>\n",
       "      <th>13</th>\n",
       "      <td>soundscape_453028782_iiwi_5</td>\n",
       "      <td>False</td>\n",
       "    </tr>\n",
       "    <tr>\n",
       "      <th>14</th>\n",
       "      <td>soundscape_453028782_jabwar_5</td>\n",
       "      <td>True</td>\n",
       "    </tr>\n",
       "    <tr>\n",
       "      <th>15</th>\n",
       "      <td>soundscape_453028782_maupar_5</td>\n",
       "      <td>False</td>\n",
       "    </tr>\n",
       "    <tr>\n",
       "      <th>16</th>\n",
       "      <td>soundscape_453028782_omao_5</td>\n",
       "      <td>True</td>\n",
       "    </tr>\n",
       "    <tr>\n",
       "      <th>17</th>\n",
       "      <td>soundscape_453028782_puaioh_5</td>\n",
       "      <td>False</td>\n",
       "    </tr>\n",
       "    <tr>\n",
       "      <th>18</th>\n",
       "      <td>soundscape_453028782_skylar_5</td>\n",
       "      <td>True</td>\n",
       "    </tr>\n",
       "    <tr>\n",
       "      <th>19</th>\n",
       "      <td>soundscape_453028782_warwhe1_5</td>\n",
       "      <td>False</td>\n",
       "    </tr>\n",
       "    <tr>\n",
       "      <th>20</th>\n",
       "      <td>soundscape_453028782_yefcan_5</td>\n",
       "      <td>True</td>\n",
       "    </tr>\n",
       "  </tbody>\n",
       "</table>\n",
       "</div>"
      ],
      "text/plain": [
       "                            row_id  target\n",
       "0    soundscape_453028782_akiapo_5   False\n",
       "1    soundscape_453028782_aniani_5   False\n",
       "2    soundscape_453028782_apapan_5   False\n",
       "3    soundscape_453028782_barpet_5   False\n",
       "4    soundscape_453028782_crehon_5   False\n",
       "5    soundscape_453028782_elepai_5   False\n",
       "6    soundscape_453028782_ercfra_5   False\n",
       "7    soundscape_453028782_hawama_5   False\n",
       "8    soundscape_453028782_hawcre_5   False\n",
       "9    soundscape_453028782_hawgoo_5   False\n",
       "10   soundscape_453028782_hawhaw_5   False\n",
       "11  soundscape_453028782_hawpet1_5    True\n",
       "12   soundscape_453028782_houfin_5    True\n",
       "13     soundscape_453028782_iiwi_5   False\n",
       "14   soundscape_453028782_jabwar_5    True\n",
       "15   soundscape_453028782_maupar_5   False\n",
       "16     soundscape_453028782_omao_5    True\n",
       "17   soundscape_453028782_puaioh_5   False\n",
       "18   soundscape_453028782_skylar_5    True\n",
       "19  soundscape_453028782_warwhe1_5   False\n",
       "20   soundscape_453028782_yefcan_5    True"
      ]
     },
     "execution_count": 13,
     "metadata": {},
     "output_type": "execute_result"
    }
   ],
   "source": [
    "data = []\n",
    "\n",
    "for f in files:\n",
    "    file_path = test_path + f + '.ogg'\n",
    "\n",
    "    # Load audio file\n",
    "    audio, sr = librosa.load(file_path)\n",
    "\n",
    "    # Get number of samples for 5 seconds\n",
    "    buffer = 5 * sr\n",
    "    block_min = 5 * sr\n",
    "\n",
    "    samples_total = len(audio)\n",
    "    samples_wrote = 0\n",
    "    counter = 1\n",
    "\n",
    "    while samples_wrote < samples_total:\n",
    "        # check if the buffer is not exceeding total samples\n",
    "        if buffer > (samples_total - samples_wrote):\n",
    "            buffer = samples_total - samples_wrote\n",
    "\n",
    "        block = audio[samples_wrote: (samples_wrote + buffer)]\n",
    "\n",
    "        # check if last block is as long as previous ones\n",
    "        if block.shape[0] < (block_min):\n",
    "            listofzeros = np.array([0] * (block_min - block.shape[0]))\n",
    "            block = np.hstack([block, listofzeros])\n",
    "\n",
    "        # Features extraction\n",
    "        block = extractFeatures(block, sr)\n",
    "\n",
    "        # Prediction\n",
    "        pred = pred_model.predict(block)\n",
    "        #print('pred', pred)\n",
    "\n",
    "        #countOK = list(filter(lambda score: score >= 1e-3, pred[0]))\n",
    "        countOK = testscore(pred[0])\n",
    "        #print('countOK', countOK)\n",
    "\n",
    "        label_indexes = []\n",
    "        for i in range(0, len(countOK)):\n",
    "            label_indexes.append(np.argsort(np.max(pred, axis=0))[-(i+1)])\n",
    "\n",
    "        print(label_indexes)\n",
    "\n",
    "        for b in scored_birds:\n",
    "            segment_end = counter * 5\n",
    "            row_id = f + '_' + b + '_' + str(segment_end)\n",
    "            target = False\n",
    "            for label_index in label_indexes:\n",
    "                if labels[label_index] == b:\n",
    "                    target = True\n",
    "            data.append([row_id, target])\n",
    "        counter += 1\n",
    "        samples_wrote += buffer\n",
    "\n",
    "submission_df = pd.DataFrame(data, columns=['row_id', 'target'])\n",
    "submission_df.head(21)"
   ]
  },
  {
   "cell_type": "code",
   "execution_count": 14,
   "id": "a6d32240",
   "metadata": {
    "execution": {
     "iopub.execute_input": "2022-05-05T21:03:55.137037Z",
     "iopub.status.busy": "2022-05-05T21:03:55.136763Z",
     "iopub.status.idle": "2022-05-05T21:03:55.144205Z",
     "shell.execute_reply": "2022-05-05T21:03:55.143377Z"
    },
    "papermill": {
     "duration": 0.029572,
     "end_time": "2022-05-05T21:03:55.146348",
     "exception": false,
     "start_time": "2022-05-05T21:03:55.116776",
     "status": "completed"
    },
    "tags": []
   },
   "outputs": [],
   "source": [
    "submission_df.to_csv(WORKING_PATH + 'submission.csv', index=False)"
   ]
  },
  {
   "cell_type": "code",
   "execution_count": null,
   "id": "8ab9ed5b",
   "metadata": {
    "papermill": {
     "duration": 0.017675,
     "end_time": "2022-05-05T21:03:55.182114",
     "exception": false,
     "start_time": "2022-05-05T21:03:55.164439",
     "status": "completed"
    },
    "tags": []
   },
   "outputs": [],
   "source": []
  }
 ],
 "metadata": {
  "kernelspec": {
   "display_name": "tfp8",
   "language": "python",
   "name": "tfp8"
  },
  "language_info": {
   "codemirror_mode": {
    "name": "ipython",
    "version": 3
   },
   "file_extension": ".py",
   "mimetype": "text/x-python",
   "name": "python",
   "nbconvert_exporter": "python",
   "pygments_lexer": "ipython3",
   "version": "3.9.7"
  },
  "papermill": {
   "default_parameters": {},
   "duration": 30.407461,
   "end_time": "2022-05-05T21:03:58.275023",
   "environment_variables": {},
   "exception": null,
   "input_path": "__notebook__.ipynb",
   "output_path": "__notebook__.ipynb",
   "parameters": {},
   "start_time": "2022-05-05T21:03:27.867562",
   "version": "2.3.4"
  },
  "toc": {
   "base_numbering": 1,
   "nav_menu": {},
   "number_sections": true,
   "sideBar": true,
   "skip_h1_title": false,
   "title_cell": "Table of Contents",
   "title_sidebar": "Contents",
   "toc_cell": false,
   "toc_position": {
    "height": "calc(100% - 180px)",
    "left": "10px",
    "top": "150px",
    "width": "307.2px"
   },
   "toc_section_display": true,
   "toc_window_display": true
  }
 },
 "nbformat": 4,
 "nbformat_minor": 5
}
