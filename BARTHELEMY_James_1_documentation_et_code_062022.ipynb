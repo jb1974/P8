{
 "cells": [
  {
   "cell_type": "markdown",
   "id": "90bff9d0",
   "metadata": {},
   "source": [
    "# Import"
   ]
  },
  {
   "cell_type": "code",
   "execution_count": 1,
   "id": "6ce07718",
   "metadata": {},
   "outputs": [],
   "source": [
    "# Misc\n",
    "import os\n",
    "import json\n",
    "import joblib\n",
    "import warnings\n",
    "from ipywidgets import IntProgress\n",
    "from IPython.display import display\n",
    "\n",
    "# Data management\n",
    "import numpy as np\n",
    "import pandas as pd\n",
    "\n",
    "# Sound treatments\n",
    "import librosa\n",
    "import soundfile as sf\n",
    "from scipy import signal\n",
    "\n",
    "# Data generator\n",
    "from tensorflow.keras.utils import Sequence\n",
    "\n",
    "# Preprocessing\n",
    "from sklearn.model_selection import train_test_split\n",
    "from sklearn.preprocessing import MultiLabelBinarizer\n",
    "\n",
    "# Model\n",
    "import tensorflow as tf\n",
    "from tensorflow.keras.models import Model\n",
    "from tensorflow.keras.layers import Dense, GlobalAveragePooling2D, Input, Concatenate\n",
    "from tensorflow.keras.callbacks import ModelCheckpoint, EarlyStopping, ReduceLROnPlateau\n",
    "\n",
    "from tensorflow.keras.applications import MobileNetV2\n",
    "from tensorflow.keras.applications.mobilenet_v2 import preprocess_input as pimnv2\n",
    "from keras.applications.inception_v3 import InceptionV3\n",
    "from keras.applications.inception_v3 import preprocess_input as piv3\n",
    "from keras.applications.efficientnet import EfficientNetB0\n",
    "from keras.applications.efficientnet import preprocess_input as penb0\n",
    "from keras.applications.resnet import ResNet50\n",
    "from keras.applications.resnet import preprocess_input as prn50\n",
    "\n",
    "# VGGish\n",
    "from vggish import vggish_input\n",
    "from vggish import vggish_params as params\n",
    "import vggish_keras as vgk\n",
    "\n",
    "# TRILL\n",
    "import tensorflow.compat.v2 as tf2\n",
    "tf2.enable_v2_behavior()\n",
    "assert tf2.executing_eagerly()\n",
    "import tensorflow_hub as hub\n",
    "\n",
    "# Metrics\n",
    "import tensorflow_addons as tfa\n",
    "from tensorflow_addons.layers.netvlad import NetVLAD\n",
    "\n",
    "# Plot\n",
    "import matplotlib.pyplot as plt\n",
    "import seaborn as sns"
   ]
  },
  {
   "cell_type": "markdown",
   "id": "577e8401",
   "metadata": {},
   "source": [
    "# Environment"
   ]
  },
  {
   "cell_type": "code",
   "execution_count": 2,
   "id": "69cc41a3",
   "metadata": {},
   "outputs": [
    {
     "name": "stdout",
     "output_type": "stream",
     "text": [
      "TensorFlow Version: 2.6.0\n",
      "Default GPU Device: [PhysicalDevice(name='/physical_device:GPU:0', device_type='GPU')]\n"
     ]
    }
   ],
   "source": [
    "# Allow to display all dataframes columns\n",
    "pd.set_option(\"display.max_columns\", None)\n",
    "\n",
    "# Disable SettingWithCopyWarning\n",
    "pd.set_option('mode.chained_assignment', None)\n",
    "\n",
    "# Inactivate warnings\n",
    "warnings.filterwarnings('ignore')\n",
    "\n",
    "# Display Tensorlfow version\n",
    "print('TensorFlow Version: {}'.format(tf.__version__))\n",
    "\n",
    "# Check for a GPU\n",
    "if not tf.config.list_physical_devices('GPU'):\n",
    "    print('No GPU found. Please ensure you have installed TensorFlow correctly')\n",
    "\n",
    "else:\n",
    "    print('Default GPU Device: {}'.format(\n",
    "        tf.config.list_physical_devices('GPU')))\n",
    "\n",
    "    # Allow memory growth\n",
    "    physical_devices = tf.config.list_physical_devices('GPU')\n",
    "    tf.config.experimental.set_memory_growth(physical_devices[0], True)"
   ]
  },
  {
   "cell_type": "code",
   "execution_count": 3,
   "id": "53f27839",
   "metadata": {},
   "outputs": [],
   "source": [
    "DATA_PATH = './data/'\n",
    "WORKING_PATH = './working/final/'"
   ]
  },
  {
   "cell_type": "markdown",
   "id": "f043bad6",
   "metadata": {},
   "source": [
    "# Data exploration"
   ]
  },
  {
   "cell_type": "markdown",
   "id": "cd48b93d",
   "metadata": {},
   "source": [
    "## Data load"
   ]
  },
  {
   "cell_type": "code",
   "execution_count": 4,
   "id": "5c081303",
   "metadata": {},
   "outputs": [],
   "source": [
    "# Load meta data\n",
    "train_meta = pd.read_csv(DATA_PATH + 'train_metadata.csv',\n",
    "                         sep=',', decimal='.', encoding='utf8', low_memory=False)"
   ]
  },
  {
   "cell_type": "code",
   "execution_count": 5,
   "id": "911d23a0",
   "metadata": {
    "scrolled": true
   },
   "outputs": [
    {
     "data": {
      "text/html": [
       "<div>\n",
       "<style scoped>\n",
       "    .dataframe tbody tr th:only-of-type {\n",
       "        vertical-align: middle;\n",
       "    }\n",
       "\n",
       "    .dataframe tbody tr th {\n",
       "        vertical-align: top;\n",
       "    }\n",
       "\n",
       "    .dataframe thead th {\n",
       "        text-align: right;\n",
       "    }\n",
       "</style>\n",
       "<table border=\"1\" class=\"dataframe\">\n",
       "  <thead>\n",
       "    <tr style=\"text-align: right;\">\n",
       "      <th></th>\n",
       "      <th>primary_label</th>\n",
       "      <th>secondary_labels</th>\n",
       "      <th>type</th>\n",
       "      <th>latitude</th>\n",
       "      <th>longitude</th>\n",
       "      <th>scientific_name</th>\n",
       "      <th>common_name</th>\n",
       "      <th>author</th>\n",
       "      <th>license</th>\n",
       "      <th>rating</th>\n",
       "      <th>time</th>\n",
       "      <th>url</th>\n",
       "      <th>filename</th>\n",
       "    </tr>\n",
       "  </thead>\n",
       "  <tbody>\n",
       "    <tr>\n",
       "      <th>0</th>\n",
       "      <td>afrsil1</td>\n",
       "      <td>[]</td>\n",
       "      <td>['call', 'flight call']</td>\n",
       "      <td>12.3910</td>\n",
       "      <td>-1.4930</td>\n",
       "      <td>Euodice cantans</td>\n",
       "      <td>African Silverbill</td>\n",
       "      <td>Bram Piot</td>\n",
       "      <td>Creative Commons Attribution-NonCommercial-Sha...</td>\n",
       "      <td>2.5</td>\n",
       "      <td>08:00</td>\n",
       "      <td>https://www.xeno-canto.org/125458</td>\n",
       "      <td>afrsil1/XC125458.ogg</td>\n",
       "    </tr>\n",
       "    <tr>\n",
       "      <th>1</th>\n",
       "      <td>afrsil1</td>\n",
       "      <td>['houspa', 'redava', 'zebdov']</td>\n",
       "      <td>['call']</td>\n",
       "      <td>19.8801</td>\n",
       "      <td>-155.7254</td>\n",
       "      <td>Euodice cantans</td>\n",
       "      <td>African Silverbill</td>\n",
       "      <td>Dan Lane</td>\n",
       "      <td>Creative Commons Attribution-NonCommercial-Sha...</td>\n",
       "      <td>3.5</td>\n",
       "      <td>08:30</td>\n",
       "      <td>https://www.xeno-canto.org/175522</td>\n",
       "      <td>afrsil1/XC175522.ogg</td>\n",
       "    </tr>\n",
       "    <tr>\n",
       "      <th>2</th>\n",
       "      <td>afrsil1</td>\n",
       "      <td>[]</td>\n",
       "      <td>['call', 'song']</td>\n",
       "      <td>16.2901</td>\n",
       "      <td>-16.0321</td>\n",
       "      <td>Euodice cantans</td>\n",
       "      <td>African Silverbill</td>\n",
       "      <td>Bram Piot</td>\n",
       "      <td>Creative Commons Attribution-NonCommercial-Sha...</td>\n",
       "      <td>4.0</td>\n",
       "      <td>11:30</td>\n",
       "      <td>https://www.xeno-canto.org/177993</td>\n",
       "      <td>afrsil1/XC177993.ogg</td>\n",
       "    </tr>\n",
       "    <tr>\n",
       "      <th>3</th>\n",
       "      <td>afrsil1</td>\n",
       "      <td>[]</td>\n",
       "      <td>['alarm call', 'call']</td>\n",
       "      <td>17.0922</td>\n",
       "      <td>54.2958</td>\n",
       "      <td>Euodice cantans</td>\n",
       "      <td>African Silverbill</td>\n",
       "      <td>Oscar Campbell</td>\n",
       "      <td>Creative Commons Attribution-NonCommercial-Sha...</td>\n",
       "      <td>4.0</td>\n",
       "      <td>11:00</td>\n",
       "      <td>https://www.xeno-canto.org/205893</td>\n",
       "      <td>afrsil1/XC205893.ogg</td>\n",
       "    </tr>\n",
       "    <tr>\n",
       "      <th>4</th>\n",
       "      <td>afrsil1</td>\n",
       "      <td>[]</td>\n",
       "      <td>['flight call']</td>\n",
       "      <td>21.4581</td>\n",
       "      <td>-157.7252</td>\n",
       "      <td>Euodice cantans</td>\n",
       "      <td>African Silverbill</td>\n",
       "      <td>Ross Gallardy</td>\n",
       "      <td>Creative Commons Attribution-NonCommercial-Sha...</td>\n",
       "      <td>3.0</td>\n",
       "      <td>16:30</td>\n",
       "      <td>https://www.xeno-canto.org/207431</td>\n",
       "      <td>afrsil1/XC207431.ogg</td>\n",
       "    </tr>\n",
       "  </tbody>\n",
       "</table>\n",
       "</div>"
      ],
      "text/plain": [
       "  primary_label                secondary_labels                     type  \\\n",
       "0       afrsil1                              []  ['call', 'flight call']   \n",
       "1       afrsil1  ['houspa', 'redava', 'zebdov']                 ['call']   \n",
       "2       afrsil1                              []         ['call', 'song']   \n",
       "3       afrsil1                              []   ['alarm call', 'call']   \n",
       "4       afrsil1                              []          ['flight call']   \n",
       "\n",
       "   latitude  longitude  scientific_name         common_name          author  \\\n",
       "0   12.3910    -1.4930  Euodice cantans  African Silverbill       Bram Piot   \n",
       "1   19.8801  -155.7254  Euodice cantans  African Silverbill        Dan Lane   \n",
       "2   16.2901   -16.0321  Euodice cantans  African Silverbill       Bram Piot   \n",
       "3   17.0922    54.2958  Euodice cantans  African Silverbill  Oscar Campbell   \n",
       "4   21.4581  -157.7252  Euodice cantans  African Silverbill   Ross Gallardy   \n",
       "\n",
       "                                             license  rating   time  \\\n",
       "0  Creative Commons Attribution-NonCommercial-Sha...     2.5  08:00   \n",
       "1  Creative Commons Attribution-NonCommercial-Sha...     3.5  08:30   \n",
       "2  Creative Commons Attribution-NonCommercial-Sha...     4.0  11:30   \n",
       "3  Creative Commons Attribution-NonCommercial-Sha...     4.0  11:00   \n",
       "4  Creative Commons Attribution-NonCommercial-Sha...     3.0  16:30   \n",
       "\n",
       "                                 url              filename  \n",
       "0  https://www.xeno-canto.org/125458  afrsil1/XC125458.ogg  \n",
       "1  https://www.xeno-canto.org/175522  afrsil1/XC175522.ogg  \n",
       "2  https://www.xeno-canto.org/177993  afrsil1/XC177993.ogg  \n",
       "3  https://www.xeno-canto.org/205893  afrsil1/XC205893.ogg  \n",
       "4  https://www.xeno-canto.org/207431  afrsil1/XC207431.ogg  "
      ]
     },
     "execution_count": 5,
     "metadata": {},
     "output_type": "execute_result"
    }
   ],
   "source": [
    "train_meta.head()"
   ]
  },
  {
   "cell_type": "code",
   "execution_count": 6,
   "id": "f42ab53c",
   "metadata": {},
   "outputs": [
    {
     "data": {
      "text/plain": [
       "['akiapo',\n",
       " 'aniani',\n",
       " 'apapan',\n",
       " 'barpet',\n",
       " 'crehon',\n",
       " 'elepai',\n",
       " 'ercfra',\n",
       " 'hawama',\n",
       " 'hawcre',\n",
       " 'hawgoo',\n",
       " 'hawhaw',\n",
       " 'hawpet1',\n",
       " 'houfin',\n",
       " 'iiwi',\n",
       " 'jabwar',\n",
       " 'maupar',\n",
       " 'omao',\n",
       " 'puaioh',\n",
       " 'skylar',\n",
       " 'warwhe1',\n",
       " 'yefcan']"
      ]
     },
     "execution_count": 6,
     "metadata": {},
     "output_type": "execute_result"
    }
   ],
   "source": [
    "# Load scored birds\n",
    "with open(DATA_PATH + 'scored_birds.json') as sbfile:\n",
    "    scored_birds = json.load(sbfile)\n",
    "\n",
    "scored_birds"
   ]
  },
  {
   "cell_type": "markdown",
   "id": "534f8608",
   "metadata": {},
   "source": [
    "## Distribution per class"
   ]
  },
  {
   "cell_type": "code",
   "execution_count": 7,
   "id": "fd5df79e",
   "metadata": {},
   "outputs": [
    {
     "data": {
      "image/png": "[encoded data removed]",
      "text/plain": [
       "<Figure size 1152x432 with 1 Axes>"
      ]
     },
     "metadata": {
      "needs_background": "light"
     },
     "output_type": "display_data"
    }
   ],
   "source": [
    "birds = train_meta[\"primary_label\"].value_counts().to_dict()\n",
    "\n",
    "fig = plt.figure(figsize=(16, 6))\n",
    "sns.barplot(x=list(birds.keys()), y=list(birds.values()), color='steelblue')\n",
    "plt.title('Distribution per class')\n",
    "plt.xlabel('Classes')\n",
    "plt.ylabel('Occurences')\n",
    "plt.xticks(rotation=90)\n",
    "plt.show()"
   ]
  },
  {
   "cell_type": "code",
   "execution_count": 8,
   "id": "825efa28",
   "metadata": {},
   "outputs": [
    {
     "name": "stdout",
     "output_type": "stream",
     "text": [
      "Number of classes:  152\n",
      "\n",
      "Minimum number of sounds for the class:  maupar 1\n",
      "Maximum number of sounds for the class:  brnowl 500\n",
      "Total number of sounds:  14852\n",
      "Average number of sounds per classes:  97.71052631578948\n"
     ]
    }
   ],
   "source": [
    "key_max = max(birds.keys(), key=(lambda k: birds[k]))\n",
    "key_min = min(birds.keys(), key=(lambda k: birds[k]))\n",
    "\n",
    "print('Number of classes: ', len(birds.keys()))\n",
    "print('')\n",
    "print('Minimum number of sounds for the class: ',\n",
    "      key_min + ' ' + str(birds[key_min]))\n",
    "print('Maximum number of sounds for the class: ',\n",
    "      key_max + ' ' + str(birds[key_max]))\n",
    "print('Total number of sounds: ', sum(birds.values()))\n",
    "print('Average number of sounds per classes: ',\n",
    "      sum(birds.values()) / len(birds.values()))"
   ]
  },
  {
   "cell_type": "markdown",
   "id": "ddb4781f",
   "metadata": {},
   "source": [
    "## Focus on scored birds"
   ]
  },
  {
   "cell_type": "code",
   "execution_count": 9,
   "id": "62b291c4",
   "metadata": {},
   "outputs": [],
   "source": [
    "# Focus on 21 scored classes\n",
    "data_filtered = train_meta[train_meta['primary_label'].isin(scored_birds)]"
   ]
  },
  {
   "cell_type": "code",
   "execution_count": 10,
   "id": "96342a4e",
   "metadata": {},
   "outputs": [
    {
     "data": {
      "image/png": "[encoded data removed]",
      "text/plain": [
       "<Figure size 1152x432 with 1 Axes>"
      ]
     },
     "metadata": {
      "needs_background": "light"
     },
     "output_type": "display_data"
    }
   ],
   "source": [
    "birds_filtered = data_filtered['primary_label'].value_counts().to_dict()\n",
    "\n",
    "fig = plt.figure(figsize=(16, 6))\n",
    "sns.barplot(x=list(birds_filtered.keys()), y=list(\n",
    "    birds_filtered.values()), color='steelblue')\n",
    "plt.title('Distribution per class')\n",
    "plt.xlabel('Classes')\n",
    "plt.ylabel('Occurences')\n",
    "plt.xticks(rotation=90)\n",
    "plt.show()"
   ]
  },
  {
   "cell_type": "code",
   "execution_count": 11,
   "id": "527d577d",
   "metadata": {},
   "outputs": [
    {
     "name": "stdout",
     "output_type": "stream",
     "text": [
      "Number of classes:  21\n",
      "Missing classes:  set()\n",
      "\n",
      "Minimum number of sounds for the class:  maupar 1\n",
      "Maximum number of sounds for the class:  skylar 500\n",
      "Total number of sounds:  1266\n",
      "Average number of sounds per classes:  60.285714285714285\n"
     ]
    }
   ],
   "source": [
    "key_max = max(birds_filtered.keys(), key=(lambda k: birds_filtered[k]))\n",
    "key_min = min(birds_filtered.keys(), key=(lambda k: birds_filtered[k]))\n",
    "\n",
    "print('Number of classes: ', len(birds_filtered.keys()))\n",
    "print('Missing classes: ', scored_birds-birds_filtered.keys())\n",
    "print('')\n",
    "print('Minimum number of sounds for the class: ',\n",
    "      key_min + ' ' + str(birds_filtered[key_min]))\n",
    "print('Maximum number of sounds for the class: ',\n",
    "      key_max + ' ' + str(birds_filtered[key_max]))\n",
    "print('Total number of sounds: ', sum(birds_filtered.values()))\n",
    "print('Average number of sounds per classes: ', sum(\n",
    "    birds_filtered.values()) / len(birds_filtered.values()))"
   ]
  },
  {
   "cell_type": "markdown",
   "id": "ddb76d1f",
   "metadata": {},
   "source": [
    "## Birds number per sound"
   ]
  },
  {
   "cell_type": "code",
   "execution_count": 12,
   "id": "462d669f",
   "metadata": {},
   "outputs": [],
   "source": [
    "# Split secondary_labels in a list of birds\n",
    "def split_secondary(df):\n",
    "    record = df['secondary_labels'].replace(\n",
    "        '[', '').replace(']', '').replace(\"'\", \"\").split(',')\n",
    "    return record\n",
    "\n",
    "\n",
    "data_filtered['secondary_list'] = data_filtered.apply(split_secondary, axis=1)"
   ]
  },
  {
   "cell_type": "code",
   "execution_count": 13,
   "id": "7e515731",
   "metadata": {},
   "outputs": [],
   "source": [
    "# Count the birds in the birds lists\n",
    "def birds_number(df):\n",
    "    return len(df['secondary_list'])\n",
    "\n",
    "\n",
    "data_filtered['birds_number'] = data_filtered.apply(birds_number, axis=1)"
   ]
  },
  {
   "cell_type": "code",
   "execution_count": 14,
   "id": "463e7482",
   "metadata": {},
   "outputs": [],
   "source": [
    "data_filtered['secondary_list'] = data_filtered.apply(split_secondary, axis=1)\n",
    "data_filtered['birds_number'] = data_filtered.apply(birds_number, axis=1)"
   ]
  },
  {
   "cell_type": "code",
   "execution_count": 15,
   "id": "de2b0882",
   "metadata": {
    "scrolled": true
   },
   "outputs": [
    {
     "data": {
      "image/png": "[encoded data removed]",
      "text/plain": [
       "<Figure size 360x360 with 1 Axes>"
      ]
     },
     "metadata": {
      "needs_background": "light"
     },
     "output_type": "display_data"
    }
   ],
   "source": [
    "fig = plt.figure(figsize=(5, 5))\n",
    "data_filtered['birds_number'].value_counts().plot(kind='bar')\n",
    "plt.title('Birds per sound')\n",
    "plt.xlabel('Birds number')\n",
    "plt.ylabel('Occurences')\n",
    "plt.show()"
   ]
  },
  {
   "cell_type": "code",
   "execution_count": 16,
   "id": "489d5798",
   "metadata": {},
   "outputs": [
    {
     "data": {
      "text/plain": [
       "1    1197\n",
       "2      35\n",
       "3      23\n",
       "5       5\n",
       "6       3\n",
       "4       3\n",
       "Name: birds_number, dtype: int64"
      ]
     },
     "execution_count": 16,
     "metadata": {},
     "output_type": "execute_result"
    }
   ],
   "source": [
    "data_filtered['birds_number'].value_counts()"
   ]
  },
  {
   "cell_type": "markdown",
   "id": "9b3f0412",
   "metadata": {},
   "source": [
    "## Misc"
   ]
  },
  {
   "cell_type": "code",
   "execution_count": 17,
   "id": "91935c1b",
   "metadata": {},
   "outputs": [
    {
     "data": {
      "text/plain": [
       "skylar     500\n",
       "houfin     322\n",
       "jabwar      78\n",
       "warwhe1     71\n",
       "yefcan      67\n",
       "apapan      47\n",
       "iiwi        37\n",
       "omao        21\n",
       "hawama      21\n",
       "hawcre      20\n",
       "barpet      15\n",
       "akiapo      14\n",
       "elepai      14\n",
       "aniani      12\n",
       "hawgoo       9\n",
       "ercfra       6\n",
       "hawpet1      3\n",
       "puaioh       3\n",
       "hawhaw       3\n",
       "crehon       2\n",
       "maupar       1\n",
       "Name: primary_label, dtype: int64"
      ]
     },
     "execution_count": 17,
     "metadata": {},
     "output_type": "execute_result"
    }
   ],
   "source": [
    "data_filtered['primary_label'].value_counts()"
   ]
  },
  {
   "cell_type": "code",
   "execution_count": 18,
   "id": "22322f0a",
   "metadata": {},
   "outputs": [
    {
     "data": {
      "text/plain": [
       "(1266, 15)"
      ]
     },
     "execution_count": 18,
     "metadata": {},
     "output_type": "execute_result"
    }
   ],
   "source": [
    "data_filtered.shape"
   ]
  },
  {
   "cell_type": "markdown",
   "id": "aa0e0bdc",
   "metadata": {},
   "source": [
    "## Sounds characteristics"
   ]
  },
  {
   "cell_type": "code",
   "execution_count": 19,
   "id": "852345ac",
   "metadata": {},
   "outputs": [],
   "source": [
    "if not os.path.exists(WORKING_PATH + 'sample_rates.jl'):\n",
    "    # Instantiate the progress bar\n",
    "    max_count = data_filtered.shape[0]\n",
    "    f = IntProgress(min=0, max=max_count)\n",
    "    # Display the progress bar\n",
    "    display(f)\n",
    "\n",
    "    sample_rates = {}\n",
    "    durations = []\n",
    "\n",
    "    for index, row in data_filtered.iterrows():\n",
    "        # Increment the progress bar\n",
    "        f.value += 1\n",
    "\n",
    "        # Load sound\n",
    "        file_path = DATA_PATH + 'train_audio/' + row['filename']\n",
    "        audio, sr = librosa.load(file_path)\n",
    "\n",
    "        # Calculate duration\n",
    "        duration = len(audio)/sr\n",
    "\n",
    "        # Store\n",
    "        if sr in sample_rates.keys():\n",
    "            sample_rates[sr] += 1\n",
    "        else:\n",
    "            sample_rates[sr] = 1\n",
    "\n",
    "        durations.append(duration)\n",
    "\n",
    "    # Save\n",
    "    joblib.dump(sample_rates, WORKING_PATH + 'sample_rates.jl')\n",
    "    joblib.dump(durations, WORKING_PATH + 'durations.jl')\n",
    "\n",
    "else:\n",
    "    sample_rates = joblib.load(WORKING_PATH + 'sample_rates.jl')\n",
    "    durations = joblib.load(WORKING_PATH + 'durations.jl')"
   ]
  },
  {
   "cell_type": "code",
   "execution_count": 20,
   "id": "cb533ae3",
   "metadata": {},
   "outputs": [
    {
     "name": "stdout",
     "output_type": "stream",
     "text": [
      "Audios sample rates: {22050: 1266}\n"
     ]
    }
   ],
   "source": [
    "print('Audios sample rates:', sample_rates)"
   ]
  },
  {
   "cell_type": "code",
   "execution_count": 21,
   "id": "2905a64e",
   "metadata": {},
   "outputs": [
    {
     "name": "stdout",
     "output_type": "stream",
     "text": [
      "Audios minimum duration: 1.1160090702947847\n",
      "Audios maximum duration: 996.9840362811791\n",
      "Audios average duration: 53.04552557199815\n"
     ]
    }
   ],
   "source": [
    "durations = np.array(durations)\n",
    "print('Audios minimum duration:', np.min(durations))\n",
    "print('Audios maximum duration:', np.max(durations))\n",
    "print('Audios average duration:', np.mean(durations))"
   ]
  },
  {
   "cell_type": "code",
   "execution_count": 22,
   "id": "28e07057",
   "metadata": {
    "scrolled": true
   },
   "outputs": [
    {
     "data": {
      "image/png": "[encoded data removed]",
      "text/plain": [
       "<Figure size 432x288 with 1 Axes>"
      ]
     },
     "metadata": {
      "needs_background": "light"
     },
     "output_type": "display_data"
    }
   ],
   "source": [
    "plt.boxplot(durations, vert=False, showmeans=True, showfliers=False)\n",
    "plt.title('Audio files duration')\n",
    "plt.xlabel('Seconds')\n",
    "plt.show()"
   ]
  },
  {
   "cell_type": "code",
   "execution_count": 23,
   "id": "49cd365d",
   "metadata": {},
   "outputs": [
    {
     "data": {
      "text/plain": [
       "66.32963718820862"
      ]
     },
     "execution_count": 23,
     "metadata": {},
     "output_type": "execute_result"
    }
   ],
   "source": [
    "np.quantile(durations, 0.75, axis=0)"
   ]
  },
  {
   "cell_type": "code",
   "execution_count": 24,
   "id": "52e39d75",
   "metadata": {},
   "outputs": [
    {
     "data": {
      "text/plain": [
       "53.04552557199815"
      ]
     },
     "execution_count": 24,
     "metadata": {},
     "output_type": "execute_result"
    }
   ],
   "source": [
    "np.mean(durations)"
   ]
  },
  {
   "cell_type": "markdown",
   "id": "bef335f5",
   "metadata": {},
   "source": [
    "## Conclusion\n",
    "\n",
    "- 1266 audio files available for 21 classes\n",
    "- Imbalanced data\n",
    "- Most of the time, a sound contains 1 classe but sometimes more (multilabel)\n",
    "- Sample rate 22050\n",
    "- Sounds average duration is 50.42 seconds"
   ]
  },
  {
   "attachments": {
    "kernel.png": {
     "image/png": "[encoded data removed]"
    }
   },
   "cell_type": "markdown",
   "id": "ec016b42",
   "metadata": {},
   "source": [
    "# Baseline\n",
    "\n",
    "- My baseline comes from the Kaggle kernel\n",
    "\n",
    "![kernel.png](attachment:kernel.png)\n",
    "\n",
    "https://www.kaggle.com/code/duythanhng/birdclef-2022-keras-simple-tutorial\n",
    "\n",
    "- It implements MFCC features extraction + MobileNetV2 for a multiclass classification \n",
    "- It has been trained with the 152 classes available\n",
    "- It obtained a Kaggle submission score of 0.52\n",
    "\n",
    "##### Modifications\n",
    "\n",
    "- Adapt script to PEP8 standard\n",
    "- Correction of cutAudio function for the last chunk to have the same lenght than others\n",
    "- Load extracted features to RAM to speed up the training process\n",
    "- Change learning rate strategy (Monitor val_loss instead of val_f1macro, ReduceLROnPlateau: factor=0.9)\n",
    "- Focus only on 21 scored classes for training\n",
    "- Switch to multi label classification (activation: softmax to sigmoid, loss: categorical_crossentropy to binary_crossentropy)\n",
    "- Data normalization using MobileNetV2 preprocess_input functions\n",
    "- Set up from 1 to 3 channels"
   ]
  },
  {
   "cell_type": "markdown",
   "id": "52386ae0",
   "metadata": {},
   "source": [
    "## Split or load"
   ]
  },
  {
   "cell_type": "code",
   "execution_count": 25,
   "id": "c70a7b3e",
   "metadata": {},
   "outputs": [],
   "source": [
    "def cutAudio(seconds, file_path, is_save):\n",
    "    # First load the file\n",
    "    filename = file_path.replace('/', '_')\n",
    "    file_path = DATA_PATH + 'train_audio/' + file_path\n",
    "    audio, sr = librosa.load(file_path)\n",
    "\n",
    "    # Get number of samples for x seconds\n",
    "    buffer = seconds * sr\n",
    "    block_min = seconds * sr\n",
    "\n",
    "    samples_total = len(audio)\n",
    "    samples_wrote = 0\n",
    "    counter = 1\n",
    "\n",
    "    audio_split = []\n",
    "    audio_filenames = []\n",
    "\n",
    "    while samples_wrote < samples_total:\n",
    "        # check if the buffer is not exceeding total samples\n",
    "        if buffer > (samples_total - samples_wrote):\n",
    "            buffer = samples_total - samples_wrote\n",
    "\n",
    "        block = audio[samples_wrote: (samples_wrote + buffer)]\n",
    "\n",
    "        # check if last block is as long as previous ones\n",
    "        if block.shape[0] < (block_min):\n",
    "            listofzeros = np.array([0] * (block_min - block.shape[0]))\n",
    "            block = np.hstack([block, listofzeros])\n",
    "\n",
    "        audio_split.append(block)\n",
    "\n",
    "        # Write segment\n",
    "        if is_save == True:\n",
    "            out_filename = WORKING_PATH + 'each' + str(seconds) + 's/split_' + \\\n",
    "                str(counter) + '_' + filename\n",
    "            audio_filenames.append(out_filename)\n",
    "            sf.write(out_filename, block, sr)\n",
    "\n",
    "        counter += 1\n",
    "        samples_wrote += buffer\n",
    "\n",
    "    return audio_split, sr, audio_filenames"
   ]
  },
  {
   "cell_type": "code",
   "execution_count": 26,
   "id": "dbe0ea64",
   "metadata": {},
   "outputs": [],
   "source": [
    "def splitTrainAudio(seconds, _df):\n",
    "    # Instantiate the progress bar\n",
    "    max_count = _df.shape[0]\n",
    "    f = IntProgress(min=0, max=max_count)\n",
    "    # Display the progress bar\n",
    "    display(f)\n",
    "\n",
    "    data = []\n",
    "    for index, row in _df.iterrows():\n",
    "        # Increment the progress bar\n",
    "        f.value += 1\n",
    "\n",
    "        audio_lst, sr, filenames = cutAudio(seconds, row['filename'], True)\n",
    "\n",
    "        for idx, y in enumerate(audio_lst):\n",
    "            data.append(\n",
    "                [row['primary_label'], row['secondary_labels'], row['filename'], filenames[idx]])\n",
    "\n",
    "    data_df = pd.DataFrame(\n",
    "        data, columns=['primary_label', 'secondary_labels', 'original_filename', 'filename'])\n",
    "    data_df.to_csv(WORKING_PATH + 'data_' +\n",
    "                   str(seconds) + '_df.csv', index=False)"
   ]
  },
  {
   "cell_type": "code",
   "execution_count": 27,
   "id": "267383c1",
   "metadata": {},
   "outputs": [],
   "source": [
    "if len(os.listdir(WORKING_PATH + 'each5s/')) == 0:\n",
    "    # If not already done, split audio into 5 seconds chunks\n",
    "\n",
    "    # Split audio\n",
    "    splitTrainAudio(5, data_filtered)\n",
    "\n",
    "    # Load split result\n",
    "    data_df = pd.read_csv(WORKING_PATH + 'data_5_df.csv')\n",
    "\n",
    "else:\n",
    "    # If split done, load split result\n",
    "    data_df = pd.read_csv(WORKING_PATH + 'data_5_df.csv')"
   ]
  },
  {
   "cell_type": "markdown",
   "id": "3ff56489",
   "metadata": {},
   "source": [
    "## Create target"
   ]
  },
  {
   "cell_type": "code",
   "execution_count": 28,
   "id": "430abe67",
   "metadata": {},
   "outputs": [],
   "source": [
    "def to_list(df):\n",
    "    temp = []\n",
    "    primary_label = df['primary_label']\n",
    "\n",
    "    if df['secondary_labels'] != '[]':\n",
    "        secondary_labels = df['secondary_labels'].replace(\n",
    "            '[', '').replace(']', '').replace(\"'\", '').replace(' ', '').split(',')\n",
    "    else:\n",
    "        secondary_labels = None\n",
    "\n",
    "    temp.append(primary_label)\n",
    "\n",
    "    if secondary_labels != None:\n",
    "        for item in secondary_labels:\n",
    "            if item in scored_birds:\n",
    "                if item not in temp:\n",
    "                    temp.append(item)\n",
    "\n",
    "    return tuple(temp)"
   ]
  },
  {
   "cell_type": "code",
   "execution_count": 29,
   "id": "e68b9ae9",
   "metadata": {},
   "outputs": [
    {
     "data": {
      "text/html": [
       "<div>\n",
       "<style scoped>\n",
       "    .dataframe tbody tr th:only-of-type {\n",
       "        vertical-align: middle;\n",
       "    }\n",
       "\n",
       "    .dataframe tbody tr th {\n",
       "        vertical-align: top;\n",
       "    }\n",
       "\n",
       "    .dataframe thead th {\n",
       "        text-align: right;\n",
       "    }\n",
       "</style>\n",
       "<table border=\"1\" class=\"dataframe\">\n",
       "  <thead>\n",
       "    <tr style=\"text-align: right;\">\n",
       "      <th></th>\n",
       "      <th>primary_label</th>\n",
       "      <th>secondary_labels</th>\n",
       "      <th>original_filename</th>\n",
       "      <th>filename</th>\n",
       "      <th>target</th>\n",
       "    </tr>\n",
       "  </thead>\n",
       "  <tbody>\n",
       "    <tr>\n",
       "      <th>0</th>\n",
       "      <td>akiapo</td>\n",
       "      <td>['apapan', 'hawama', 'iiwi']</td>\n",
       "      <td>akiapo/XC122399.ogg</td>\n",
       "      <td>./working/final/each5s/split_1_akiapo_XC122399...</td>\n",
       "      <td>(akiapo, apapan, hawama, iiwi)</td>\n",
       "    </tr>\n",
       "    <tr>\n",
       "      <th>1</th>\n",
       "      <td>akiapo</td>\n",
       "      <td>['apapan', 'hawama', 'iiwi']</td>\n",
       "      <td>akiapo/XC122399.ogg</td>\n",
       "      <td>./working/final/each5s/split_2_akiapo_XC122399...</td>\n",
       "      <td>(akiapo, apapan, hawama, iiwi)</td>\n",
       "    </tr>\n",
       "    <tr>\n",
       "      <th>2</th>\n",
       "      <td>akiapo</td>\n",
       "      <td>['apapan', 'hawama', 'iiwi']</td>\n",
       "      <td>akiapo/XC122399.ogg</td>\n",
       "      <td>./working/final/each5s/split_3_akiapo_XC122399...</td>\n",
       "      <td>(akiapo, apapan, hawama, iiwi)</td>\n",
       "    </tr>\n",
       "    <tr>\n",
       "      <th>3</th>\n",
       "      <td>akiapo</td>\n",
       "      <td>['apapan', 'hawama', 'iiwi']</td>\n",
       "      <td>akiapo/XC122399.ogg</td>\n",
       "      <td>./working/final/each5s/split_4_akiapo_XC122399...</td>\n",
       "      <td>(akiapo, apapan, hawama, iiwi)</td>\n",
       "    </tr>\n",
       "    <tr>\n",
       "      <th>4</th>\n",
       "      <td>akiapo</td>\n",
       "      <td>['apapan', 'hawama', 'iiwi']</td>\n",
       "      <td>akiapo/XC122399.ogg</td>\n",
       "      <td>./working/final/each5s/split_5_akiapo_XC122399...</td>\n",
       "      <td>(akiapo, apapan, hawama, iiwi)</td>\n",
       "    </tr>\n",
       "    <tr>\n",
       "      <th>...</th>\n",
       "      <td>...</td>\n",
       "      <td>...</td>\n",
       "      <td>...</td>\n",
       "      <td>...</td>\n",
       "      <td>...</td>\n",
       "    </tr>\n",
       "    <tr>\n",
       "      <th>14075</th>\n",
       "      <td>yefcan</td>\n",
       "      <td>[]</td>\n",
       "      <td>yefcan/XC667142.ogg</td>\n",
       "      <td>./working/final/each5s/split_3_yefcan_XC667142...</td>\n",
       "      <td>(yefcan,)</td>\n",
       "    </tr>\n",
       "    <tr>\n",
       "      <th>14076</th>\n",
       "      <td>yefcan</td>\n",
       "      <td>[]</td>\n",
       "      <td>yefcan/XC667142.ogg</td>\n",
       "      <td>./working/final/each5s/split_4_yefcan_XC667142...</td>\n",
       "      <td>(yefcan,)</td>\n",
       "    </tr>\n",
       "    <tr>\n",
       "      <th>14077</th>\n",
       "      <td>yefcan</td>\n",
       "      <td>[]</td>\n",
       "      <td>yefcan/XC667142.ogg</td>\n",
       "      <td>./working/final/each5s/split_5_yefcan_XC667142...</td>\n",
       "      <td>(yefcan,)</td>\n",
       "    </tr>\n",
       "    <tr>\n",
       "      <th>14078</th>\n",
       "      <td>yefcan</td>\n",
       "      <td>[]</td>\n",
       "      <td>yefcan/XC667142.ogg</td>\n",
       "      <td>./working/final/each5s/split_6_yefcan_XC667142...</td>\n",
       "      <td>(yefcan,)</td>\n",
       "    </tr>\n",
       "    <tr>\n",
       "      <th>14079</th>\n",
       "      <td>yefcan</td>\n",
       "      <td>[]</td>\n",
       "      <td>yefcan/XC667142.ogg</td>\n",
       "      <td>./working/final/each5s/split_7_yefcan_XC667142...</td>\n",
       "      <td>(yefcan,)</td>\n",
       "    </tr>\n",
       "  </tbody>\n",
       "</table>\n",
       "<p>14080 rows × 5 columns</p>\n",
       "</div>"
      ],
      "text/plain": [
       "      primary_label              secondary_labels    original_filename  \\\n",
       "0            akiapo  ['apapan', 'hawama', 'iiwi']  akiapo/XC122399.ogg   \n",
       "1            akiapo  ['apapan', 'hawama', 'iiwi']  akiapo/XC122399.ogg   \n",
       "2            akiapo  ['apapan', 'hawama', 'iiwi']  akiapo/XC122399.ogg   \n",
       "3            akiapo  ['apapan', 'hawama', 'iiwi']  akiapo/XC122399.ogg   \n",
       "4            akiapo  ['apapan', 'hawama', 'iiwi']  akiapo/XC122399.ogg   \n",
       "...             ...                           ...                  ...   \n",
       "14075        yefcan                            []  yefcan/XC667142.ogg   \n",
       "14076        yefcan                            []  yefcan/XC667142.ogg   \n",
       "14077        yefcan                            []  yefcan/XC667142.ogg   \n",
       "14078        yefcan                            []  yefcan/XC667142.ogg   \n",
       "14079        yefcan                            []  yefcan/XC667142.ogg   \n",
       "\n",
       "                                                filename  \\\n",
       "0      ./working/final/each5s/split_1_akiapo_XC122399...   \n",
       "1      ./working/final/each5s/split_2_akiapo_XC122399...   \n",
       "2      ./working/final/each5s/split_3_akiapo_XC122399...   \n",
       "3      ./working/final/each5s/split_4_akiapo_XC122399...   \n",
       "4      ./working/final/each5s/split_5_akiapo_XC122399...   \n",
       "...                                                  ...   \n",
       "14075  ./working/final/each5s/split_3_yefcan_XC667142...   \n",
       "14076  ./working/final/each5s/split_4_yefcan_XC667142...   \n",
       "14077  ./working/final/each5s/split_5_yefcan_XC667142...   \n",
       "14078  ./working/final/each5s/split_6_yefcan_XC667142...   \n",
       "14079  ./working/final/each5s/split_7_yefcan_XC667142...   \n",
       "\n",
       "                               target  \n",
       "0      (akiapo, apapan, hawama, iiwi)  \n",
       "1      (akiapo, apapan, hawama, iiwi)  \n",
       "2      (akiapo, apapan, hawama, iiwi)  \n",
       "3      (akiapo, apapan, hawama, iiwi)  \n",
       "4      (akiapo, apapan, hawama, iiwi)  \n",
       "...                               ...  \n",
       "14075                       (yefcan,)  \n",
       "14076                       (yefcan,)  \n",
       "14077                       (yefcan,)  \n",
       "14078                       (yefcan,)  \n",
       "14079                       (yefcan,)  \n",
       "\n",
       "[14080 rows x 5 columns]"
      ]
     },
     "execution_count": 29,
     "metadata": {},
     "output_type": "execute_result"
    }
   ],
   "source": [
    "# Create target\n",
    "data_df['target'] = data_df.apply(to_list, axis=1)\n",
    "data_df.to_pickle(WORKING_PATH + 'data.pkl')\n",
    "data_df = pd.read_pickle(WORKING_PATH + 'data.pkl')\n",
    "data_df"
   ]
  },
  {
   "cell_type": "markdown",
   "id": "8083ae47",
   "metadata": {},
   "source": [
    "## MultiLabelBinarizer"
   ]
  },
  {
   "cell_type": "code",
   "execution_count": 30,
   "id": "51a8513e",
   "metadata": {},
   "outputs": [
    {
     "data": {
      "text/plain": [
       "array(['akiapo', 'aniani', 'apapan', 'barpet', 'crehon', 'elepai',\n",
       "       'ercfra', 'hawama', 'hawcre', 'hawgoo', 'hawhaw', 'hawpet1',\n",
       "       'houfin', 'iiwi', 'jabwar', 'maupar', 'omao', 'puaioh', 'skylar',\n",
       "       'warwhe1', 'yefcan'], dtype=object)"
      ]
     },
     "execution_count": 30,
     "metadata": {},
     "output_type": "execute_result"
    }
   ],
   "source": [
    "# Fit a MultiLabelBinarizer\n",
    "mlb = MultiLabelBinarizer()\n",
    "mlb.fit(data_df['target'].values.tolist())\n",
    "mlb.classes_"
   ]
  },
  {
   "cell_type": "markdown",
   "id": "13eb6d4f",
   "metadata": {},
   "source": [
    "## Data generator"
   ]
  },
  {
   "cell_type": "code",
   "execution_count": 31,
   "id": "f0990d42",
   "metadata": {},
   "outputs": [],
   "source": [
    "class DataGenerator(Sequence):\n",
    "    def __init__(self,\n",
    "                 _X,\n",
    "                 batch_size=32,\n",
    "                 n_channels=1,\n",
    "                 n_columns=470,\n",
    "                 n_rows=120,\n",
    "                 shuffle=True):\n",
    "        self.batch_size = batch_size\n",
    "        self.X = _X\n",
    "        self.n_channels = n_channels\n",
    "        self.n_columns = n_columns\n",
    "        self.n_rows = n_rows\n",
    "        self.shuffle = shuffle\n",
    "        self.img_indexes = np.arange(len(self.X))\n",
    "        self.on_epoch_end()\n",
    "\n",
    "    def __len__(self):\n",
    "        'Denotes the number of batches per epoch'\n",
    "        return int(np.floor(len(self.img_indexes) / self.batch_size))\n",
    "\n",
    "    def __getitem__(self, index):\n",
    "        'Generate one batch of data'\n",
    "        # Generate indexes of the batch\n",
    "        indexes = self.indexes[index*self.batch_size:(index+1)*self.batch_size]\n",
    "        # Find list of IDs\n",
    "        list_IDs_temps = [self.img_indexes[k] for k in indexes]\n",
    "\n",
    "        # Generate data\n",
    "        X, y = self.__data_generation(list_IDs_temps)\n",
    "        return X, y\n",
    "\n",
    "    def on_epoch_end(self):\n",
    "        'Updates indexes after each epoch'\n",
    "        self.indexes = np.arange(len(self.X))\n",
    "        if self.shuffle == True:\n",
    "            np.random.shuffle(self.indexes)\n",
    "\n",
    "    def __data_generation(self, list_IDs_temps):\n",
    "        X = np.empty((self.batch_size, self.n_rows,\n",
    "                     self.n_columns, self.n_channels))\n",
    "        y = np.empty((self.batch_size, len(mlb.classes_)), dtype=int)\n",
    "        for i, ID in enumerate(list_IDs_temps):\n",
    "            file_path = self.X.iloc[ID]['filename']\n",
    "\n",
    "            #audio, sr = librosa.load(file_path)\n",
    "            #feat = extractFeatures(audio, sr)\n",
    "\n",
    "            feat = data_mem[file_path]\n",
    "\n",
    "            #x_features = feat.tolist()\n",
    "            #X[i] = np.array(x_features)\n",
    "            X[i] = feat\n",
    "\n",
    "            label = self.X.iloc[ID]['target']\n",
    "            y[i] = mlb.transform([label])\n",
    "\n",
    "        return X, y"
   ]
  },
  {
   "cell_type": "code",
   "execution_count": 32,
   "id": "7aa87035",
   "metadata": {},
   "outputs": [],
   "source": [
    "data_mem = {}\n",
    "\n",
    "\n",
    "def LoadRAM():\n",
    "    # Load extracted features into RAM\n",
    "    data_mem.clear()\n",
    "\n",
    "    # Instantiate the progress bar\n",
    "    max_count = data_df.shape[0]\n",
    "    f = IntProgress(min=0, max=max_count)\n",
    "    # Display the progress bar\n",
    "    display(f)\n",
    "\n",
    "    temp = {}\n",
    "\n",
    "    for index, row in data_df.iterrows():\n",
    "        # Increment the progress bar\n",
    "        f.value += 1\n",
    "\n",
    "        # Get file path\n",
    "        file_path = row['filename']\n",
    "        # Load audio file\n",
    "        audio, sr = librosa.load(file_path)\n",
    "        # Extracxt features\n",
    "        feat = extractFeatures(audio, sr)\n",
    "\n",
    "        # Store features into the dedicated dictionary\n",
    "        temp[row['filename']] = feat\n",
    "\n",
    "    return temp"
   ]
  },
  {
   "cell_type": "markdown",
   "id": "49255a9c",
   "metadata": {},
   "source": [
    "## Preprocessing"
   ]
  },
  {
   "cell_type": "code",
   "execution_count": 33,
   "id": "02b40232",
   "metadata": {},
   "outputs": [],
   "source": [
    "def extractFeatures(y, sr):\n",
    "    # Extract mfcc\n",
    "    feat = librosa.feature.mfcc(\n",
    "        y=y, sr=sr, n_mfcc=conf.num_rows, n_mels=conf.n_mels)\n",
    "    # Feed columns with 0 if number of columns < conf.num_columns\n",
    "    if feat.shape[1] <= conf.num_columns:\n",
    "        pad_width = conf.num_columns - feat.shape[1]\n",
    "        feat = np.pad(feat, pad_width=(\n",
    "            (0, 0), (0, pad_width)), mode='constant')\n",
    "    # 3 channels\n",
    "    feat = np.stack([feat, feat, feat], axis=-1)\n",
    "    # preprocess\n",
    "    feat = pimnv2(feat)\n",
    "\n",
    "    X = np.empty((1, conf.num_rows, conf.num_columns, conf.num_channels))\n",
    "    x_features = feat.tolist()\n",
    "    X[0] = np.array(x_features)\n",
    "\n",
    "    return X"
   ]
  },
  {
   "cell_type": "markdown",
   "id": "39c57423",
   "metadata": {},
   "source": [
    "## Model"
   ]
  },
  {
   "cell_type": "code",
   "execution_count": 34,
   "id": "6efebfad",
   "metadata": {},
   "outputs": [],
   "source": [
    "def create_cnn(model_name,\n",
    "               fine_tune_at=None,\n",
    "               model_path=None\n",
    "               ):\n",
    "\n",
    "    # Instanciate model\n",
    "    if model_name == 'MobileNetV2':\n",
    "        base_model = MobileNetV2(include_top=False, input_shape=(\n",
    "            conf.num_rows, conf.num_columns, conf.num_channels), weights='imagenet', pooling='avg')\n",
    "\n",
    "    outputs = Dense(len(mlb.classes_), activation='sigmoid')(base_model.output)\n",
    "\n",
    "    base_model.trainable = False\n",
    "\n",
    "    model = Model(inputs=base_model.input, outputs=outputs)\n",
    "\n",
    "    if fine_tune_at != None:\n",
    "        # Load existing weights\n",
    "        model.load_weights(model_path)\n",
    "\n",
    "        # Unfreeze model layers\n",
    "        model.trainable = True\n",
    "\n",
    "        # Freeze all the layers before the `fine_tune_at` layer\n",
    "        for layer in model.layers[:fine_tune_at]:\n",
    "            layer.trainable = False\n",
    "\n",
    "    return model"
   ]
  },
  {
   "cell_type": "markdown",
   "id": "41c6818a",
   "metadata": {},
   "source": [
    "## Training"
   ]
  },
  {
   "cell_type": "code",
   "execution_count": 35,
   "id": "5b78c6e4",
   "metadata": {},
   "outputs": [],
   "source": [
    "def plot_his(history):\n",
    "    plt.figure(1, figsize = (15,8))\n",
    "    plt.subplot(221)\n",
    "    plt.plot(history.history['f1macro'])\n",
    "    plt.plot(history.history['val_f1macro'])\n",
    "    plt.title('model f1macro')\n",
    "    plt.ylabel('f1macro')\n",
    "    plt.xlabel('epoch')\n",
    "    plt.legend(['train', 'valid'])\n",
    "    plt.subplot(222)\n",
    "    plt.plot(history.history['loss'])\n",
    "    plt.plot(history.history['val_loss'])\n",
    "    plt.title('model loss')\n",
    "    plt.ylabel('loss')\n",
    "    plt.xlabel('epoch')\n",
    "    plt.legend(['train', 'valid'])\n",
    "    plt.show()"
   ]
  },
  {
   "cell_type": "code",
   "execution_count": 36,
   "id": "e5b341eb",
   "metadata": {},
   "outputs": [],
   "source": [
    "class conf:\n",
    "    # Preprocessing settings\n",
    "    n_mels = 224\n",
    "\n",
    "    # Model parameters\n",
    "    num_rows = 224\n",
    "    num_columns = 224\n",
    "    num_channels = 3"
   ]
  },
  {
   "cell_type": "code",
   "execution_count": 37,
   "id": "2094014b",
   "metadata": {},
   "outputs": [],
   "source": [
    "params = dict(\n",
    "    batch_size=32,\n",
    "    n_rows=conf.num_rows,\n",
    "    n_columns=conf.num_columns,\n",
    "    n_channels=conf.num_channels,\n",
    ")\n",
    "params_train = dict(\n",
    "    shuffle=True,\n",
    "    **params\n",
    ")\n",
    "params_valid = dict(\n",
    "    shuffle=False,\n",
    "    **params\n",
    ")"
   ]
  },
  {
   "cell_type": "code",
   "execution_count": 38,
   "id": "98f152d2",
   "metadata": {},
   "outputs": [],
   "source": [
    "def train_model(session_prefix,\n",
    "                model_name,\n",
    "                train_gen,\n",
    "                val_gen,\n",
    "                test_gen,\n",
    "                fine_tune_at,\n",
    "                model_path,\n",
    "                learning_rate,\n",
    "                epochs):\n",
    "\n",
    "    # Define checkpoint_model_path\n",
    "    checkpoint_model_path = WORKING_PATH + session_prefix + model_name + '.h5'\n",
    "\n",
    "    num_epochs = epochs\n",
    "    metric = 'val_loss'\n",
    "\n",
    "    # Callbacks\n",
    "    checkpointer = ModelCheckpoint(filepath=checkpoint_model_path,\n",
    "                                   monitor=metric,\n",
    "                                   mode='min',\n",
    "                                   verbose=1,\n",
    "                                   save_best_only=True)\n",
    "\n",
    "    es_callback = EarlyStopping(monitor=metric,\n",
    "                                mode='min',\n",
    "                                patience=5,\n",
    "                                verbose=1,\n",
    "                                restore_best_weights=True\n",
    "                                )\n",
    "\n",
    "    reduce_lr = ReduceLROnPlateau(monitor=metric,\n",
    "                                  factor=0.9,\n",
    "                                  mode='min',\n",
    "                                  patience=1,\n",
    "                                  verbose=1,\n",
    "                                  min_delta=0.0001,\n",
    "                                  cooldown=1,\n",
    "                                  min_lr=0.00001)\n",
    "\n",
    "    # Model\n",
    "    model = create_cnn(model_name, fine_tune_at, model_path)\n",
    "    model.compile(optimizer=tf.keras.optimizers.Adam(learning_rate=learning_rate),\n",
    "                  loss='binary_crossentropy',\n",
    "                  metrics=[tfa.metrics.F1Score(name='f1macro', num_classes=len(mlb.classes_), average='macro')])\n",
    "\n",
    "    # Fit\n",
    "    history = model.fit(\n",
    "        train_gen,\n",
    "        epochs=num_epochs,\n",
    "        validation_data=val_gen,\n",
    "        callbacks=[checkpointer, es_callback, reduce_lr],\n",
    "        verbose=1\n",
    "    )\n",
    "\n",
    "    # Graph\n",
    "    plot_his(history)\n",
    "\n",
    "    # Scoring\n",
    "    evaluation = model.evaluate_generator(test_gen)\n",
    "    print('Scoring on test set:', evaluation)"
   ]
  },
  {
   "cell_type": "code",
   "execution_count": 37,
   "id": "eaeb2c97",
   "metadata": {},
   "outputs": [
    {
     "data": {
      "application/vnd.jupyter.widget-view+json": {
       "model_id": "90c9668d957e4c38b7406103c5e321cb",
       "version_major": 2,
       "version_minor": 0
      },
      "text/plain": [
       "IntProgress(value=0, max=14080)"
      ]
     },
     "metadata": {},
     "output_type": "display_data"
    }
   ],
   "source": [
    "# Load data in RAM to speed up training process\n",
    "data_mem = LoadRAM()"
   ]
  },
  {
   "cell_type": "code",
   "execution_count": 39,
   "id": "cfb85072",
   "metadata": {},
   "outputs": [],
   "source": [
    "# Split data\n",
    "X_train, X_test, _, _ = train_test_split(\n",
    "    data_df, data_df['target'], test_size=0.1, random_state=42)\n",
    "X_train, X_valid, _, _ = train_test_split(\n",
    "    X_train, X_train['target'], test_size=0.2, random_state=42)\n",
    "\n",
    "# Instanciate data generators\n",
    "train_generator = DataGenerator(X_train, **params_train)\n",
    "valid_generator = DataGenerator(X_valid, **params_valid)\n",
    "test_generator = DataGenerator(X_test, **params_valid)"
   ]
  },
  {
   "cell_type": "code",
   "execution_count": 39,
   "id": "8b1d7d9c",
   "metadata": {
    "scrolled": true
   },
   "outputs": [
    {
     "name": "stdout",
     "output_type": "stream",
     "text": [
      "Epoch 1/50\n",
      "316/316 [==============================] - 16s 36ms/step - loss: 0.1605 - f1macro: 0.0629 - val_loss: 0.1442 - val_f1macro: 0.0740\n",
      "\n",
      "Epoch 00001: val_loss improved from inf to 0.14422, saving model to ./working/final\\baseline_MobileNetV2.h5\n",
      "Epoch 2/50\n",
      "316/316 [==============================] - 11s 34ms/step - loss: 0.1357 - f1macro: 0.1014 - val_loss: 0.1331 - val_f1macro: 0.1222\n",
      "\n",
      "Epoch 00002: val_loss improved from 0.14422 to 0.13308, saving model to ./working/final\\baseline_MobileNetV2.h5\n",
      "Epoch 3/50\n",
      "316/316 [==============================] - 11s 34ms/step - loss: 0.1272 - f1macro: 0.1325 - val_loss: 0.1253 - val_f1macro: 0.1378\n",
      "\n",
      "Epoch 00003: val_loss improved from 0.13308 to 0.12534, saving model to ./working/final\\baseline_MobileNetV2.h5\n",
      "Epoch 4/50\n",
      "316/316 [==============================] - 11s 34ms/step - loss: 0.1218 - f1macro: 0.1492 - val_loss: 0.1222 - val_f1macro: 0.1688\n",
      "\n",
      "Epoch 00004: val_loss improved from 0.12534 to 0.12222, saving model to ./working/final\\baseline_MobileNetV2.h5\n",
      "Epoch 5/50\n",
      "316/316 [==============================] - 11s 34ms/step - loss: 0.1180 - f1macro: 0.1739 - val_loss: 0.1187 - val_f1macro: 0.1720\n",
      "\n",
      "Epoch 00005: val_loss improved from 0.12222 to 0.11872, saving model to ./working/final\\baseline_MobileNetV2.h5\n",
      "Epoch 6/50\n",
      "316/316 [==============================] - 11s 34ms/step - loss: 0.1147 - f1macro: 0.1925 - val_loss: 0.1160 - val_f1macro: 0.1809\n",
      "\n",
      "Epoch 00006: val_loss improved from 0.11872 to 0.11602, saving model to ./working/final\\baseline_MobileNetV2.h5\n",
      "Epoch 7/50\n",
      "316/316 [==============================] - 11s 34ms/step - loss: 0.1120 - f1macro: 0.2173 - val_loss: 0.1151 - val_f1macro: 0.1981\n",
      "\n",
      "Epoch 00007: val_loss improved from 0.11602 to 0.11512, saving model to ./working/final\\baseline_MobileNetV2.h5\n",
      "Epoch 8/50\n",
      "316/316 [==============================] - 11s 34ms/step - loss: 0.1098 - f1macro: 0.2263 - val_loss: 0.1152 - val_f1macro: 0.2106\n",
      "\n",
      "Epoch 00008: val_loss did not improve from 0.11512\n",
      "\n",
      "Epoch 00008: ReduceLROnPlateau reducing learning rate to 0.0009000000427477062.\n",
      "Epoch 9/50\n",
      "316/316 [==============================] - 11s 34ms/step - loss: 0.1077 - f1macro: 0.2546 - val_loss: 0.1126 - val_f1macro: 0.2321\n",
      "\n",
      "Epoch 00009: val_loss improved from 0.11512 to 0.11256, saving model to ./working/final\\baseline_MobileNetV2.h5\n",
      "Epoch 10/50\n",
      "316/316 [==============================] - 11s 34ms/step - loss: 0.1062 - f1macro: 0.2756 - val_loss: 0.1117 - val_f1macro: 0.2452\n",
      "\n",
      "Epoch 00010: val_loss improved from 0.11256 to 0.11166, saving model to ./working/final\\baseline_MobileNetV2.h5\n",
      "Epoch 11/50\n",
      "316/316 [==============================] - 11s 34ms/step - loss: 0.1049 - f1macro: 0.2982 - val_loss: 0.1103 - val_f1macro: 0.2738\n",
      "\n",
      "Epoch 00011: val_loss improved from 0.11166 to 0.11035, saving model to ./working/final\\baseline_MobileNetV2.h5\n",
      "Epoch 12/50\n",
      "316/316 [==============================] - 11s 34ms/step - loss: 0.1038 - f1macro: 0.2841 - val_loss: 0.1103 - val_f1macro: 0.2360\n",
      "\n",
      "Epoch 00012: val_loss improved from 0.11035 to 0.11032, saving model to ./working/final\\baseline_MobileNetV2.h5\n",
      "\n",
      "Epoch 00012: ReduceLROnPlateau reducing learning rate to 0.0008100000384729356.\n",
      "Epoch 13/50\n",
      "316/316 [==============================] - 11s 34ms/step - loss: 0.1023 - f1macro: 0.3337 - val_loss: 0.1095 - val_f1macro: 0.2673\n",
      "\n",
      "Epoch 00013: val_loss improved from 0.11032 to 0.10952, saving model to ./working/final\\baseline_MobileNetV2.h5\n",
      "Epoch 14/50\n",
      "316/316 [==============================] - 11s 34ms/step - loss: 0.1013 - f1macro: 0.3504 - val_loss: 0.1080 - val_f1macro: 0.2730\n",
      "\n",
      "Epoch 00014: val_loss improved from 0.10952 to 0.10800, saving model to ./working/final\\baseline_MobileNetV2.h5\n",
      "Epoch 15/50\n",
      "316/316 [==============================] - 11s 34ms/step - loss: 0.1003 - f1macro: 0.3694 - val_loss: 0.1083 - val_f1macro: 0.2579\n",
      "\n",
      "Epoch 00015: val_loss did not improve from 0.10800\n",
      "\n",
      "Epoch 00015: ReduceLROnPlateau reducing learning rate to 0.0007290000503417104.\n",
      "Epoch 16/50\n",
      "316/316 [==============================] - 11s 34ms/step - loss: 0.0994 - f1macro: 0.3709 - val_loss: 0.1070 - val_f1macro: 0.2570\n",
      "\n",
      "Epoch 00016: val_loss improved from 0.10800 to 0.10705, saving model to ./working/final\\baseline_MobileNetV2.h5\n",
      "Epoch 17/50\n",
      "316/316 [==============================] - 11s 34ms/step - loss: 0.0987 - f1macro: 0.3770 - val_loss: 0.1067 - val_f1macro: 0.2814\n",
      "\n",
      "Epoch 00017: val_loss improved from 0.10705 to 0.10666, saving model to ./working/final\\baseline_MobileNetV2.h5\n",
      "Epoch 18/50\n",
      "316/316 [==============================] - 11s 34ms/step - loss: 0.0979 - f1macro: 0.3905 - val_loss: 0.1067 - val_f1macro: 0.2710\n",
      "\n",
      "Epoch 00018: val_loss did not improve from 0.10666\n",
      "\n",
      "Epoch 00018: ReduceLROnPlateau reducing learning rate to 0.0006561000715009868.\n",
      "Epoch 19/50\n",
      "316/316 [==============================] - 11s 34ms/step - loss: 0.0970 - f1macro: 0.4066 - val_loss: 0.1070 - val_f1macro: 0.2786\n",
      "\n",
      "Epoch 00019: val_loss did not improve from 0.10666\n",
      "\n",
      "Epoch 00019: ReduceLROnPlateau reducing learning rate to 0.0005904900433961303.\n",
      "Epoch 20/50\n",
      "316/316 [==============================] - 11s 34ms/step - loss: 0.0966 - f1macro: 0.4229 - val_loss: 0.1055 - val_f1macro: 0.2984\n",
      "\n",
      "Epoch 00020: val_loss improved from 0.10666 to 0.10553, saving model to ./working/final\\baseline_MobileNetV2.h5\n",
      "Epoch 21/50\n",
      "316/316 [==============================] - 11s 34ms/step - loss: 0.0958 - f1macro: 0.4262 - val_loss: 0.1057 - val_f1macro: 0.2886\n",
      "\n",
      "Epoch 00021: val_loss did not improve from 0.10553\n",
      "\n",
      "Epoch 00021: ReduceLROnPlateau reducing learning rate to 0.0005314410547725857.\n",
      "Epoch 22/50\n",
      "316/316 [==============================] - 11s 34ms/step - loss: 0.0953 - f1macro: 0.4317 - val_loss: 0.1053 - val_f1macro: 0.2815\n",
      "\n",
      "Epoch 00022: val_loss improved from 0.10553 to 0.10531, saving model to ./working/final\\baseline_MobileNetV2.h5\n",
      "Epoch 23/50\n",
      "316/316 [==============================] - 11s 34ms/step - loss: 0.0948 - f1macro: 0.4537 - val_loss: 0.1054 - val_f1macro: 0.3017\n",
      "\n",
      "Epoch 00023: val_loss did not improve from 0.10531\n",
      "\n",
      "Epoch 00023: ReduceLROnPlateau reducing learning rate to 0.00047829695977270604.\n",
      "Epoch 24/50\n",
      "316/316 [==============================] - 11s 34ms/step - loss: 0.0941 - f1macro: 0.4420 - val_loss: 0.1052 - val_f1macro: 0.3109\n",
      "\n",
      "Epoch 00024: val_loss improved from 0.10531 to 0.10517, saving model to ./working/final\\baseline_MobileNetV2.h5\n",
      "Epoch 25/50\n",
      "316/316 [==============================] - 11s 34ms/step - loss: 0.0941 - f1macro: 0.4630 - val_loss: 0.1053 - val_f1macro: 0.2877\n",
      "\n",
      "Epoch 00025: val_loss did not improve from 0.10517\n",
      "\n",
      "Epoch 00025: ReduceLROnPlateau reducing learning rate to 0.0004304672533180565.\n",
      "Epoch 26/50\n",
      "316/316 [==============================] - 11s 34ms/step - loss: 0.0933 - f1macro: 0.4609 - val_loss: 0.1046 - val_f1macro: 0.3038\n",
      "\n",
      "Epoch 00026: val_loss improved from 0.10517 to 0.10457, saving model to ./working/final\\baseline_MobileNetV2.h5\n",
      "Epoch 27/50\n",
      "316/316 [==============================] - 11s 34ms/step - loss: 0.0932 - f1macro: 0.4622 - val_loss: 0.1041 - val_f1macro: 0.3113\n",
      "\n",
      "Epoch 00027: val_loss improved from 0.10457 to 0.10414, saving model to ./working/final\\baseline_MobileNetV2.h5\n",
      "Epoch 28/50\n",
      "316/316 [==============================] - 11s 34ms/step - loss: 0.0927 - f1macro: 0.4717 - val_loss: 0.1042 - val_f1macro: 0.3094\n",
      "\n",
      "Epoch 00028: val_loss did not improve from 0.10414\n",
      "\n",
      "Epoch 00028: ReduceLROnPlateau reducing learning rate to 0.00038742052274756136.\n",
      "Epoch 29/50\n",
      "316/316 [==============================] - 11s 35ms/step - loss: 0.0925 - f1macro: 0.4820 - val_loss: 0.1042 - val_f1macro: 0.3243\n",
      "\n",
      "Epoch 00029: val_loss did not improve from 0.10414\n",
      "\n",
      "Epoch 00029: ReduceLROnPlateau reducing learning rate to 0.0003486784757114947.\n",
      "Epoch 30/50\n",
      "316/316 [==============================] - 11s 34ms/step - loss: 0.0922 - f1macro: 0.4737 - val_loss: 0.1037 - val_f1macro: 0.3233\n",
      "\n",
      "Epoch 00030: val_loss improved from 0.10414 to 0.10366, saving model to ./working/final\\baseline_MobileNetV2.h5\n",
      "Epoch 31/50\n",
      "316/316 [==============================] - 11s 34ms/step - loss: 0.0919 - f1macro: 0.4815 - val_loss: 0.1035 - val_f1macro: 0.3256\n",
      "\n",
      "Epoch 00031: val_loss improved from 0.10366 to 0.10348, saving model to ./working/final\\baseline_MobileNetV2.h5\n",
      "Epoch 32/50\n"
     ]
    },
    {
     "name": "stdout",
     "output_type": "stream",
     "text": [
      "316/316 [==============================] - 11s 34ms/step - loss: 0.0917 - f1macro: 0.4779 - val_loss: 0.1035 - val_f1macro: 0.3161\n",
      "\n",
      "Epoch 00032: val_loss improved from 0.10348 to 0.10347, saving model to ./working/final\\baseline_MobileNetV2.h5\n",
      "\n",
      "Epoch 00032: ReduceLROnPlateau reducing learning rate to 0.00031381062290165574.\n",
      "Epoch 33/50\n",
      "316/316 [==============================] - 11s 34ms/step - loss: 0.0914 - f1macro: 0.4799 - val_loss: 0.1033 - val_f1macro: 0.3399\n",
      "\n",
      "Epoch 00033: val_loss improved from 0.10347 to 0.10326, saving model to ./working/final\\baseline_MobileNetV2.h5\n",
      "Epoch 34/50\n",
      "316/316 [==============================] - 11s 34ms/step - loss: 0.0912 - f1macro: 0.4831 - val_loss: 0.1036 - val_f1macro: 0.3186\n",
      "\n",
      "Epoch 00034: val_loss did not improve from 0.10326\n",
      "\n",
      "Epoch 00034: ReduceLROnPlateau reducing learning rate to 0.0002824295632308349.\n",
      "Epoch 35/50\n",
      "316/316 [==============================] - 11s 34ms/step - loss: 0.0909 - f1macro: 0.4890 - val_loss: 0.1031 - val_f1macro: 0.3342\n",
      "\n",
      "Epoch 00035: val_loss improved from 0.10326 to 0.10308, saving model to ./working/final\\baseline_MobileNetV2.h5\n",
      "Epoch 36/50\n",
      "316/316 [==============================] - 11s 34ms/step - loss: 0.0907 - f1macro: 0.4925 - val_loss: 0.1033 - val_f1macro: 0.3290\n",
      "\n",
      "Epoch 00036: val_loss did not improve from 0.10308\n",
      "\n",
      "Epoch 00036: ReduceLROnPlateau reducing learning rate to 0.00025418660952709616.\n",
      "Epoch 37/50\n",
      "316/316 [==============================] - 11s 34ms/step - loss: 0.0905 - f1macro: 0.4978 - val_loss: 0.1030 - val_f1macro: 0.3243\n",
      "\n",
      "Epoch 00037: val_loss improved from 0.10308 to 0.10298, saving model to ./working/final\\baseline_MobileNetV2.h5\n",
      "\n",
      "Epoch 00037: ReduceLROnPlateau reducing learning rate to 0.00022876793809700757.\n",
      "Epoch 38/50\n",
      "316/316 [==============================] - 11s 34ms/step - loss: 0.0903 - f1macro: 0.4905 - val_loss: 0.1034 - val_f1macro: 0.3234\n",
      "\n",
      "Epoch 00038: val_loss did not improve from 0.10298\n",
      "\n",
      "Epoch 00038: ReduceLROnPlateau reducing learning rate to 0.00020589114428730683.\n",
      "Epoch 39/50\n",
      "316/316 [==============================] - 11s 34ms/step - loss: 0.0901 - f1macro: 0.5014 - val_loss: 0.1029 - val_f1macro: 0.3326\n",
      "\n",
      "Epoch 00039: val_loss improved from 0.10298 to 0.10290, saving model to ./working/final\\baseline_MobileNetV2.h5\n",
      "Epoch 40/50\n",
      "316/316 [==============================] - 11s 34ms/step - loss: 0.0900 - f1macro: 0.4971 - val_loss: 0.1029 - val_f1macro: 0.3281\n",
      "\n",
      "Epoch 00040: val_loss improved from 0.10290 to 0.10287, saving model to ./working/final\\baseline_MobileNetV2.h5\n",
      "\n",
      "Epoch 00040: ReduceLROnPlateau reducing learning rate to 0.00018530203378759326.\n",
      "Epoch 41/50\n",
      "316/316 [==============================] - 11s 34ms/step - loss: 0.0898 - f1macro: 0.4977 - val_loss: 0.1029 - val_f1macro: 0.3289\n",
      "\n",
      "Epoch 00041: val_loss did not improve from 0.10287\n",
      "\n",
      "Epoch 00041: ReduceLROnPlateau reducing learning rate to 0.00016677183302817866.\n",
      "Epoch 42/50\n",
      "316/316 [==============================] - 11s 34ms/step - loss: 0.0897 - f1macro: 0.5043 - val_loss: 0.1027 - val_f1macro: 0.3388\n",
      "\n",
      "Epoch 00042: val_loss improved from 0.10287 to 0.10274, saving model to ./working/final\\baseline_MobileNetV2.h5\n",
      "Epoch 43/50\n",
      "316/316 [==============================] - 11s 34ms/step - loss: 0.0895 - f1macro: 0.5141 - val_loss: 0.1025 - val_f1macro: 0.3373\n",
      "\n",
      "Epoch 00043: val_loss improved from 0.10274 to 0.10251, saving model to ./working/final\\baseline_MobileNetV2.h5\n",
      "Epoch 44/50\n",
      "316/316 [==============================] - 11s 34ms/step - loss: 0.0894 - f1macro: 0.5127 - val_loss: 0.1030 - val_f1macro: 0.3351\n",
      "\n",
      "Epoch 00044: val_loss did not improve from 0.10251\n",
      "\n",
      "Epoch 00044: ReduceLROnPlateau reducing learning rate to 0.00015009464841568844.\n",
      "Epoch 45/50\n",
      "316/316 [==============================] - 11s 34ms/step - loss: 0.0894 - f1macro: 0.5092 - val_loss: 0.1028 - val_f1macro: 0.3390\n",
      "\n",
      "Epoch 00045: val_loss did not improve from 0.10251\n",
      "\n",
      "Epoch 00045: ReduceLROnPlateau reducing learning rate to 0.0001350851875031367.\n",
      "Epoch 46/50\n",
      "316/316 [==============================] - 11s 34ms/step - loss: 0.0892 - f1macro: 0.5071 - val_loss: 0.1028 - val_f1macro: 0.3355\n",
      "\n",
      "Epoch 00046: val_loss did not improve from 0.10251\n",
      "\n",
      "Epoch 00046: ReduceLROnPlateau reducing learning rate to 0.00012157666351413355.\n",
      "Epoch 47/50\n",
      "316/316 [==============================] - 11s 34ms/step - loss: 0.0890 - f1macro: 0.5146 - val_loss: 0.1026 - val_f1macro: 0.3364\n",
      "\n",
      "Epoch 00047: val_loss did not improve from 0.10251\n",
      "\n",
      "Epoch 00047: ReduceLROnPlateau reducing learning rate to 0.00010941899454337544.\n",
      "Epoch 48/50\n",
      "316/316 [==============================] - 11s 34ms/step - loss: 0.0890 - f1macro: 0.5124 - val_loss: 0.1026 - val_f1macro: 0.3344\n",
      "\n",
      "Epoch 00048: val_loss did not improve from 0.10251\n",
      "Restoring model weights from the end of the best epoch.\n",
      "\n",
      "Epoch 00048: ReduceLROnPlateau reducing learning rate to 9.847709443420172e-05.\n",
      "Epoch 00048: early stopping\n"
     ]
    },
    {
     "data": {
      "image/png": "[encoded data removed]",
      "text/plain": [
       "<Figure size 1080x576 with 2 Axes>"
      ]
     },
     "metadata": {
      "needs_background": "light"
     },
     "output_type": "display_data"
    },
    {
     "name": "stdout",
     "output_type": "stream",
     "text": [
      "Scoring on test set: [0.10393772274255753, 0.3079107701778412]\n"
     ]
    }
   ],
   "source": [
    "train_model(session_prefix='baseline_',\n",
    "            model_name='MobileNetV2',\n",
    "            train_gen=train_generator,\n",
    "            val_gen=valid_generator,\n",
    "            test_gen=test_generator,\n",
    "            fine_tune_at=None,\n",
    "            model_path=None,\n",
    "            learning_rate=1e-3,\n",
    "            epochs=50)"
   ]
  },
  {
   "cell_type": "markdown",
   "id": "50b17347",
   "metadata": {},
   "source": [
    "## Conclusion\n",
    "\n",
    "- Score on test set\n",
    "    - F1 macro: 0.3079\n",
    "    - Loss: 0.1039"
   ]
  },
  {
   "cell_type": "code",
   "execution_count": null,
   "id": "88436171",
   "metadata": {},
   "outputs": [],
   "source": []
  }
 ],
 "metadata": {
  "kernelspec": {
   "display_name": "tfp8",
   "language": "python",
   "name": "tfp8"
  },
  "language_info": {
   "codemirror_mode": {
    "name": "ipython",
    "version": 3
   },
   "file_extension": ".py",
   "mimetype": "text/x-python",
   "name": "python",
   "nbconvert_exporter": "python",
   "pygments_lexer": "ipython3",
   "version": "3.9.7"
  },
  "toc": {
   "base_numbering": 1,
   "nav_menu": {},
   "number_sections": true,
   "sideBar": true,
   "skip_h1_title": false,
   "title_cell": "Table of Contents",
   "title_sidebar": "Contents",
   "toc_cell": false,
   "toc_position": {
    "height": "calc(100% - 180px)",
    "left": "10px",
    "top": "150px",
    "width": "307.2px"
   },
   "toc_section_display": true,
   "toc_window_display": true
  }
 },
 "nbformat": 4,
 "nbformat_minor": 5
}
