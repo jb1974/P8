{
 "cells": [
  {
   "cell_type": "markdown",
   "id": "90bff9d0",
   "metadata": {},
   "source": [
    "# Import"
   ]
  },
  {
   "cell_type": "code",
   "execution_count": 1,
   "id": "6ce07718",
   "metadata": {},
   "outputs": [],
   "source": [
    "# Misc\n",
    "import os\n",
    "import json\n",
    "import joblib\n",
    "import warnings\n",
    "from ipywidgets import IntProgress\n",
    "from IPython.display import display\n",
    "\n",
    "# Data management\n",
    "import numpy as np\n",
    "import pandas as pd\n",
    "\n",
    "# Sound treatments\n",
    "import librosa\n",
    "\n",
    "# Plot\n",
    "import matplotlib.pyplot as plt\n",
    "import seaborn as sns"
   ]
  },
  {
   "cell_type": "markdown",
   "id": "577e8401",
   "metadata": {},
   "source": [
    "# Environment"
   ]
  },
  {
   "cell_type": "code",
   "execution_count": 2,
   "id": "69cc41a3",
   "metadata": {},
   "outputs": [],
   "source": [
    "# Allow to display all dataframes columns\n",
    "pd.set_option(\"display.max_columns\", None)"
   ]
  },
  {
   "cell_type": "code",
   "execution_count": 3,
   "id": "53f27839",
   "metadata": {},
   "outputs": [],
   "source": [
    "DATA_PATH = './data/'\n",
    "WORKING_PATH = './working/final/'"
   ]
  },
  {
   "cell_type": "markdown",
   "id": "f043bad6",
   "metadata": {},
   "source": [
    "# Data exploration"
   ]
  },
  {
   "cell_type": "markdown",
   "id": "cd48b93d",
   "metadata": {},
   "source": [
    "## Data load"
   ]
  },
  {
   "cell_type": "code",
   "execution_count": 4,
   "id": "5c081303",
   "metadata": {},
   "outputs": [],
   "source": [
    "# Load meta data\n",
    "train_meta = pd.read_csv(DATA_PATH + 'train_metadata.csv',\n",
    "                         sep=',', decimal='.', encoding='utf8', low_memory=False)"
   ]
  },
  {
   "cell_type": "code",
   "execution_count": 5,
   "id": "911d23a0",
   "metadata": {
    "scrolled": true
   },
   "outputs": [
    {
     "data": {
      "text/html": [
       "<div>\n",
       "<style scoped>\n",
       "    .dataframe tbody tr th:only-of-type {\n",
       "        vertical-align: middle;\n",
       "    }\n",
       "\n",
       "    .dataframe tbody tr th {\n",
       "        vertical-align: top;\n",
       "    }\n",
       "\n",
       "    .dataframe thead th {\n",
       "        text-align: right;\n",
       "    }\n",
       "</style>\n",
       "<table border=\"1\" class=\"dataframe\">\n",
       "  <thead>\n",
       "    <tr style=\"text-align: right;\">\n",
       "      <th></th>\n",
       "      <th>primary_label</th>\n",
       "      <th>secondary_labels</th>\n",
       "      <th>type</th>\n",
       "      <th>latitude</th>\n",
       "      <th>longitude</th>\n",
       "      <th>scientific_name</th>\n",
       "      <th>common_name</th>\n",
       "      <th>author</th>\n",
       "      <th>license</th>\n",
       "      <th>rating</th>\n",
       "      <th>time</th>\n",
       "      <th>url</th>\n",
       "      <th>filename</th>\n",
       "    </tr>\n",
       "  </thead>\n",
       "  <tbody>\n",
       "    <tr>\n",
       "      <th>0</th>\n",
       "      <td>afrsil1</td>\n",
       "      <td>[]</td>\n",
       "      <td>['call', 'flight call']</td>\n",
       "      <td>12.3910</td>\n",
       "      <td>-1.4930</td>\n",
       "      <td>Euodice cantans</td>\n",
       "      <td>African Silverbill</td>\n",
       "      <td>Bram Piot</td>\n",
       "      <td>Creative Commons Attribution-NonCommercial-Sha...</td>\n",
       "      <td>2.5</td>\n",
       "      <td>08:00</td>\n",
       "      <td>https://www.xeno-canto.org/125458</td>\n",
       "      <td>afrsil1/XC125458.ogg</td>\n",
       "    </tr>\n",
       "    <tr>\n",
       "      <th>1</th>\n",
       "      <td>afrsil1</td>\n",
       "      <td>['houspa', 'redava', 'zebdov']</td>\n",
       "      <td>['call']</td>\n",
       "      <td>19.8801</td>\n",
       "      <td>-155.7254</td>\n",
       "      <td>Euodice cantans</td>\n",
       "      <td>African Silverbill</td>\n",
       "      <td>Dan Lane</td>\n",
       "      <td>Creative Commons Attribution-NonCommercial-Sha...</td>\n",
       "      <td>3.5</td>\n",
       "      <td>08:30</td>\n",
       "      <td>https://www.xeno-canto.org/175522</td>\n",
       "      <td>afrsil1/XC175522.ogg</td>\n",
       "    </tr>\n",
       "    <tr>\n",
       "      <th>2</th>\n",
       "      <td>afrsil1</td>\n",
       "      <td>[]</td>\n",
       "      <td>['call', 'song']</td>\n",
       "      <td>16.2901</td>\n",
       "      <td>-16.0321</td>\n",
       "      <td>Euodice cantans</td>\n",
       "      <td>African Silverbill</td>\n",
       "      <td>Bram Piot</td>\n",
       "      <td>Creative Commons Attribution-NonCommercial-Sha...</td>\n",
       "      <td>4.0</td>\n",
       "      <td>11:30</td>\n",
       "      <td>https://www.xeno-canto.org/177993</td>\n",
       "      <td>afrsil1/XC177993.ogg</td>\n",
       "    </tr>\n",
       "    <tr>\n",
       "      <th>3</th>\n",
       "      <td>afrsil1</td>\n",
       "      <td>[]</td>\n",
       "      <td>['alarm call', 'call']</td>\n",
       "      <td>17.0922</td>\n",
       "      <td>54.2958</td>\n",
       "      <td>Euodice cantans</td>\n",
       "      <td>African Silverbill</td>\n",
       "      <td>Oscar Campbell</td>\n",
       "      <td>Creative Commons Attribution-NonCommercial-Sha...</td>\n",
       "      <td>4.0</td>\n",
       "      <td>11:00</td>\n",
       "      <td>https://www.xeno-canto.org/205893</td>\n",
       "      <td>afrsil1/XC205893.ogg</td>\n",
       "    </tr>\n",
       "    <tr>\n",
       "      <th>4</th>\n",
       "      <td>afrsil1</td>\n",
       "      <td>[]</td>\n",
       "      <td>['flight call']</td>\n",
       "      <td>21.4581</td>\n",
       "      <td>-157.7252</td>\n",
       "      <td>Euodice cantans</td>\n",
       "      <td>African Silverbill</td>\n",
       "      <td>Ross Gallardy</td>\n",
       "      <td>Creative Commons Attribution-NonCommercial-Sha...</td>\n",
       "      <td>3.0</td>\n",
       "      <td>16:30</td>\n",
       "      <td>https://www.xeno-canto.org/207431</td>\n",
       "      <td>afrsil1/XC207431.ogg</td>\n",
       "    </tr>\n",
       "  </tbody>\n",
       "</table>\n",
       "</div>"
      ],
      "text/plain": [
       "  primary_label                secondary_labels                     type  \\\n",
       "0       afrsil1                              []  ['call', 'flight call']   \n",
       "1       afrsil1  ['houspa', 'redava', 'zebdov']                 ['call']   \n",
       "2       afrsil1                              []         ['call', 'song']   \n",
       "3       afrsil1                              []   ['alarm call', 'call']   \n",
       "4       afrsil1                              []          ['flight call']   \n",
       "\n",
       "   latitude  longitude  scientific_name         common_name          author  \\\n",
       "0   12.3910    -1.4930  Euodice cantans  African Silverbill       Bram Piot   \n",
       "1   19.8801  -155.7254  Euodice cantans  African Silverbill        Dan Lane   \n",
       "2   16.2901   -16.0321  Euodice cantans  African Silverbill       Bram Piot   \n",
       "3   17.0922    54.2958  Euodice cantans  African Silverbill  Oscar Campbell   \n",
       "4   21.4581  -157.7252  Euodice cantans  African Silverbill   Ross Gallardy   \n",
       "\n",
       "                                             license  rating   time  \\\n",
       "0  Creative Commons Attribution-NonCommercial-Sha...     2.5  08:00   \n",
       "1  Creative Commons Attribution-NonCommercial-Sha...     3.5  08:30   \n",
       "2  Creative Commons Attribution-NonCommercial-Sha...     4.0  11:30   \n",
       "3  Creative Commons Attribution-NonCommercial-Sha...     4.0  11:00   \n",
       "4  Creative Commons Attribution-NonCommercial-Sha...     3.0  16:30   \n",
       "\n",
       "                                 url              filename  \n",
       "0  https://www.xeno-canto.org/125458  afrsil1/XC125458.ogg  \n",
       "1  https://www.xeno-canto.org/175522  afrsil1/XC175522.ogg  \n",
       "2  https://www.xeno-canto.org/177993  afrsil1/XC177993.ogg  \n",
       "3  https://www.xeno-canto.org/205893  afrsil1/XC205893.ogg  \n",
       "4  https://www.xeno-canto.org/207431  afrsil1/XC207431.ogg  "
      ]
     },
     "execution_count": 5,
     "metadata": {},
     "output_type": "execute_result"
    }
   ],
   "source": [
    "train_meta.head()"
   ]
  },
  {
   "cell_type": "code",
   "execution_count": 6,
   "id": "f42ab53c",
   "metadata": {},
   "outputs": [
    {
     "data": {
      "text/plain": [
       "['akiapo',\n",
       " 'aniani',\n",
       " 'apapan',\n",
       " 'barpet',\n",
       " 'crehon',\n",
       " 'elepai',\n",
       " 'ercfra',\n",
       " 'hawama',\n",
       " 'hawcre',\n",
       " 'hawgoo',\n",
       " 'hawhaw',\n",
       " 'hawpet1',\n",
       " 'houfin',\n",
       " 'iiwi',\n",
       " 'jabwar',\n",
       " 'maupar',\n",
       " 'omao',\n",
       " 'puaioh',\n",
       " 'skylar',\n",
       " 'warwhe1',\n",
       " 'yefcan']"
      ]
     },
     "execution_count": 6,
     "metadata": {},
     "output_type": "execute_result"
    }
   ],
   "source": [
    "# Load scored birds\n",
    "with open(DATA_PATH + 'scored_birds.json') as sbfile:\n",
    "    scored_birds = json.load(sbfile)\n",
    "\n",
    "scored_birds"
   ]
  },
  {
   "cell_type": "markdown",
   "id": "534f8608",
   "metadata": {},
   "source": [
    "## Distribution per class"
   ]
  },
  {
   "cell_type": "code",
   "execution_count": 7,
   "id": "fd5df79e",
   "metadata": {},
   "outputs": [
    {
     "data": {
      "image/png": "[encoded data removed]",
      "text/plain": [
       "<Figure size 1152x432 with 1 Axes>"
      ]
     },
     "metadata": {
      "needs_background": "light"
     },
     "output_type": "display_data"
    }
   ],
   "source": [
    "birds = train_meta[\"primary_label\"].value_counts().to_dict()\n",
    "\n",
    "fig = plt.figure(figsize=(16, 6))\n",
    "sns.barplot(x=list(birds.keys()), y=list(birds.values()), color='steelblue')\n",
    "plt.title('Distribution per class')\n",
    "plt.xlabel('Classes')\n",
    "plt.ylabel('Occurences')\n",
    "plt.xticks(rotation=90)\n",
    "plt.show()"
   ]
  },
  {
   "cell_type": "code",
   "execution_count": 8,
   "id": "825efa28",
   "metadata": {},
   "outputs": [
    {
     "name": "stdout",
     "output_type": "stream",
     "text": [
      "Number of classes:  152\n",
      "\n",
      "Minimum number of sounds for the class:  maupar 1\n",
      "Maximum number of sounds for the class:  brnowl 500\n",
      "Total number of sounds:  14852\n",
      "Average number of sounds per classes:  97.71052631578948\n"
     ]
    }
   ],
   "source": [
    "key_max = max(birds.keys(), key=(lambda k: birds[k]))\n",
    "key_min = min(birds.keys(), key=(lambda k: birds[k]))\n",
    "\n",
    "print('Number of classes: ', len(birds.keys()))\n",
    "print('')\n",
    "print('Minimum number of sounds for the class: ',\n",
    "      key_min + ' ' + str(birds[key_min]))\n",
    "print('Maximum number of sounds for the class: ',\n",
    "      key_max + ' ' + str(birds[key_max]))\n",
    "print('Total number of sounds: ', sum(birds.values()))\n",
    "print('Average number of sounds per classes: ',\n",
    "      sum(birds.values()) / len(birds.values()))"
   ]
  },
  {
   "cell_type": "markdown",
   "id": "ddb4781f",
   "metadata": {},
   "source": [
    "## Focus on scored birds"
   ]
  },
  {
   "cell_type": "code",
   "execution_count": 9,
   "id": "62b291c4",
   "metadata": {},
   "outputs": [],
   "source": [
    "# Focus on 21 scored classes\n",
    "data_filtered = train_meta[train_meta['primary_label'].isin(scored_birds)]"
   ]
  },
  {
   "cell_type": "code",
   "execution_count": 10,
   "id": "96342a4e",
   "metadata": {},
   "outputs": [
    {
     "data": {
      "image/png": "[encoded data removed]",
      "text/plain": [
       "<Figure size 1152x432 with 1 Axes>"
      ]
     },
     "metadata": {
      "needs_background": "light"
     },
     "output_type": "display_data"
    }
   ],
   "source": [
    "birds_filtered = data_filtered['primary_label'].value_counts().to_dict()\n",
    "\n",
    "fig = plt.figure(figsize=(16, 6))\n",
    "sns.barplot(x=list(birds_filtered.keys()), y=list(\n",
    "    birds_filtered.values()), color='steelblue')\n",
    "plt.title('Distribution per class')\n",
    "plt.xlabel('Classes')\n",
    "plt.ylabel('Occurences')\n",
    "plt.xticks(rotation=90)\n",
    "plt.show()"
   ]
  },
  {
   "cell_type": "code",
   "execution_count": 11,
   "id": "527d577d",
   "metadata": {},
   "outputs": [
    {
     "name": "stdout",
     "output_type": "stream",
     "text": [
      "Number of classes:  21\n",
      "Missing classes:  set()\n",
      "\n",
      "Minimum number of sounds for the class:  maupar 1\n",
      "Maximum number of sounds for the class:  skylar 500\n",
      "Total number of sounds:  1266\n",
      "Average number of sounds per classes:  60.285714285714285\n"
     ]
    }
   ],
   "source": [
    "key_max = max(birds_filtered.keys(), key=(lambda k: birds_filtered[k]))\n",
    "key_min = min(birds_filtered.keys(), key=(lambda k: birds_filtered[k]))\n",
    "\n",
    "print('Number of classes: ', len(birds_filtered.keys()))\n",
    "print('Missing classes: ', scored_birds-birds_filtered.keys())\n",
    "print('')\n",
    "print('Minimum number of sounds for the class: ',\n",
    "      key_min + ' ' + str(birds_filtered[key_min]))\n",
    "print('Maximum number of sounds for the class: ',\n",
    "      key_max + ' ' + str(birds_filtered[key_max]))\n",
    "print('Total number of sounds: ', sum(birds_filtered.values()))\n",
    "print('Average number of sounds per classes: ', sum(\n",
    "    birds_filtered.values()) / len(birds_filtered.values()))"
   ]
  },
  {
   "cell_type": "markdown",
   "id": "ddb76d1f",
   "metadata": {},
   "source": [
    "## Birds number per sound"
   ]
  },
  {
   "cell_type": "code",
   "execution_count": 12,
   "id": "462d669f",
   "metadata": {},
   "outputs": [
    {
     "name": "stderr",
     "output_type": "stream",
     "text": [
      "C:\\Users\\james\\AppData\\Local\\Temp\\ipykernel_2972\\1351192593.py:8: SettingWithCopyWarning: \n",
      "A value is trying to be set on a copy of a slice from a DataFrame.\n",
      "Try using .loc[row_indexer,col_indexer] = value instead\n",
      "\n",
      "See the caveats in the documentation: https://pandas.pydata.org/pandas-docs/stable/user_guide/indexing.html#returning-a-view-versus-a-copy\n",
      "  data_filtered['secondary_list'] = data_filtered.apply(split_secondary, axis=1)\n"
     ]
    }
   ],
   "source": [
    "# Split secondary_labels in a list of birds\n",
    "def split_secondary(df):\n",
    "    record = df['secondary_labels'].replace(\n",
    "        '[', '').replace(']', '').replace(\"'\", \"\").split(',')\n",
    "    return record\n",
    "\n",
    "\n",
    "data_filtered['secondary_list'] = data_filtered.apply(split_secondary, axis=1)"
   ]
  },
  {
   "cell_type": "code",
   "execution_count": 13,
   "id": "7e515731",
   "metadata": {},
   "outputs": [
    {
     "name": "stderr",
     "output_type": "stream",
     "text": [
      "C:\\Users\\james\\AppData\\Local\\Temp\\ipykernel_2972\\1689811102.py:6: SettingWithCopyWarning: \n",
      "A value is trying to be set on a copy of a slice from a DataFrame.\n",
      "Try using .loc[row_indexer,col_indexer] = value instead\n",
      "\n",
      "See the caveats in the documentation: https://pandas.pydata.org/pandas-docs/stable/user_guide/indexing.html#returning-a-view-versus-a-copy\n",
      "  data_filtered['birds_number'] = data_filtered.apply(birds_number, axis=1)\n"
     ]
    }
   ],
   "source": [
    "# Count the birds in the birds lists\n",
    "def birds_number(df):\n",
    "    return len(df['secondary_list'])\n",
    "\n",
    "\n",
    "data_filtered['birds_number'] = data_filtered.apply(birds_number, axis=1)"
   ]
  },
  {
   "cell_type": "code",
   "execution_count": 14,
   "id": "463e7482",
   "metadata": {},
   "outputs": [
    {
     "name": "stderr",
     "output_type": "stream",
     "text": [
      "C:\\Users\\james\\AppData\\Local\\Temp\\ipykernel_2972\\3902746202.py:1: SettingWithCopyWarning: \n",
      "A value is trying to be set on a copy of a slice from a DataFrame.\n",
      "Try using .loc[row_indexer,col_indexer] = value instead\n",
      "\n",
      "See the caveats in the documentation: https://pandas.pydata.org/pandas-docs/stable/user_guide/indexing.html#returning-a-view-versus-a-copy\n",
      "  data_filtered['secondary_list'] = data_filtered.apply(split_secondary, axis=1)\n",
      "C:\\Users\\james\\AppData\\Local\\Temp\\ipykernel_2972\\3902746202.py:2: SettingWithCopyWarning: \n",
      "A value is trying to be set on a copy of a slice from a DataFrame.\n",
      "Try using .loc[row_indexer,col_indexer] = value instead\n",
      "\n",
      "See the caveats in the documentation: https://pandas.pydata.org/pandas-docs/stable/user_guide/indexing.html#returning-a-view-versus-a-copy\n",
      "  data_filtered['birds_number'] = data_filtered.apply(birds_number, axis=1)\n"
     ]
    }
   ],
   "source": [
    "data_filtered['secondary_list'] = data_filtered.apply(split_secondary, axis=1)\n",
    "data_filtered['birds_number'] = data_filtered.apply(birds_number, axis=1)"
   ]
  },
  {
   "cell_type": "code",
   "execution_count": 15,
   "id": "de2b0882",
   "metadata": {
    "scrolled": true
   },
   "outputs": [
    {
     "data": {
      "image/png": "[encoded data removed]",
      "text/plain": [
       "<Figure size 360x360 with 1 Axes>"
      ]
     },
     "metadata": {
      "needs_background": "light"
     },
     "output_type": "display_data"
    }
   ],
   "source": [
    "fig = plt.figure(figsize=(5, 5))\n",
    "data_filtered['birds_number'].value_counts().plot(kind='bar')\n",
    "plt.title('Birds per sound')\n",
    "plt.xlabel('Birds number')\n",
    "plt.ylabel('Occurences')\n",
    "plt.show()"
   ]
  },
  {
   "cell_type": "code",
   "execution_count": 16,
   "id": "489d5798",
   "metadata": {},
   "outputs": [
    {
     "data": {
      "text/plain": [
       "1    1197\n",
       "2      35\n",
       "3      23\n",
       "5       5\n",
       "6       3\n",
       "4       3\n",
       "Name: birds_number, dtype: int64"
      ]
     },
     "execution_count": 16,
     "metadata": {},
     "output_type": "execute_result"
    }
   ],
   "source": [
    "data_filtered['birds_number'].value_counts()"
   ]
  },
  {
   "cell_type": "markdown",
   "id": "9b3f0412",
   "metadata": {},
   "source": [
    "## Misc"
   ]
  },
  {
   "cell_type": "code",
   "execution_count": 17,
   "id": "91935c1b",
   "metadata": {},
   "outputs": [
    {
     "data": {
      "text/plain": [
       "skylar     500\n",
       "houfin     322\n",
       "jabwar      78\n",
       "warwhe1     71\n",
       "yefcan      67\n",
       "apapan      47\n",
       "iiwi        37\n",
       "omao        21\n",
       "hawama      21\n",
       "hawcre      20\n",
       "barpet      15\n",
       "akiapo      14\n",
       "elepai      14\n",
       "aniani      12\n",
       "hawgoo       9\n",
       "ercfra       6\n",
       "hawpet1      3\n",
       "puaioh       3\n",
       "hawhaw       3\n",
       "crehon       2\n",
       "maupar       1\n",
       "Name: primary_label, dtype: int64"
      ]
     },
     "execution_count": 17,
     "metadata": {},
     "output_type": "execute_result"
    }
   ],
   "source": [
    "data_filtered['primary_label'].value_counts()"
   ]
  },
  {
   "cell_type": "code",
   "execution_count": 18,
   "id": "22322f0a",
   "metadata": {},
   "outputs": [
    {
     "data": {
      "text/plain": [
       "(1266, 15)"
      ]
     },
     "execution_count": 18,
     "metadata": {},
     "output_type": "execute_result"
    }
   ],
   "source": [
    "data_filtered.shape"
   ]
  },
  {
   "cell_type": "markdown",
   "id": "aa0e0bdc",
   "metadata": {},
   "source": [
    "## Sounds characteristics"
   ]
  },
  {
   "cell_type": "code",
   "execution_count": 19,
   "id": "852345ac",
   "metadata": {},
   "outputs": [],
   "source": [
    "if not os.path.exists(WORKING_PATH + 'sample_rates.jl'):\n",
    "    # Instantiate the progress bar\n",
    "    max_count = data_filtered.shape[0]\n",
    "    f = IntProgress(min=0, max=max_count)\n",
    "    # Display the progress bar\n",
    "    display(f)\n",
    "\n",
    "    sample_rates = {}\n",
    "    durations = []\n",
    "\n",
    "    for index, row in data_filtered.iterrows():\n",
    "        # Increment the progress bar\n",
    "        f.value += 1\n",
    "\n",
    "        # Load sound\n",
    "        file_path = DATA_PATH + 'train_audio/' + row['filename']\n",
    "        audio, sr = librosa.load(file_path)\n",
    "\n",
    "        # Calculate duration\n",
    "        duration = len(audio)/sr\n",
    "\n",
    "        # Store\n",
    "        if sr in sample_rates.keys():\n",
    "            sample_rates[sr] += 1\n",
    "        else:\n",
    "            sample_rates[sr] = 1\n",
    "\n",
    "        durations.append(duration)\n",
    "\n",
    "    # Save\n",
    "    joblib.dump(sample_rates, WORKING_PATH + 'sample_rates.jl')\n",
    "    joblib.dump(durations, WORKING_PATH + 'durations.jl')\n",
    "\n",
    "else:\n",
    "    sample_rates = joblib.load(WORKING_PATH + 'sample_rates.jl')\n",
    "    durations = joblib.load(WORKING_PATH + 'durations.jl')"
   ]
  },
  {
   "cell_type": "code",
   "execution_count": 20,
   "id": "cb533ae3",
   "metadata": {},
   "outputs": [
    {
     "name": "stdout",
     "output_type": "stream",
     "text": [
      "Audios sample rates: {22050: 1266}\n"
     ]
    }
   ],
   "source": [
    "print('Audios sample rates:', sample_rates)"
   ]
  },
  {
   "cell_type": "code",
   "execution_count": 21,
   "id": "2905a64e",
   "metadata": {},
   "outputs": [
    {
     "name": "stdout",
     "output_type": "stream",
     "text": [
      "Audios minimum duration: 1.1160090702947847\n",
      "Audios maximum duration: 996.9840362811791\n",
      "Audios average duration: 53.04552557199815\n"
     ]
    }
   ],
   "source": [
    "durations = np.array(durations)\n",
    "print('Audios minimum duration:', np.min(durations))\n",
    "print('Audios maximum duration:', np.max(durations))\n",
    "print('Audios average duration:', np.mean(durations))"
   ]
  },
  {
   "cell_type": "code",
   "execution_count": 22,
   "id": "28e07057",
   "metadata": {
    "scrolled": true
   },
   "outputs": [
    {
     "data": {
      "image/png": "[encoded data removed]",
      "text/plain": [
       "<Figure size 432x288 with 1 Axes>"
      ]
     },
     "metadata": {
      "needs_background": "light"
     },
     "output_type": "display_data"
    }
   ],
   "source": [
    "plt.boxplot(durations, vert=False, showmeans=True, showfliers=False)\n",
    "plt.title('Audio files duration')\n",
    "plt.xlabel('Seconds')\n",
    "plt.show()"
   ]
  },
  {
   "cell_type": "code",
   "execution_count": 23,
   "id": "49cd365d",
   "metadata": {},
   "outputs": [
    {
     "data": {
      "text/plain": [
       "66.32963718820862"
      ]
     },
     "execution_count": 23,
     "metadata": {},
     "output_type": "execute_result"
    }
   ],
   "source": [
    "np.quantile(durations, 0.75, axis=0)"
   ]
  },
  {
   "cell_type": "code",
   "execution_count": 24,
   "id": "433f0f87",
   "metadata": {},
   "outputs": [
    {
     "data": {
      "text/plain": [
       "53.04552557199815"
      ]
     },
     "execution_count": 24,
     "metadata": {},
     "output_type": "execute_result"
    }
   ],
   "source": [
    "np.mean(durations)"
   ]
  },
  {
   "cell_type": "markdown",
   "id": "bef335f5",
   "metadata": {},
   "source": [
    "## Conclusion\n",
    "\n",
    "- 1266 audio files available for 21 classes\n",
    "- Imbalanced data\n",
    "- Most of the time, a sound contains 1 classe but sometimes more (multilabel)\n",
    "- Sample rate 22050\n",
    "- Sounds average duration is 50.42 seconds"
   ]
  },
  {
   "cell_type": "code",
   "execution_count": null,
   "id": "eb9dab9a",
   "metadata": {},
   "outputs": [],
   "source": []
  }
 ],
 "metadata": {
  "kernelspec": {
   "display_name": "tfp8",
   "language": "python",
   "name": "tfp8"
  },
  "language_info": {
   "codemirror_mode": {
    "name": "ipython",
    "version": 3
   },
   "file_extension": ".py",
   "mimetype": "text/x-python",
   "name": "python",
   "nbconvert_exporter": "python",
   "pygments_lexer": "ipython3",
   "version": "3.9.7"
  },
  "toc": {
   "base_numbering": 1,
   "nav_menu": {},
   "number_sections": true,
   "sideBar": true,
   "skip_h1_title": false,
   "title_cell": "Table of Contents",
   "title_sidebar": "Contents",
   "toc_cell": false,
   "toc_position": {
    "height": "calc(100% - 180px)",
    "left": "10px",
    "top": "150px",
    "width": "307.2px"
   },
   "toc_section_display": true,
   "toc_window_display": true
  }
 },
 "nbformat": 4,
 "nbformat_minor": 5
}
