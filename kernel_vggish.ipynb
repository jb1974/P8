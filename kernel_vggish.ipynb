{
 "cells": [
  {
   "cell_type": "markdown",
   "id": "ce5e033d",
   "metadata": {
    "papermill": {
     "duration": 0.015813,
     "end_time": "2022-05-05T21:03:36.225262",
     "exception": false,
     "start_time": "2022-05-05T21:03:36.209449",
     "status": "completed"
    },
    "tags": []
   },
   "source": [
    "# Import"
   ]
  },
  {
   "cell_type": "code",
   "execution_count": 1,
   "id": "a6774791",
   "metadata": {
    "execution": {
     "iopub.execute_input": "2022-05-05T21:03:36.256277Z",
     "iopub.status.busy": "2022-05-05T21:03:36.255934Z",
     "iopub.status.idle": "2022-05-05T21:03:44.694025Z",
     "shell.execute_reply": "2022-05-05T21:03:44.692977Z"
    },
    "papermill": {
     "duration": 8.456726,
     "end_time": "2022-05-05T21:03:44.696648",
     "exception": false,
     "start_time": "2022-05-05T21:03:36.239922",
     "status": "completed"
    },
    "scrolled": true,
    "tags": []
   },
   "outputs": [],
   "source": [
    "# Misc\n",
    "import os\n",
    "import json\n",
    "import warnings\n",
    "\n",
    "# Data management\n",
    "import numpy as np\n",
    "import pandas as pd\n",
    "\n",
    "# Sound treatments\n",
    "import librosa\n",
    "import soundfile as sf\n",
    "import resampy\n",
    "\n",
    "# Model\n",
    "import tensorflow as tf\n",
    "\n",
    "# Metrics\n",
    "import tensorflow_addons as tfa"
   ]
  },
  {
   "cell_type": "markdown",
   "id": "745278db",
   "metadata": {
    "papermill": {
     "duration": 0.015625,
     "end_time": "2022-05-05T21:03:44.728142",
     "exception": false,
     "start_time": "2022-05-05T21:03:44.712517",
     "status": "completed"
    },
    "tags": []
   },
   "source": [
    "# Environment"
   ]
  },
  {
   "cell_type": "code",
   "execution_count": 2,
   "id": "b3bd7cec",
   "metadata": {},
   "outputs": [],
   "source": [
    "# Inactivate warnings\n",
    "warnings.filterwarnings('ignore')"
   ]
  },
  {
   "cell_type": "code",
   "execution_count": 3,
   "id": "b6e2a9da",
   "metadata": {
    "execution": {
     "iopub.execute_input": "2022-05-05T21:03:44.813263Z",
     "iopub.status.busy": "2022-05-05T21:03:44.812899Z",
     "iopub.status.idle": "2022-05-05T21:03:44.817861Z",
     "shell.execute_reply": "2022-05-05T21:03:44.816870Z"
    },
    "papermill": {
     "duration": 0.024182,
     "end_time": "2022-05-05T21:03:44.819854",
     "exception": false,
     "start_time": "2022-05-05T21:03:44.795672",
     "status": "completed"
    },
    "tags": []
   },
   "outputs": [],
   "source": [
    "#DATA_PATH = '/kaggle/input/birdclef-2022/'\n",
    "#WORKING_PATH = '/kaggle/working/'\n",
    "#MODEL_PATH = '/kaggle/input/finalvggish/'\n",
    "\n",
    "DATA_PATH = './data/'\n",
    "WORKING_PATH = './working/kernel/'\n",
    "MODEL_PATH = './working/kernel/'"
   ]
  },
  {
   "cell_type": "markdown",
   "id": "fe562851",
   "metadata": {
    "papermill": {
     "duration": 0.017909,
     "end_time": "2022-05-05T21:03:44.857606",
     "exception": false,
     "start_time": "2022-05-05T21:03:44.839697",
     "status": "completed"
    },
    "tags": []
   },
   "source": [
    "# Data load"
   ]
  },
  {
   "cell_type": "code",
   "execution_count": 4,
   "id": "ee7c2df8",
   "metadata": {
    "execution": {
     "iopub.execute_input": "2022-05-05T21:03:44.891370Z",
     "iopub.status.busy": "2022-05-05T21:03:44.890997Z",
     "iopub.status.idle": "2022-05-05T21:03:45.037262Z",
     "shell.execute_reply": "2022-05-05T21:03:45.036236Z"
    },
    "papermill": {
     "duration": 0.166617,
     "end_time": "2022-05-05T21:03:45.040036",
     "exception": false,
     "start_time": "2022-05-05T21:03:44.873419",
     "status": "completed"
    },
    "scrolled": true,
    "tags": []
   },
   "outputs": [
    {
     "data": {
      "text/plain": [
       "['akiapo',\n",
       " 'aniani',\n",
       " 'apapan',\n",
       " 'barpet',\n",
       " 'crehon',\n",
       " 'elepai',\n",
       " 'ercfra',\n",
       " 'hawama',\n",
       " 'hawcre',\n",
       " 'hawgoo',\n",
       " 'hawhaw',\n",
       " 'hawpet1',\n",
       " 'houfin',\n",
       " 'iiwi',\n",
       " 'jabwar',\n",
       " 'maupar',\n",
       " 'omao',\n",
       " 'puaioh',\n",
       " 'skylar',\n",
       " 'warwhe1',\n",
       " 'yefcan']"
      ]
     },
     "execution_count": 4,
     "metadata": {},
     "output_type": "execute_result"
    }
   ],
   "source": [
    "# Load meta data\n",
    "train_meta = pd.read_csv(DATA_PATH + 'train_metadata.csv')\n",
    "\n",
    "# Load scored birds\n",
    "with open(DATA_PATH + 'scored_birds.json') as sbfile:\n",
    "    scored_birds = json.load(sbfile)\n",
    "\n",
    "# Focus on 21 scored classes\n",
    "labels = list(train_meta[train_meta['primary_label'].isin(\n",
    "    scored_birds)]['primary_label'].unique())\n",
    "labels"
   ]
  },
  {
   "cell_type": "markdown",
   "id": "9b18677c",
   "metadata": {
    "papermill": {
     "duration": 0.018084,
     "end_time": "2022-05-05T21:03:45.078856",
     "exception": false,
     "start_time": "2022-05-05T21:03:45.060772",
     "status": "completed"
    },
    "tags": []
   },
   "source": [
    "# Model"
   ]
  },
  {
   "cell_type": "code",
   "execution_count": 5,
   "id": "e960f209",
   "metadata": {
    "execution": {
     "iopub.execute_input": "2022-05-05T21:03:45.114739Z",
     "iopub.status.busy": "2022-05-05T21:03:45.114450Z",
     "iopub.status.idle": "2022-05-05T21:03:45.119944Z",
     "shell.execute_reply": "2022-05-05T21:03:45.118926Z"
    },
    "papermill": {
     "duration": 0.02554,
     "end_time": "2022-05-05T21:03:45.122039",
     "exception": false,
     "start_time": "2022-05-05T21:03:45.096499",
     "status": "completed"
    },
    "tags": []
   },
   "outputs": [],
   "source": [
    "def create_cnn():\n",
    "\n",
    "    # Instanciate model\n",
    "    base_model, _, _ = vgk.get_embedding_model(hop_duration=0.25)\n",
    "    dense = tf.keras.layers.Dense(128, activation='relu')(base_model.output)\n",
    "    outputs = tf.keras.layers.Dense(len(labels), activation='sigmoid')(dense)\n",
    "\n",
    "    base_model.trainable = False\n",
    "    model = tf.keras.models.Model(inputs=base_model.input, outputs=outputs)\n",
    "\n",
    "    return model"
   ]
  },
  {
   "cell_type": "markdown",
   "id": "a63d1333",
   "metadata": {
    "papermill": {
     "duration": 0.026309,
     "end_time": "2022-05-05T21:03:45.251995",
     "exception": false,
     "start_time": "2022-05-05T21:03:45.225686",
     "status": "completed"
    },
    "tags": []
   },
   "source": [
    "# Preprocessing"
   ]
  },
  {
   "cell_type": "code",
   "execution_count": 6,
   "id": "f09651f5",
   "metadata": {
    "execution": {
     "iopub.execute_input": "2022-05-05T21:03:45.326165Z",
     "iopub.status.busy": "2022-05-05T21:03:45.325567Z",
     "iopub.status.idle": "2022-05-05T21:03:45.331299Z",
     "shell.execute_reply": "2022-05-05T21:03:45.330607Z"
    },
    "papermill": {
     "duration": 0.024562,
     "end_time": "2022-05-05T21:03:45.333454",
     "exception": false,
     "start_time": "2022-05-05T21:03:45.308892",
     "status": "completed"
    },
    "tags": []
   },
   "outputs": [],
   "source": [
    "def extractFeatures(y, sr):\n",
    "    feat = waveform_to_examples(y, sr)\n",
    "        \n",
    "    return feat"
   ]
  },
  {
   "cell_type": "code",
   "execution_count": 7,
   "id": "f004efe1",
   "metadata": {},
   "outputs": [],
   "source": [
    "def waveform_to_examples(data, sample_rate):\n",
    "    # Convert to mono.\n",
    "    if len(data.shape) > 1:\n",
    "        data = np.mean(data, axis=1)\n",
    "    # Resample to the rate assumed by VGGish.\n",
    "    if sample_rate != 16000:\n",
    "        data = resampy.resample(data, sample_rate, 16000)\n",
    "\n",
    "    # Compute log mel spectrogram features.\n",
    "    log_mel = log_mel_spectrogram(\n",
    "        data,\n",
    "        audio_sample_rate=16000,\n",
    "        log_offset=0.01,\n",
    "        window_length_secs=0.025,\n",
    "        hop_length_secs=0.010,\n",
    "        num_mel_bins=64,\n",
    "        lower_edge_hertz=125,\n",
    "        upper_edge_hertz=7500)\n",
    "\n",
    "    # Frame features into examples.\n",
    "    features_sample_rate = 1.0 / 0.010\n",
    "    example_window_length = int(round(0.96 * features_sample_rate))\n",
    "    example_hop_length = int(round(0.96 * features_sample_rate))\n",
    "    log_mel_examples = frame(\n",
    "        log_mel,\n",
    "        window_length=example_window_length,\n",
    "        hop_length=example_hop_length)\n",
    "    return log_mel_examples"
   ]
  },
  {
   "cell_type": "code",
   "execution_count": 8,
   "id": "86404610",
   "metadata": {},
   "outputs": [],
   "source": [
    "def log_mel_spectrogram(data,\n",
    "                        audio_sample_rate=8000,\n",
    "                        log_offset=0.0,\n",
    "                        window_length_secs=0.025,\n",
    "                        hop_length_secs=0.010,\n",
    "                        **kwargs):\n",
    "    window_length_samples = int(round(audio_sample_rate * window_length_secs))\n",
    "    hop_length_samples = int(round(audio_sample_rate * hop_length_secs))\n",
    "    fft_length = 2 ** int(np.ceil(np.log(window_length_samples) / np.log(2.0)))\n",
    "    spectrogram = stft_magnitude(\n",
    "        data,\n",
    "        fft_length=fft_length,\n",
    "        hop_length=hop_length_samples,\n",
    "        window_length=window_length_samples)\n",
    "    mel_spectrogram = np.dot(spectrogram, spectrogram_to_mel_matrix(\n",
    "        num_spectrogram_bins=spectrogram.shape[1],\n",
    "        audio_sample_rate=audio_sample_rate, **kwargs))\n",
    "    return np.log(mel_spectrogram + log_offset)"
   ]
  },
  {
   "cell_type": "code",
   "execution_count": 9,
   "id": "83840804",
   "metadata": {},
   "outputs": [],
   "source": [
    "def frame(data, window_length, hop_length):\n",
    "    num_samples = data.shape[0]\n",
    "    num_frames = 1 + int(np.floor((num_samples - window_length) / hop_length))\n",
    "    shape = (num_frames, window_length) + data.shape[1:]\n",
    "    strides = (data.strides[0] * hop_length,) + data.strides\n",
    "    return np.lib.stride_tricks.as_strided(data, shape=shape, strides=strides)"
   ]
  },
  {
   "cell_type": "code",
   "execution_count": 10,
   "id": "7cf59c38",
   "metadata": {},
   "outputs": [],
   "source": [
    "def stft_magnitude(signal, fft_length,\n",
    "                   hop_length=None,\n",
    "                   window_length=None):\n",
    "    frames = frame(signal, window_length, hop_length)\n",
    "    # Apply frame window to each frame. We use a periodic Hann (cosine of period\n",
    "    # window_length) instead of the symmetric Hann of np.hanning (period\n",
    "    # window_length-1).\n",
    "    window = periodic_hann(window_length)\n",
    "    windowed_frames = frames * window\n",
    "    return np.abs(np.fft.rfft(windowed_frames, int(fft_length)))"
   ]
  },
  {
   "cell_type": "code",
   "execution_count": 11,
   "id": "a2f826cf",
   "metadata": {},
   "outputs": [],
   "source": [
    "def periodic_hann(window_length):\n",
    "    return 0.5 - (0.5 * np.cos(2 * np.pi / window_length *\n",
    "                               np.arange(window_length)))"
   ]
  },
  {
   "cell_type": "code",
   "execution_count": 12,
   "id": "2c5b3b5f",
   "metadata": {},
   "outputs": [],
   "source": [
    "def spectrogram_to_mel_matrix(num_mel_bins=20,\n",
    "                              num_spectrogram_bins=129,\n",
    "                              audio_sample_rate=8000,\n",
    "                              lower_edge_hertz=125.0,\n",
    "                              upper_edge_hertz=3800.0):\n",
    "    nyquist_hertz = audio_sample_rate / 2.\n",
    "    if lower_edge_hertz < 0.0:\n",
    "        raise ValueError(\"lower_edge_hertz %.1f must be >= 0\" %\n",
    "                         lower_edge_hertz)\n",
    "    if lower_edge_hertz >= upper_edge_hertz:\n",
    "        raise ValueError(\"lower_edge_hertz %.1f >= upper_edge_hertz %.1f\" %\n",
    "                         (lower_edge_hertz, upper_edge_hertz))\n",
    "    if upper_edge_hertz > nyquist_hertz:\n",
    "        raise ValueError(\"upper_edge_hertz %.1f is greater than Nyquist %.1f\" %\n",
    "                         (upper_edge_hertz, nyquist_hertz))\n",
    "    spectrogram_bins_hertz = np.linspace(\n",
    "        0.0, nyquist_hertz, num_spectrogram_bins)\n",
    "    spectrogram_bins_mel = hertz_to_mel(spectrogram_bins_hertz)\n",
    "    # The i'th mel band (starting from i=1) has center frequency\n",
    "    # band_edges_mel[i], lower edge band_edges_mel[i-1], and higher edge\n",
    "    # band_edges_mel[i+1].  Thus, we need num_mel_bins + 2 values in\n",
    "    # the band_edges_mel arrays.\n",
    "    band_edges_mel = np.linspace(hertz_to_mel(lower_edge_hertz),\n",
    "                                 hertz_to_mel(upper_edge_hertz), num_mel_bins + 2)\n",
    "    # Matrix to post-multiply feature arrays whose rows are num_spectrogram_bins\n",
    "    # of spectrogram values.\n",
    "    mel_weights_matrix = np.empty((num_spectrogram_bins, num_mel_bins))\n",
    "    for i in range(num_mel_bins):\n",
    "        lower_edge_mel, center_mel, upper_edge_mel = band_edges_mel[i:i + 3]\n",
    "        # Calculate lower and upper slopes for every spectrogram bin.\n",
    "        # Line segments are linear in the *mel* domain, not hertz.\n",
    "        lower_slope = ((spectrogram_bins_mel - lower_edge_mel) /\n",
    "                       (center_mel - lower_edge_mel))\n",
    "        upper_slope = ((upper_edge_mel - spectrogram_bins_mel) /\n",
    "                       (upper_edge_mel - center_mel))\n",
    "        # .. then intersect them with each other and zero.\n",
    "        mel_weights_matrix[:, i] = np.maximum(0.0, np.minimum(lower_slope,\n",
    "                                                              upper_slope))\n",
    "    # HTK excludes the spectrogram DC bin; make sure it always gets a zero\n",
    "    # coefficient.\n",
    "    mel_weights_matrix[0, :] = 0.0\n",
    "    return mel_weights_matrix"
   ]
  },
  {
   "cell_type": "code",
   "execution_count": 13,
   "id": "cd8fd6eb",
   "metadata": {},
   "outputs": [],
   "source": [
    "def hertz_to_mel(frequencies_hertz):\n",
    "    return 1127.0 * np.log(\n",
    "        1.0 + (frequencies_hertz / 700.0))"
   ]
  },
  {
   "cell_type": "markdown",
   "id": "d1e69368",
   "metadata": {
    "papermill": {
     "duration": 0.015704,
     "end_time": "2022-05-05T21:03:45.365017",
     "exception": false,
     "start_time": "2022-05-05T21:03:45.349313",
     "status": "completed"
    },
    "tags": []
   },
   "source": [
    "# Submission"
   ]
  },
  {
   "cell_type": "markdown",
   "id": "aab8895d",
   "metadata": {
    "papermill": {
     "duration": 0.015716,
     "end_time": "2022-05-05T21:03:45.396561",
     "exception": false,
     "start_time": "2022-05-05T21:03:45.380845",
     "status": "completed"
    },
    "tags": []
   },
   "source": [
    "## Load model"
   ]
  },
  {
   "cell_type": "code",
   "execution_count": 14,
   "id": "7da21758",
   "metadata": {},
   "outputs": [],
   "source": [
    "pred_model = tf.keras.models.load_model(MODEL_PATH + 'finetune_da_VGGish.h5',\n",
    "                                        custom_objects={'metric_config': tfa.metrics.F1Score(\n",
    "                                            name='f1macro',\n",
    "                                            num_classes=len(labels),\n",
    "                                            average='macro'\n",
    "                                        )})"
   ]
  },
  {
   "cell_type": "markdown",
   "id": "ed23ff5e",
   "metadata": {
    "papermill": {
     "duration": 0.015517,
     "end_time": "2022-05-05T21:03:48.062171",
     "exception": false,
     "start_time": "2022-05-05T21:03:48.046654",
     "status": "completed"
    },
    "tags": []
   },
   "source": [
    "## Check model"
   ]
  },
  {
   "cell_type": "markdown",
   "id": "a21b5094",
   "metadata": {
    "papermill": {
     "duration": 0.015275,
     "end_time": "2022-05-05T21:03:48.093006",
     "exception": false,
     "start_time": "2022-05-05T21:03:48.077731",
     "status": "completed"
    },
    "tags": []
   },
   "source": [
    "## Process"
   ]
  },
  {
   "cell_type": "code",
   "execution_count": 15,
   "id": "b6566d79",
   "metadata": {
    "execution": {
     "iopub.execute_input": "2022-05-05T21:03:48.126212Z",
     "iopub.status.busy": "2022-05-05T21:03:48.125640Z",
     "iopub.status.idle": "2022-05-05T21:03:48.132574Z",
     "shell.execute_reply": "2022-05-05T21:03:48.131932Z"
    },
    "papermill": {
     "duration": 0.026046,
     "end_time": "2022-05-05T21:03:48.134702",
     "exception": false,
     "start_time": "2022-05-05T21:03:48.108656",
     "status": "completed"
    },
    "tags": []
   },
   "outputs": [
    {
     "name": "stdout",
     "output_type": "stream",
     "text": [
      "Number of test soundscapes: 1\n"
     ]
    }
   ],
   "source": [
    "test_path = DATA_PATH + '/test_soundscapes/'\n",
    "files = [f.split('.')[0] for f in sorted(os.listdir(test_path))]\n",
    "print('Number of test soundscapes:', len(files))"
   ]
  },
  {
   "cell_type": "code",
   "execution_count": 16,
   "id": "8be91ebc",
   "metadata": {},
   "outputs": [],
   "source": [
    "Class_weights = {0: 3.1081275724908664, 1: 3.7656475754076606, 2: 1.0441328733521613, 3: 3.0691726047550407,\n",
    "                 4: 5.264737430672896, 5: 2.8777563180552033, 6: 5.46209686483139, 7: 1.69247564674142,\n",
    "                 8: 2.124710995914189, 9: 4.432477447650233, 10: 4.419574042814324, 11: 4.854309533222602,\n",
    "                 12: 1, 13: 1.2511821233781157, 14: 1.5747391996382374, 15: 4.445549529217585, 16: 1.91982088490933,\n",
    "                 17: 6.173593184059532, 18: 1, 19: 1.3683585469443174, 20: 2.205399907164332}"
   ]
  },
  {
   "cell_type": "code",
   "execution_count": 17,
   "id": "13a91719",
   "metadata": {},
   "outputs": [],
   "source": [
    "def testscore(prediction):   \n",
    "    result = []\n",
    "\n",
    "    for i in range(0, len(prediction)):\n",
    "        if Class_weights[i] < 2:\n",
    "            if prediction[i] >= 1e-1:\n",
    "                result.append(i)\n",
    "        elif Class_weights[i] < 3:\n",
    "            if prediction[i] >= 1e-2:\n",
    "                result.append(i)\n",
    "        elif Class_weights[i] < 4:\n",
    "            if prediction[i] >= 1e-3:\n",
    "                result.append(i)\n",
    "        elif Class_weights[i] < 5:\n",
    "            if prediction[i] >= 1e-4:\n",
    "                result.append(i)\n",
    "        elif Class_weights[i] > 5:\n",
    "            if prediction[i] >= 1e-5:\n",
    "                result.append(i)\n",
    "                \n",
    "    return result"
   ]
  },
  {
   "cell_type": "code",
   "execution_count": 18,
   "id": "5a43280a",
   "metadata": {
    "execution": {
     "iopub.execute_input": "2022-05-05T21:03:48.168594Z",
     "iopub.status.busy": "2022-05-05T21:03:48.168038Z",
     "iopub.status.idle": "2022-05-05T21:03:55.096568Z",
     "shell.execute_reply": "2022-05-05T21:03:55.095706Z"
    },
    "papermill": {
     "duration": 6.947532,
     "end_time": "2022-05-05T21:03:55.098714",
     "exception": false,
     "start_time": "2022-05-05T21:03:48.151182",
     "status": "completed"
    },
    "tags": []
   },
   "outputs": [
    {
     "name": "stdout",
     "output_type": "stream",
     "text": [
      "[2, 4, 7, 13, 14]\n",
      "[2, 7, 14, 18]\n",
      "[14]\n",
      "[2, 4, 7, 10, 13, 14]\n",
      "[2, 7, 13, 14]\n",
      "[2, 4, 7, 13, 14]\n",
      "[2, 4, 7, 13, 14]\n",
      "[2, 14]\n",
      "[2, 7, 13, 14]\n",
      "[13, 14]\n",
      "[2, 7, 13, 14]\n",
      "[2, 7, 13, 14]\n"
     ]
    },
    {
     "data": {
      "text/html": [
       "<div>\n",
       "<style scoped>\n",
       "    .dataframe tbody tr th:only-of-type {\n",
       "        vertical-align: middle;\n",
       "    }\n",
       "\n",
       "    .dataframe tbody tr th {\n",
       "        vertical-align: top;\n",
       "    }\n",
       "\n",
       "    .dataframe thead th {\n",
       "        text-align: right;\n",
       "    }\n",
       "</style>\n",
       "<table border=\"1\" class=\"dataframe\">\n",
       "  <thead>\n",
       "    <tr style=\"text-align: right;\">\n",
       "      <th></th>\n",
       "      <th>row_id</th>\n",
       "      <th>target</th>\n",
       "    </tr>\n",
       "  </thead>\n",
       "  <tbody>\n",
       "    <tr>\n",
       "      <th>0</th>\n",
       "      <td>soundscape_453028782_akiapo_5</td>\n",
       "      <td>False</td>\n",
       "    </tr>\n",
       "    <tr>\n",
       "      <th>1</th>\n",
       "      <td>soundscape_453028782_aniani_5</td>\n",
       "      <td>False</td>\n",
       "    </tr>\n",
       "    <tr>\n",
       "      <th>2</th>\n",
       "      <td>soundscape_453028782_apapan_5</td>\n",
       "      <td>True</td>\n",
       "    </tr>\n",
       "    <tr>\n",
       "      <th>3</th>\n",
       "      <td>soundscape_453028782_barpet_5</td>\n",
       "      <td>False</td>\n",
       "    </tr>\n",
       "    <tr>\n",
       "      <th>4</th>\n",
       "      <td>soundscape_453028782_crehon_5</td>\n",
       "      <td>True</td>\n",
       "    </tr>\n",
       "    <tr>\n",
       "      <th>5</th>\n",
       "      <td>soundscape_453028782_elepai_5</td>\n",
       "      <td>False</td>\n",
       "    </tr>\n",
       "    <tr>\n",
       "      <th>6</th>\n",
       "      <td>soundscape_453028782_ercfra_5</td>\n",
       "      <td>False</td>\n",
       "    </tr>\n",
       "    <tr>\n",
       "      <th>7</th>\n",
       "      <td>soundscape_453028782_hawama_5</td>\n",
       "      <td>True</td>\n",
       "    </tr>\n",
       "    <tr>\n",
       "      <th>8</th>\n",
       "      <td>soundscape_453028782_hawcre_5</td>\n",
       "      <td>False</td>\n",
       "    </tr>\n",
       "    <tr>\n",
       "      <th>9</th>\n",
       "      <td>soundscape_453028782_hawgoo_5</td>\n",
       "      <td>False</td>\n",
       "    </tr>\n",
       "    <tr>\n",
       "      <th>10</th>\n",
       "      <td>soundscape_453028782_hawhaw_5</td>\n",
       "      <td>False</td>\n",
       "    </tr>\n",
       "    <tr>\n",
       "      <th>11</th>\n",
       "      <td>soundscape_453028782_hawpet1_5</td>\n",
       "      <td>False</td>\n",
       "    </tr>\n",
       "    <tr>\n",
       "      <th>12</th>\n",
       "      <td>soundscape_453028782_houfin_5</td>\n",
       "      <td>False</td>\n",
       "    </tr>\n",
       "    <tr>\n",
       "      <th>13</th>\n",
       "      <td>soundscape_453028782_iiwi_5</td>\n",
       "      <td>True</td>\n",
       "    </tr>\n",
       "    <tr>\n",
       "      <th>14</th>\n",
       "      <td>soundscape_453028782_jabwar_5</td>\n",
       "      <td>True</td>\n",
       "    </tr>\n",
       "    <tr>\n",
       "      <th>15</th>\n",
       "      <td>soundscape_453028782_maupar_5</td>\n",
       "      <td>False</td>\n",
       "    </tr>\n",
       "    <tr>\n",
       "      <th>16</th>\n",
       "      <td>soundscape_453028782_omao_5</td>\n",
       "      <td>False</td>\n",
       "    </tr>\n",
       "    <tr>\n",
       "      <th>17</th>\n",
       "      <td>soundscape_453028782_puaioh_5</td>\n",
       "      <td>False</td>\n",
       "    </tr>\n",
       "    <tr>\n",
       "      <th>18</th>\n",
       "      <td>soundscape_453028782_skylar_5</td>\n",
       "      <td>False</td>\n",
       "    </tr>\n",
       "    <tr>\n",
       "      <th>19</th>\n",
       "      <td>soundscape_453028782_warwhe1_5</td>\n",
       "      <td>False</td>\n",
       "    </tr>\n",
       "    <tr>\n",
       "      <th>20</th>\n",
       "      <td>soundscape_453028782_yefcan_5</td>\n",
       "      <td>False</td>\n",
       "    </tr>\n",
       "  </tbody>\n",
       "</table>\n",
       "</div>"
      ],
      "text/plain": [
       "                            row_id  target\n",
       "0    soundscape_453028782_akiapo_5   False\n",
       "1    soundscape_453028782_aniani_5   False\n",
       "2    soundscape_453028782_apapan_5    True\n",
       "3    soundscape_453028782_barpet_5   False\n",
       "4    soundscape_453028782_crehon_5    True\n",
       "5    soundscape_453028782_elepai_5   False\n",
       "6    soundscape_453028782_ercfra_5   False\n",
       "7    soundscape_453028782_hawama_5    True\n",
       "8    soundscape_453028782_hawcre_5   False\n",
       "9    soundscape_453028782_hawgoo_5   False\n",
       "10   soundscape_453028782_hawhaw_5   False\n",
       "11  soundscape_453028782_hawpet1_5   False\n",
       "12   soundscape_453028782_houfin_5   False\n",
       "13     soundscape_453028782_iiwi_5    True\n",
       "14   soundscape_453028782_jabwar_5    True\n",
       "15   soundscape_453028782_maupar_5   False\n",
       "16     soundscape_453028782_omao_5   False\n",
       "17   soundscape_453028782_puaioh_5   False\n",
       "18   soundscape_453028782_skylar_5   False\n",
       "19  soundscape_453028782_warwhe1_5   False\n",
       "20   soundscape_453028782_yefcan_5   False"
      ]
     },
     "execution_count": 18,
     "metadata": {},
     "output_type": "execute_result"
    }
   ],
   "source": [
    "data = []\n",
    "\n",
    "for f in files:\n",
    "    file_path = test_path + f + '.ogg'\n",
    "\n",
    "    # Load audio file\n",
    "    audio, sr = librosa.load(file_path)\n",
    "\n",
    "    # Get number of samples for 5 seconds\n",
    "    buffer = 5 * sr\n",
    "    block_min = 5 * sr\n",
    "\n",
    "    samples_total = len(audio)\n",
    "    samples_wrote = 0\n",
    "    counter = 1\n",
    "\n",
    "    while samples_wrote < samples_total:\n",
    "        # check if the buffer is not exceeding total samples\n",
    "        if buffer > (samples_total - samples_wrote):\n",
    "            buffer = samples_total - samples_wrote\n",
    "\n",
    "        block = audio[samples_wrote: (samples_wrote + buffer)]\n",
    "\n",
    "        # check if last block is as long as previous ones\n",
    "        if block.shape[0] < (block_min):\n",
    "            listofzeros = np.array([0] * (block_min - block.shape[0]))\n",
    "            block = np.hstack([block, listofzeros])\n",
    "\n",
    "        # Features extraction\n",
    "        block = extractFeatures(block, sr)\n",
    "\n",
    "        # Prediction\n",
    "        prediction = []\n",
    "        pred = pred_model.predict(block)\n",
    "        pred = pred.transpose()\n",
    "        \n",
    "        for i in range(0, pred.shape[0]):\n",
    "            prediction.append(np.mean(pred[i]))\n",
    "            \n",
    "        #print('prediction', prediction)\n",
    "           \n",
    "        label_indexes = testscore(prediction)\n",
    "        print(label_indexes)\n",
    "\n",
    "        for b in scored_birds:\n",
    "            segment_end = counter * 5\n",
    "            row_id = f + '_' + b + '_' + str(segment_end)\n",
    "            target = False\n",
    "            for label_index in label_indexes:\n",
    "                if labels[label_index] == b:\n",
    "                    target = True\n",
    "            data.append([row_id, target])\n",
    "        counter += 1\n",
    "        samples_wrote += buffer\n",
    "\n",
    "submission_df = pd.DataFrame(data, columns=['row_id', 'target'])\n",
    "submission_df.head(21)"
   ]
  },
  {
   "cell_type": "code",
   "execution_count": 19,
   "id": "a6d32240",
   "metadata": {
    "execution": {
     "iopub.execute_input": "2022-05-05T21:03:55.137037Z",
     "iopub.status.busy": "2022-05-05T21:03:55.136763Z",
     "iopub.status.idle": "2022-05-05T21:03:55.144205Z",
     "shell.execute_reply": "2022-05-05T21:03:55.143377Z"
    },
    "papermill": {
     "duration": 0.029572,
     "end_time": "2022-05-05T21:03:55.146348",
     "exception": false,
     "start_time": "2022-05-05T21:03:55.116776",
     "status": "completed"
    },
    "tags": []
   },
   "outputs": [],
   "source": [
    "submission_df.to_csv(WORKING_PATH + 'submission.csv', index=False)"
   ]
  },
  {
   "cell_type": "code",
   "execution_count": null,
   "id": "8ab9ed5b",
   "metadata": {
    "papermill": {
     "duration": 0.017675,
     "end_time": "2022-05-05T21:03:55.182114",
     "exception": false,
     "start_time": "2022-05-05T21:03:55.164439",
     "status": "completed"
    },
    "tags": []
   },
   "outputs": [],
   "source": []
  }
 ],
 "metadata": {
  "kernelspec": {
   "display_name": "tfp8",
   "language": "python",
   "name": "tfp8"
  },
  "language_info": {
   "codemirror_mode": {
    "name": "ipython",
    "version": 3
   },
   "file_extension": ".py",
   "mimetype": "text/x-python",
   "name": "python",
   "nbconvert_exporter": "python",
   "pygments_lexer": "ipython3",
   "version": "3.9.7"
  },
  "papermill": {
   "default_parameters": {},
   "duration": 30.407461,
   "end_time": "2022-05-05T21:03:58.275023",
   "environment_variables": {},
   "exception": null,
   "input_path": "__notebook__.ipynb",
   "output_path": "__notebook__.ipynb",
   "parameters": {},
   "start_time": "2022-05-05T21:03:27.867562",
   "version": "2.3.4"
  },
  "toc": {
   "base_numbering": 1,
   "nav_menu": {},
   "number_sections": true,
   "sideBar": true,
   "skip_h1_title": false,
   "title_cell": "Table of Contents",
   "title_sidebar": "Contents",
   "toc_cell": false,
   "toc_position": {
    "height": "calc(100% - 180px)",
    "left": "10px",
    "top": "150px",
    "width": "307.2px"
   },
   "toc_section_display": true,
   "toc_window_display": true
  }
 },
 "nbformat": 4,
 "nbformat_minor": 5
}
